{
 "cells": [
  {
   "cell_type": "code",
   "execution_count": 1,
   "metadata": {},
   "outputs": [],
   "source": [
    "import requests\n",
    "import os\n",
    "import sys\n",
    "import pandas as pd\n",
    "import numpy as np\n",
    "\n",
    "# import key sklearn ml algos\n",
    "# import key sklearn metrics\n",
    "# import \n",
    "\n",
    "from typing import Optional\n",
    "import glob\n",
    "# Add the parent directory of this notebook to sys.path\n",
    "notebook_dir = os.path.dirname(os.path.abspath('__file__'))\n",
    "parent_dir = os.path.dirname(notebook_dir)\n",
    "sys.path.append(parent_dir)\n",
    "\n",
    "\n",
    "import datetime\n",
    "import json\n",
    "from tqdm import tqdm\n",
    "from tqdm.notebook import tqdm\n",
    "import gc\n",
    "# import ds_utils\n",
    "import random\n",
    "import matplotlib.pyplot as plt\n",
    "%matplotlib inline\n",
    "pd.set_option('display.max_colwidth', None)\n",
    "pd.set_option('display.max_rows', 100)\n",
    "pd.set_option('display.max_columns', 100)"
   ]
  },
  {
   "cell_type": "code",
   "execution_count": null,
   "metadata": {},
   "outputs": [],
   "source": [
    "def calculate_track_condition_ratios(df):\n",
    "    # Get all unique track conditions\n",
    "    track_conditions = df['track_condition'].unique()\n",
    "    \n",
    "    # Group by race course track and calculate ratios for each condition\n",
    "    track_counts = df.groupby('race_course_track').size()\n",
    "    \n",
    "    # Calculate ratio for each track condition\n",
    "    for condition in track_conditions:\n",
    "        condition_counts = df[df['track_condition'] == condition].groupby('race_course_track').size()\n",
    "        ratio_col_name = f'{condition}_ratio'\n",
    "        df[ratio_col_name] = df['race_course_track'].map(condition_counts / track_counts)\n",
    "        \n",
    "    # Fill NaN values with 0 (for tracks that don't have a particular condition)\n",
    "    condition_ratio_cols = [f'{c}_ratio' for c in track_conditions]\n",
    "    df[condition_ratio_cols] = df[condition_ratio_cols].fillna(0)\n",
    "    \n",
    "    return df\n",
    "\n",
    "# Calculate track condition ratios\n",
    "df = calculate_track_condition_ratios(df)\n",
    "\n",
    "# Display first few rows of the dataframe with new ratio columns\n",
    "print(\"\\nFirst few rows with track condition ratios:\")\n",
    "display(df.head())\n"
   ]
  },
  {
   "cell_type": "code",
   "execution_count": null,
   "metadata": {},
   "outputs": [],
   "source": []
  },
  {
   "cell_type": "code",
   "execution_count": null,
   "metadata": {},
   "outputs": [],
   "source": []
  },
  {
   "cell_type": "code",
   "execution_count": null,
   "metadata": {},
   "outputs": [],
   "source": []
  }
 ],
 "metadata": {
  "kernelspec": {
   "display_name": "py310",
   "language": "python",
   "name": "python3"
  },
  "language_info": {
   "codemirror_mode": {
    "name": "ipython",
    "version": 3
   },
   "file_extension": ".py",
   "mimetype": "text/x-python",
   "name": "python",
   "nbconvert_exporter": "python",
   "pygments_lexer": "ipython3",
   "version": "3.10.15"
  }
 },
 "nbformat": 4,
 "nbformat_minor": 2
}
