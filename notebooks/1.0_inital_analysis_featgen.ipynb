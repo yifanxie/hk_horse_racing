{
 "cells": [
  {
   "cell_type": "code",
   "execution_count": 304,
   "metadata": {},
   "outputs": [],
   "source": [
    "import requests\n",
    "import os\n",
    "import sys\n",
    "import pandas as pd\n",
    "import numpy as np\n",
    "\n",
    "# import key sklearn ml algos\n",
    "# import key sklearn metrics\n",
    "# import \n",
    "\n",
    "from typing import Optional\n",
    "import glob\n",
    "from scipy import stats\n",
    "# Add the parent directory of this notebook to sys.path\n",
    "notebook_dir = os.path.dirname(os.path.abspath('__file__'))\n",
    "parent_dir = os.path.dirname(notebook_dir)\n",
    "sys.path.append(parent_dir)\n",
    "\n",
    "from project_tools import project_utils, project_class\n",
    "\n",
    "import datetime\n",
    "import json\n",
    "from tqdm.notebook import tqdm\n",
    "import gc\n",
    "# import ds_utils\n",
    "import random\n",
    "import matplotlib.pyplot as plt\n",
    "%matplotlib inline\n",
    "\n",
    "from importlib import reload\n",
    "pd.set_option('display.max_colwidth', None)\n",
    "pd.set_option('display.max_rows', 100)\n",
    "pd.set_option('display.max_columns', 100)\n"
   ]
  },
  {
   "cell_type": "code",
   "execution_count": null,
   "metadata": {},
   "outputs": [],
   "source": [
    "# check package - lightgbm, xgboost, bayesian-optimization, "
   ]
  },
  {
   "cell_type": "code",
   "execution_count": 23,
   "metadata": {},
   "outputs": [],
   "source": [
    "# major technical items to review:\n",
    "# 1. groupby-aggregator handy func\n",
    "# 2. numerai validator class with different algo\n",
    "# 3. null hypo. feature selection routine - if not using the numerai class\n",
    "# 4. weight optimisation routine "
   ]
  },
  {
   "cell_type": "code",
   "execution_count": null,
   "metadata": {},
   "outputs": [],
   "source": [
    "# handy code to develop to prep for interview\n",
    "# 1. final position to target transformation \n",
    "# 2. probability normalization for horses in the same race\n",
    "# 3. prediction optimisation for metric per race "
   ]
  },
  {
   "cell_type": "code",
   "execution_count": 2,
   "metadata": {},
   "outputs": [],
   "source": [
    "# generic plan \n",
    "# 1. set up package and load data\n",
    "# 2. initial analysis\n",
    "# 2.1 dataframe.info \n",
    "# 2.2 key columns format, null count\n",
    "# 2.3 identify data cleaning target\n",
    "# 3. target analysis    \n",
    "# 4. generate measurable targets - if needed \n",
    "# 4.1 identify \"very import features\" - do transformation of those if needed \n",
    "# 5. generate machine trainable dataset - for tree and for linear & NN algo.\n",
    "# 6. generate additional features\n",
    "# 7. \n",
    "\n",
    "\n",
    "# to-do:\n",
    "# 1. create generate data analysis coding blocks including simple visualizations on notebook\n",
    "# 2. switch to jupyber lab setting, and write the code there "
   ]
  },
  {
   "cell_type": "code",
   "execution_count": 281,
   "metadata": {},
   "outputs": [],
   "source": [
    "horse_result_file  = '../data/race-result-horse.csv'\n",
    "race_result_file = '../data/race-result-race.csv'\n",
    "\n",
    "horse_df = pd.read_csv(horse_result_file)\n",
    "race_df = pd.read_csv(race_result_file)\n",
    "\n",
    "horse_df['finishing_position'] = horse_df['finishing_position'].fillna('NA')"
   ]
  },
  {
   "cell_type": "markdown",
   "metadata": {},
   "source": [
    "# data cleaning"
   ]
  },
  {
   "cell_type": "code",
   "execution_count": 282,
   "metadata": {},
   "outputs": [],
   "source": [
    "clean_position = []\n",
    "for i,row in horse_df.iterrows():\n",
    "    row_finishing_position = row['finishing_position']\n",
    "    if 'DH' in row_finishing_position:\n",
    "        row_position = int(row_finishing_position[0])\n",
    "    else:\n",
    "        if str.isdigit(row_finishing_position):\n",
    "            row_position = int(row_finishing_position)\n",
    "        else:\n",
    "            row_position = 99\n",
    "    clean_position.append(row_position)\n",
    "horse_df['clean_position'] = clean_position"
   ]
  },
  {
   "cell_type": "code",
   "execution_count": 283,
   "metadata": {},
   "outputs": [],
   "source": [
    "def text_to_numeric(text):\n",
    "    \"\"\"\n",
    "    Convert text to numeric (int or float), return np.nan if not possible\n",
    "    \n",
    "    Args:\n",
    "        text: Input text/value to convert\n",
    "        \n",
    "    Returns:\n",
    "        int, float or np.nan: Converted numeric value or np.nan if conversion fails\n",
    "    \"\"\"\n",
    "    # Handle None, empty string, or np.nan input\n",
    "    if text is None or text == '' or (isinstance(text, float) and np.isnan(text)):\n",
    "        return np.nan\n",
    "    \n",
    "    # If input is already numeric, return as is\n",
    "    if isinstance(text, (int, float)):\n",
    "        return text\n",
    "    \n",
    "    # Convert to string and strip whitespace\n",
    "    text = str(text).strip()\n",
    "    \n",
    "    try:\n",
    "        # Try integer first\n",
    "        value = int(text)\n",
    "        return value\n",
    "    except ValueError:\n",
    "        try:\n",
    "            # Try float\n",
    "            value = float(text)\n",
    "            return value\n",
    "        except ValueError:\n",
    "            return np.nan"
   ]
  },
  {
   "cell_type": "code",
   "execution_count": 284,
   "metadata": {},
   "outputs": [],
   "source": [
    "def convert_length_behind(text):\n",
    "    \"\"\"\n",
    "    Convert length behind text to numerical value\n",
    "    \n",
    "    Args:\n",
    "        text (str): Text representation of length behind\n",
    "        \n",
    "    Returns:\n",
    "        float: Numerical value of length behind\n",
    "    \"\"\"\n",
    "    # Special case mappings\n",
    "    special_cases = {\n",
    "        '-': 0,\n",
    "        'N': 0.3,\n",
    "        'SH': 0.1,\n",
    "        'HD': 0.25,\n",
    "        'NOSE': 0.05,\n",
    "        '+NOSE': 0.75,\n",
    "        'ML': 50,\n",
    "        '+SH': 0.15,\n",
    "        'TO': 0.1,\n",
    "        '+1/2': 99,\n",
    "        '---': 99\n",
    "    }\n",
    "    \n",
    "    # Check if input is in special cases\n",
    "    if text in special_cases:\n",
    "        return special_cases[text]\n",
    "    \n",
    "    try:\n",
    "        # Try to convert direct number first\n",
    "        return float(text)\n",
    "    except ValueError:\n",
    "        # Handle compound fractions (e.g., \"4-1/4\", \"5-1/2\")\n",
    "        parts = text.split('-')\n",
    "        \n",
    "        if len(parts) == 1:\n",
    "            # Handle pure fractions (e.g., \"1/4\", \"1/2\")\n",
    "            if '/' in parts[0]:\n",
    "                num, denom = map(float, parts[0].split('/'))\n",
    "                return num/denom\n",
    "        else:\n",
    "            # Handle whole number with fraction\n",
    "            whole = float(parts[0])\n",
    "            if '/' in parts[1]:\n",
    "                num, denom = map(float, parts[1].split('/'))\n",
    "                return whole + num/denom\n",
    "            \n",
    "        raise ValueError(f\"Unable to parse length: {text}\")\n",
    "\n",
    "# Example usage:\n",
    "# lengths = ['2', '4-1/4', '5-1/2', 'NOSE', '1/2', 'N']\n",
    "# numeric_lengths = [convert_length_behind(x) for x in lengths]"
   ]
  },
  {
   "cell_type": "code",
   "execution_count": 285,
   "metadata": {},
   "outputs": [],
   "source": [
    "horse_df['clean_actual_weight'] = horse_df['actual_weight'].apply(lambda x: text_to_numeric(x))\n",
    "horse_df['clean_declared_horse_weight'] = horse_df['declared_horse_weight'].apply(lambda x: text_to_numeric(x))"
   ]
  },
  {
   "cell_type": "code",
   "execution_count": 286,
   "metadata": {},
   "outputs": [],
   "source": [
    "horse_df['clean_length_behind_winner'] = horse_df['length_behind_winner'].apply(lambda x: convert_length_behind(x))"
   ]
  },
  {
   "cell_type": "code",
   "execution_count": 288,
   "metadata": {},
   "outputs": [],
   "source": [
    "race_df['race_course_track'] = race_df['race_course'] + '_' + race_df['track']"
   ]
  },
  {
   "cell_type": "code",
   "execution_count": 5,
   "metadata": {},
   "outputs": [],
   "source": [
    "# target generation"
   ]
  },
  {
   "cell_type": "code",
   "execution_count": 287,
   "metadata": {},
   "outputs": [],
   "source": [
    "horse_df['isin_winner'] = (horse_df['clean_position'] == 1).astype(int)\n",
    "horse_df['isin_top3'] = (horse_df['clean_position'] <= 3).astype(int)\n"
   ]
  },
  {
   "cell_type": "markdown",
   "metadata": {},
   "source": [
    "# merge data"
   ]
  },
  {
   "cell_type": "code",
   "execution_count": 291,
   "metadata": {},
   "outputs": [
    {
     "data": {
      "text/plain": [
       "(30189, 37)"
      ]
     },
     "execution_count": 291,
     "metadata": {},
     "output_type": "execute_result"
    }
   ],
   "source": [
    "horse_race_df = horse_df.merge(right=race_df, on=['race_id'], how='left')\n",
    "horse_race_df.shape"
   ]
  },
  {
   "cell_type": "code",
   "execution_count": null,
   "metadata": {},
   "outputs": [],
   "source": []
  },
  {
   "cell_type": "markdown",
   "metadata": {},
   "source": [
    "# feature generation"
   ]
  },
  {
   "cell_type": "code",
   "execution_count": 6,
   "metadata": {},
   "outputs": [],
   "source": [
    "# feature note:\n",
    "# race_course_track: the combination of race_course and track\n",
    "# race course/track feature - sectional time statistics\n",
    "# race cource - race course_track conditional ratio\n",
    "# \n",
    "# horse feature -  ratio between actual weight, declared weight\n",
    "# horse feature - length behind winner statistics\n",
    "# horse feature - running position statistics\n",
    "# horse feature - jockey statistics - avg finishing position (<99)\n",
    "# horse feature - trainer statistic - avg finishing position (<99)\n",
    "# horse feature - failed to finish ration - num <99 / num_races\n",
    " \n",
    "# horse race feature - finish time/course length\n",
    "# horse race feature - \n",
    "\n",
    "\n",
    "\n",
    "# ask perplexity for features engineering idea"
   ]
  },
  {
   "cell_type": "markdown",
   "metadata": {},
   "source": [
    "# race course features"
   ]
  },
  {
   "cell_type": "code",
   "execution_count": 9,
   "metadata": {},
   "outputs": [],
   "source": [
    "\n"
   ]
  },
  {
   "cell_type": "code",
   "execution_count": 292,
   "metadata": {},
   "outputs": [],
   "source": [
    "# Pattern classification\n",
    "def classify_race_pattern(times):\n",
    "    times = times.astype(float)\n",
    "    diffs = np.diff(times)\n",
    "    if all(diffs < 0):\n",
    "        return 'progressive_speedup'\n",
    "    elif all(diffs > 0):\n",
    "        return 'progressive_slowdown'\n",
    "    elif diffs[0] < 0 and diffs[-1] > 0:\n",
    "        return 'middle_burst'\n",
    "    elif diffs[0] > 0 and diffs[-1] < 0:\n",
    "        return 'strong_finish'\n",
    "    return 'mixed'"
   ]
  },
  {
   "cell_type": "code",
   "execution_count": 293,
   "metadata": {},
   "outputs": [
    {
     "data": {
      "application/vnd.jupyter.widget-view+json": {
       "model_id": "df89f201441942fe8f993cb4dd3812b8",
       "version_major": 2,
       "version_minor": 0
      },
      "text/plain": [
       "  0%|          | 0/2367 [00:00<?, ?it/s]"
      ]
     },
     "metadata": {},
     "output_type": "display_data"
    }
   ],
   "source": [
    "race_course_features = []\n",
    "for i,row in tqdm(race_df.iterrows(), total=len(race_df)):\n",
    "    stime_items = np.array(row['sectional_time'].split(' ')).astype(float)    \n",
    "    item_dict = dict()\n",
    "    item_dict['race_id'] = row['race_id']\n",
    "    item_dict['stime_min'] = stime_items.min()\n",
    "    item_dict['stime_max'] = stime_items.max()\n",
    "    item_dict['stime_mean'] = stime_items.mean()\n",
    "    item_dict['stime_std'] = stime_items.std()\n",
    "    stime_diffs = np.diff(stime_items)\n",
    "    item_dict['stime_diffs'] = stime_diffs\n",
    "    item_dict['stime_pace_variance'] = np.var(stime_diffs)\n",
    "    item_dict['stime_max_pace_change'] = np.abs(stime_diffs).max()\n",
    "    item_dict['stime_skewness'] = stats.skew(stime_items)\n",
    "    \n",
    "    item_dict['stime_first_half_avg'] = np.mean(stime_items[:len(stime_items)//2].astype(float))\n",
    "    item_dict['stime_second_half_avg'] = np.mean(stime_items[len(stime_items)//2:].astype(float))\n",
    "    item_dict['stime_speed_bias'] = item_dict['stime_second_half_avg'] - item_dict['stime_first_half_avg']  # Negative means faster finish\n",
    "\n",
    "    # Percentile-based features\n",
    "    item_dict['stime_percentiles'] = np.percentile(stime_items.astype(float), [25, 75])\n",
    "    item_dict['stime_iqr'] = item_dict['stime_percentiles'][1] - item_dict['stime_percentiles'][0]\n",
    "\n",
    "    # Section comparisons\n",
    "    item_dict['stime_fastest_section_idx'] = np.argmin(stime_items.astype(float))\n",
    "    item_dict['stime_slowest_section_idx'] = np.argmax(stime_items.astype(float))\n",
    "\n",
    "\n",
    "    # Trend analysis\n",
    "    item_dict['is_getting_faster'] = all(stime_diffs < 0)  # True if consistently speeding up\n",
    "    item_dict['is_getting_slower'] = all(stime_diffs > 0)  # True if consistently slowing down\n",
    "\n",
    "    item_dict['race_pattern'] = classify_race_pattern(stime_items)\n",
    "    race_course_features.append(item_dict)    \n",
    "# break\n",
    "# stime_\n",
    "\n",
    "rc_features = pd.DataFrame.from_dict(race_course_features)\n",
    "\n"
   ]
  },
  {
   "cell_type": "code",
   "execution_count": 294,
   "metadata": {},
   "outputs": [
    {
     "data": {
      "text/plain": [
       "(2367, 19)"
      ]
     },
     "execution_count": 294,
     "metadata": {},
     "output_type": "execute_result"
    }
   ],
   "source": [
    "rc_features.shape"
   ]
  },
  {
   "cell_type": "code",
   "execution_count": 295,
   "metadata": {},
   "outputs": [
    {
     "data": {
      "text/html": [
       "<div>\n",
       "<style scoped>\n",
       "    .dataframe tbody tr th:only-of-type {\n",
       "        vertical-align: middle;\n",
       "    }\n",
       "\n",
       "    .dataframe tbody tr th {\n",
       "        vertical-align: top;\n",
       "    }\n",
       "\n",
       "    .dataframe thead th {\n",
       "        text-align: right;\n",
       "    }\n",
       "</style>\n",
       "<table border=\"1\" class=\"dataframe\">\n",
       "  <thead>\n",
       "    <tr style=\"text-align: right;\">\n",
       "      <th></th>\n",
       "      <th>race_id</th>\n",
       "      <th>stime_min</th>\n",
       "      <th>stime_max</th>\n",
       "      <th>stime_mean</th>\n",
       "      <th>stime_std</th>\n",
       "      <th>stime_diffs</th>\n",
       "      <th>stime_pace_variance</th>\n",
       "      <th>stime_max_pace_change</th>\n",
       "      <th>stime_skewness</th>\n",
       "      <th>stime_first_half_avg</th>\n",
       "      <th>stime_second_half_avg</th>\n",
       "      <th>stime_speed_bias</th>\n",
       "      <th>stime_percentiles</th>\n",
       "      <th>stime_iqr</th>\n",
       "      <th>stime_fastest_section_idx</th>\n",
       "      <th>stime_slowest_section_idx</th>\n",
       "      <th>is_getting_faster</th>\n",
       "      <th>is_getting_slower</th>\n",
       "      <th>race_pattern</th>\n",
       "    </tr>\n",
       "  </thead>\n",
       "  <tbody>\n",
       "    <tr>\n",
       "      <th>687</th>\n",
       "      <td>2014-688</td>\n",
       "      <td>22.36</td>\n",
       "      <td>23.80</td>\n",
       "      <td>23.126667</td>\n",
       "      <td>0.591570</td>\n",
       "      <td>[-1.4400000000000013, 0.8599999999999994]</td>\n",
       "      <td>1.322500</td>\n",
       "      <td>1.44</td>\n",
       "      <td>-0.232731</td>\n",
       "      <td>23.800000</td>\n",
       "      <td>22.79</td>\n",
       "      <td>-1.010000</td>\n",
       "      <td>[22.79, 23.509999999999998]</td>\n",
       "      <td>0.7200</td>\n",
       "      <td>1</td>\n",
       "      <td>0</td>\n",
       "      <td>False</td>\n",
       "      <td>False</td>\n",
       "      <td>middle_burst</td>\n",
       "    </tr>\n",
       "    <tr>\n",
       "      <th>382</th>\n",
       "      <td>2014-383</td>\n",
       "      <td>14.12</td>\n",
       "      <td>26.41</td>\n",
       "      <td>23.073333</td>\n",
       "      <td>4.112792</td>\n",
       "      <td>[9.070000000000002, 1.9499999999999993, 1.2699999999999996, -1.7100000000000009, 0.17999999999999972]</td>\n",
       "      <td>13.496256</td>\n",
       "      <td>9.07</td>\n",
       "      <td>-1.584875</td>\n",
       "      <td>20.816667</td>\n",
       "      <td>25.33</td>\n",
       "      <td>4.513333</td>\n",
       "      <td>[23.567500000000003, 25.075]</td>\n",
       "      <td>1.5075</td>\n",
       "      <td>0</td>\n",
       "      <td>3</td>\n",
       "      <td>False</td>\n",
       "      <td>False</td>\n",
       "      <td>mixed</td>\n",
       "    </tr>\n",
       "    <tr>\n",
       "      <th>891</th>\n",
       "      <td>2015-113</td>\n",
       "      <td>22.84</td>\n",
       "      <td>23.64</td>\n",
       "      <td>23.200000</td>\n",
       "      <td>0.331461</td>\n",
       "      <td>[-0.8000000000000007, 0.28000000000000114]</td>\n",
       "      <td>0.291600</td>\n",
       "      <td>0.80</td>\n",
       "      <td>0.347974</td>\n",
       "      <td>23.640000</td>\n",
       "      <td>22.98</td>\n",
       "      <td>-0.660000</td>\n",
       "      <td>[22.98, 23.380000000000003]</td>\n",
       "      <td>0.4000</td>\n",
       "      <td>1</td>\n",
       "      <td>0</td>\n",
       "      <td>False</td>\n",
       "      <td>False</td>\n",
       "      <td>middle_burst</td>\n",
       "    </tr>\n",
       "    <tr>\n",
       "      <th>623</th>\n",
       "      <td>2014-623</td>\n",
       "      <td>13.81</td>\n",
       "      <td>24.44</td>\n",
       "      <td>21.618000</td>\n",
       "      <td>3.951432</td>\n",
       "      <td>[8.74, 1.259999999999998, 0.6300000000000026, -0.9600000000000009]</td>\n",
       "      <td>13.979119</td>\n",
       "      <td>8.74</td>\n",
       "      <td>-1.412526</td>\n",
       "      <td>18.180000</td>\n",
       "      <td>23.91</td>\n",
       "      <td>5.730000</td>\n",
       "      <td>[22.55, 23.81]</td>\n",
       "      <td>1.2600</td>\n",
       "      <td>0</td>\n",
       "      <td>3</td>\n",
       "      <td>False</td>\n",
       "      <td>False</td>\n",
       "      <td>strong_finish</td>\n",
       "    </tr>\n",
       "    <tr>\n",
       "      <th>1049</th>\n",
       "      <td>2015-273</td>\n",
       "      <td>23.61</td>\n",
       "      <td>28.16</td>\n",
       "      <td>25.222500</td>\n",
       "      <td>1.790731</td>\n",
       "      <td>[-4.550000000000001, 1.5500000000000007, -1.1999999999999993]</td>\n",
       "      <td>6.221667</td>\n",
       "      <td>4.55</td>\n",
       "      <td>0.833371</td>\n",
       "      <td>25.885000</td>\n",
       "      <td>24.56</td>\n",
       "      <td>-1.325000</td>\n",
       "      <td>[23.872500000000002, 25.91]</td>\n",
       "      <td>2.0375</td>\n",
       "      <td>1</td>\n",
       "      <td>0</td>\n",
       "      <td>False</td>\n",
       "      <td>False</td>\n",
       "      <td>mixed</td>\n",
       "    </tr>\n",
       "  </tbody>\n",
       "</table>\n",
       "</div>"
      ],
      "text/plain": [
       "       race_id  stime_min  stime_max  stime_mean  stime_std  \\\n",
       "687   2014-688      22.36      23.80   23.126667   0.591570   \n",
       "382   2014-383      14.12      26.41   23.073333   4.112792   \n",
       "891   2015-113      22.84      23.64   23.200000   0.331461   \n",
       "623   2014-623      13.81      24.44   21.618000   3.951432   \n",
       "1049  2015-273      23.61      28.16   25.222500   1.790731   \n",
       "\n",
       "                                                                                                stime_diffs  \\\n",
       "687                                                               [-1.4400000000000013, 0.8599999999999994]   \n",
       "382   [9.070000000000002, 1.9499999999999993, 1.2699999999999996, -1.7100000000000009, 0.17999999999999972]   \n",
       "891                                                              [-0.8000000000000007, 0.28000000000000114]   \n",
       "623                                      [8.74, 1.259999999999998, 0.6300000000000026, -0.9600000000000009]   \n",
       "1049                                          [-4.550000000000001, 1.5500000000000007, -1.1999999999999993]   \n",
       "\n",
       "      stime_pace_variance  stime_max_pace_change  stime_skewness  \\\n",
       "687              1.322500                   1.44       -0.232731   \n",
       "382             13.496256                   9.07       -1.584875   \n",
       "891              0.291600                   0.80        0.347974   \n",
       "623             13.979119                   8.74       -1.412526   \n",
       "1049             6.221667                   4.55        0.833371   \n",
       "\n",
       "      stime_first_half_avg  stime_second_half_avg  stime_speed_bias  \\\n",
       "687              23.800000                  22.79         -1.010000   \n",
       "382              20.816667                  25.33          4.513333   \n",
       "891              23.640000                  22.98         -0.660000   \n",
       "623              18.180000                  23.91          5.730000   \n",
       "1049             25.885000                  24.56         -1.325000   \n",
       "\n",
       "                 stime_percentiles  stime_iqr  stime_fastest_section_idx  \\\n",
       "687    [22.79, 23.509999999999998]     0.7200                          1   \n",
       "382   [23.567500000000003, 25.075]     1.5075                          0   \n",
       "891    [22.98, 23.380000000000003]     0.4000                          1   \n",
       "623                 [22.55, 23.81]     1.2600                          0   \n",
       "1049   [23.872500000000002, 25.91]     2.0375                          1   \n",
       "\n",
       "      stime_slowest_section_idx  is_getting_faster  is_getting_slower  \\\n",
       "687                           0              False              False   \n",
       "382                           3              False              False   \n",
       "891                           0              False              False   \n",
       "623                           3              False              False   \n",
       "1049                          0              False              False   \n",
       "\n",
       "       race_pattern  \n",
       "687    middle_burst  \n",
       "382           mixed  \n",
       "891    middle_burst  \n",
       "623   strong_finish  \n",
       "1049          mixed  "
      ]
     },
     "execution_count": 295,
     "metadata": {},
     "output_type": "execute_result"
    }
   ],
   "source": [
    "rc_features.sample(5)"
   ]
  },
  {
   "cell_type": "code",
   "execution_count": 296,
   "metadata": {},
   "outputs": [],
   "source": [
    "rc_features.to_parquet('../feature_data/race_course_features.parquet')"
   ]
  },
  {
   "cell_type": "code",
   "execution_count": null,
   "metadata": {},
   "outputs": [],
   "source": []
  },
  {
   "cell_type": "code",
   "execution_count": 298,
   "metadata": {},
   "outputs": [
    {
     "name": "stdout",
     "output_type": "stream",
     "text": [
      "\n",
      "First few rows with track condition ratios:\n",
      "(2367, 11)\n"
     ]
    }
   ],
   "source": [
    "def calculate_track_condition_ratios(df):\n",
    "    # Get all unique track conditions\n",
    "    res_df = df[['race_id','race_course_track']].copy()\n",
    "    track_conditions = df['track_condition'].unique()\n",
    "    \n",
    "    # Group by race course track and calculate ratios for each condition\n",
    "    track_counts = df.groupby('race_course_track').size()\n",
    "    \n",
    "    # Calculate ratio for each track condition\n",
    "    for condition in track_conditions:\n",
    "        condition_counts = df[df['track_condition'] == condition].groupby('race_course_track').size()\n",
    "        ratio_col_name = f'{condition}_ratio'\n",
    "        res_df[ratio_col_name] = df['race_course_track'].map(condition_counts / track_counts)\n",
    "        \n",
    "    # Fill NaN values with 0 (for tracks that don't have a particular condition)\n",
    "    condition_ratio_cols = [f'{c}_ratio' for c in track_conditions]\n",
    "    res_df[condition_ratio_cols] = res_df[condition_ratio_cols].fillna(0)\n",
    "    output_cols = ['race_id','race_course_track'] + condition_ratio_cols\n",
    "    return res_df[output_cols]\n",
    "\n",
    "# Calculate track condition ratios\n",
    "trackcond_df = calculate_track_condition_ratios(race_df)\n",
    "\n",
    "# Display first few rows of the dataframe with new ratio columns\n",
    "print(\"\\nFirst few rows with track condition ratios:\")\n",
    "print(trackcond_df.shape)\n",
    "\n",
    "\n",
    "\n",
    "\n"
   ]
  },
  {
   "cell_type": "code",
   "execution_count": 299,
   "metadata": {},
   "outputs": [
    {
     "data": {
      "text/html": [
       "<div>\n",
       "<style scoped>\n",
       "    .dataframe tbody tr th:only-of-type {\n",
       "        vertical-align: middle;\n",
       "    }\n",
       "\n",
       "    .dataframe tbody tr th {\n",
       "        vertical-align: top;\n",
       "    }\n",
       "\n",
       "    .dataframe thead th {\n",
       "        text-align: right;\n",
       "    }\n",
       "</style>\n",
       "<table border=\"1\" class=\"dataframe\">\n",
       "  <thead>\n",
       "    <tr style=\"text-align: right;\">\n",
       "      <th></th>\n",
       "      <th>race_id</th>\n",
       "      <th>race_course_track</th>\n",
       "      <th>GOOD TO FIRM_ratio</th>\n",
       "      <th>WET FAST_ratio</th>\n",
       "      <th>GOOD_ratio</th>\n",
       "      <th>GOOD TO YIELDING_ratio</th>\n",
       "      <th>WET SLOW_ratio</th>\n",
       "      <th>FAST_ratio</th>\n",
       "      <th>YIELDING_ratio</th>\n",
       "      <th>YIELDING TO SOFT_ratio</th>\n",
       "      <th>SOFT_ratio</th>\n",
       "    </tr>\n",
       "  </thead>\n",
       "  <tbody>\n",
       "    <tr>\n",
       "      <th>1998</th>\n",
       "      <td>2016-439</td>\n",
       "      <td>Happy Valley_TURF - \"C+3\" COURSE</td>\n",
       "      <td>0.342105</td>\n",
       "      <td>0.0</td>\n",
       "      <td>0.638158</td>\n",
       "      <td>0.019737</td>\n",
       "      <td>0.0</td>\n",
       "      <td>0.0</td>\n",
       "      <td>0.000000</td>\n",
       "      <td>0.0</td>\n",
       "      <td>0.0</td>\n",
       "    </tr>\n",
       "    <tr>\n",
       "      <th>2211</th>\n",
       "      <td>2016-651</td>\n",
       "      <td>Sha Tin_TURF - \"C\" COURSE</td>\n",
       "      <td>0.425620</td>\n",
       "      <td>0.0</td>\n",
       "      <td>0.433884</td>\n",
       "      <td>0.111570</td>\n",
       "      <td>0.0</td>\n",
       "      <td>0.0</td>\n",
       "      <td>0.028926</td>\n",
       "      <td>0.0</td>\n",
       "      <td>0.0</td>\n",
       "    </tr>\n",
       "    <tr>\n",
       "      <th>249</th>\n",
       "      <td>2014-250</td>\n",
       "      <td>Happy Valley_TURF - \"B\" COURSE</td>\n",
       "      <td>0.338983</td>\n",
       "      <td>0.0</td>\n",
       "      <td>0.618644</td>\n",
       "      <td>0.042373</td>\n",
       "      <td>0.0</td>\n",
       "      <td>0.0</td>\n",
       "      <td>0.000000</td>\n",
       "      <td>0.0</td>\n",
       "      <td>0.0</td>\n",
       "    </tr>\n",
       "    <tr>\n",
       "      <th>520</th>\n",
       "      <td>2014-520</td>\n",
       "      <td>Sha Tin_TURF - \"B+2\" COURSE</td>\n",
       "      <td>0.632850</td>\n",
       "      <td>0.0</td>\n",
       "      <td>0.314010</td>\n",
       "      <td>0.038647</td>\n",
       "      <td>0.0</td>\n",
       "      <td>0.0</td>\n",
       "      <td>0.014493</td>\n",
       "      <td>0.0</td>\n",
       "      <td>0.0</td>\n",
       "    </tr>\n",
       "    <tr>\n",
       "      <th>350</th>\n",
       "      <td>2014-351</td>\n",
       "      <td>Happy Valley_TURF - \"C+3\" COURSE</td>\n",
       "      <td>0.342105</td>\n",
       "      <td>0.0</td>\n",
       "      <td>0.638158</td>\n",
       "      <td>0.019737</td>\n",
       "      <td>0.0</td>\n",
       "      <td>0.0</td>\n",
       "      <td>0.000000</td>\n",
       "      <td>0.0</td>\n",
       "      <td>0.0</td>\n",
       "    </tr>\n",
       "  </tbody>\n",
       "</table>\n",
       "</div>"
      ],
      "text/plain": [
       "       race_id                 race_course_track  GOOD TO FIRM_ratio  \\\n",
       "1998  2016-439  Happy Valley_TURF - \"C+3\" COURSE            0.342105   \n",
       "2211  2016-651         Sha Tin_TURF - \"C\" COURSE            0.425620   \n",
       "249   2014-250    Happy Valley_TURF - \"B\" COURSE            0.338983   \n",
       "520   2014-520       Sha Tin_TURF - \"B+2\" COURSE            0.632850   \n",
       "350   2014-351  Happy Valley_TURF - \"C+3\" COURSE            0.342105   \n",
       "\n",
       "      WET FAST_ratio  GOOD_ratio  GOOD TO YIELDING_ratio  WET SLOW_ratio  \\\n",
       "1998             0.0    0.638158                0.019737             0.0   \n",
       "2211             0.0    0.433884                0.111570             0.0   \n",
       "249              0.0    0.618644                0.042373             0.0   \n",
       "520              0.0    0.314010                0.038647             0.0   \n",
       "350              0.0    0.638158                0.019737             0.0   \n",
       "\n",
       "      FAST_ratio  YIELDING_ratio  YIELDING TO SOFT_ratio  SOFT_ratio  \n",
       "1998         0.0        0.000000                     0.0         0.0  \n",
       "2211         0.0        0.028926                     0.0         0.0  \n",
       "249          0.0        0.000000                     0.0         0.0  \n",
       "520          0.0        0.014493                     0.0         0.0  \n",
       "350          0.0        0.000000                     0.0         0.0  "
      ]
     },
     "execution_count": 299,
     "metadata": {},
     "output_type": "execute_result"
    }
   ],
   "source": [
    "trackcond_df.sample(5)"
   ]
  },
  {
   "cell_type": "code",
   "execution_count": 300,
   "metadata": {},
   "outputs": [],
   "source": [
    "trackcond_df.to_parquet('../feature_data/trace_condition.parquet')"
   ]
  },
  {
   "cell_type": "markdown",
   "metadata": {},
   "source": [
    "# horse features"
   ]
  },
  {
   "cell_type": "code",
   "execution_count": null,
   "metadata": {},
   "outputs": [],
   "source": [
    "# horse feature -  ratio between actual weight, declared weight\n",
    "# horse feature - length behind winner statistics\n",
    "# horse feature - running position statistics\n",
    "# horse feature - jockey statistics - avg finishing position (<99)\n",
    "# horse feature - trainer statistic - avg finishing position (<99)\n",
    "# horse feature - failed to finish ration - num <99 / num_races"
   ]
  },
  {
   "cell_type": "code",
   "execution_count": null,
   "metadata": {},
   "outputs": [],
   "source": []
  },
  {
   "cell_type": "code",
   "execution_count": 301,
   "metadata": {},
   "outputs": [],
   "source": [
    "horse_feats = horse_df[['horse_id']].copy()\n",
    "horse_feats['awght_dwght_ratio'] = horse_df['clean_actual_weight'] / horse_df['clean_declared_horse_weight']\n",
    "horse_feats['awght_dwght_delta'] = horse_df['clean_actual_weight'] - horse_df['clean_declared_horse_weight']"
   ]
  },
  {
   "cell_type": "code",
   "execution_count": 302,
   "metadata": {},
   "outputs": [],
   "source": [
    " def get_groupbystat(data, groupby_feats, numfeats, stat):\n",
    "    roundmetric_agg_rcp = [\n",
    "        [groupby_feats, numfeats1, stat],\n",
    "    ]\n",
    "\n",
    "    res = project_utils.groupby_agg_execution(roundmetric_agg_rcp, data)['model']\n",
    "    rename_dict = {}\n",
    "    for c in res.columns.tolist():\n",
    "        if c != groupby_feat:\n",
    "            rename_dict[c] = c[6:] # remove 'model_' in column name\n",
    "    res.rename(columns = rename_dict, inplace=True)\n",
    "    return res"
   ]
  },
  {
   "cell_type": "code",
   "execution_count": 317,
   "metadata": {},
   "outputs": [
    {
     "data": {
      "text/plain": [
       "<module 'project_tools.project_utils' from '/home/yifan/playground/hk_horse_racing/project_tools/project_utils.py'>"
      ]
     },
     "execution_count": 317,
     "metadata": {},
     "output_type": "execute_result"
    }
   ],
   "source": [
    "reload(project_utils)"
   ]
  },
  {
   "cell_type": "code",
   "execution_count": 318,
   "metadata": {},
   "outputs": [
    {
     "name": "stdout",
     "output_type": "stream",
     "text": [
      "generating statistic horse_id_race_course_track_running_position_1_sum\n",
      "generating statistic horse_id_race_course_track_running_position_1_mean\n",
      "generating statistic horse_id_race_course_track_count\n",
      "generating statistic horse_id_race_course_track_running_position_1_std\n",
      "generating statistic horse_id_race_course_track_running_position_1_consistency\n"
     ]
    },
    {
     "name": "stderr",
     "output_type": "stream",
     "text": [
      "/home/yifan/playground/hk_horse_racing/project_tools/project_utils.py:540: RuntimeWarning: divide by zero encountered in scalar divide\n",
      "  elif operator == 'division':\n"
     ]
    },
    {
     "name": "stdout",
     "output_type": "stream",
     "text": [
      "generating statistic horse_id_race_course_track_running_position_2_sum\n",
      "generating statistic horse_id_race_course_track_running_position_2_mean\n",
      "generating statistic horse_id_race_course_track_count\n",
      "generating statistic horse_id_race_course_track_running_position_2_std\n",
      "generating statistic horse_id_race_course_track_running_position_2_consistency\n"
     ]
    },
    {
     "name": "stderr",
     "output_type": "stream",
     "text": [
      "/home/yifan/playground/hk_horse_racing/project_tools/project_utils.py:540: RuntimeWarning: divide by zero encountered in scalar divide\n",
      "  elif operator == 'division':\n"
     ]
    },
    {
     "name": "stdout",
     "output_type": "stream",
     "text": [
      "generating statistic horse_id_race_course_track_running_position_3_sum\n",
      "generating statistic horse_id_race_course_track_running_position_3_mean\n",
      "generating statistic horse_id_race_course_track_count\n",
      "generating statistic horse_id_race_course_track_running_position_3_std\n",
      "generating statistic horse_id_race_course_track_running_position_3_consistency\n"
     ]
    },
    {
     "name": "stderr",
     "output_type": "stream",
     "text": [
      "/home/yifan/playground/hk_horse_racing/project_tools/project_utils.py:540: RuntimeWarning: divide by zero encountered in scalar divide\n",
      "  elif operator == 'division':\n"
     ]
    },
    {
     "name": "stdout",
     "output_type": "stream",
     "text": [
      "generating statistic horse_id_race_course_track_running_position_4_sum\n",
      "generating statistic horse_id_race_course_track_running_position_4_mean\n",
      "generating statistic horse_id_race_course_track_count\n",
      "generating statistic horse_id_race_course_track_running_position_4_std\n",
      "generating statistic horse_id_race_course_track_running_position_4_consistency\n"
     ]
    },
    {
     "name": "stderr",
     "output_type": "stream",
     "text": [
      "/home/yifan/playground/hk_horse_racing/project_tools/project_utils.py:540: RuntimeWarning: divide by zero encountered in scalar divide\n",
      "  elif operator == 'division':\n"
     ]
    }
   ],
   "source": [
    "groupby_feats = ['horse_id', 'race_course_track']\n",
    "numfeats = ['running_position_1', 'running_position_2', 'running_position_3', 'running_position_4']\n",
    "stat = ['sum', 'mean', 'count', 'std',\n",
    "         {'consistency': project_utils.get_array_sharpe}]  # {'ptp':np.ptp}]#{'sharp':project_utils.get_array_sharpe}]\n",
    "\n",
    "\n",
    "agg_recipies = [\n",
    "    [groupby_feats, numfeats, stat],\n",
    "]\n",
    "res_dfs = project_utils.groupby_agg_execution(agg_recipies, horse_race_df, stat)\n"
   ]
  },
  {
   "cell_type": "code",
   "execution_count": 319,
   "metadata": {},
   "outputs": [
    {
     "data": {
      "text/plain": [
       "dict_keys(['horse_id_race_course_track'])"
      ]
     },
     "execution_count": 319,
     "metadata": {},
     "output_type": "execute_result"
    }
   ],
   "source": [
    "res_dfs.keys()"
   ]
  },
  {
   "cell_type": "code",
   "execution_count": 320,
   "metadata": {},
   "outputs": [],
   "source": [
    "horse_track_stat = res_dfs['horse_id_race_course_track']"
   ]
  },
  {
   "cell_type": "code",
   "execution_count": 321,
   "metadata": {},
   "outputs": [
    {
     "data": {
      "text/html": [
       "<div>\n",
       "<style scoped>\n",
       "    .dataframe tbody tr th:only-of-type {\n",
       "        vertical-align: middle;\n",
       "    }\n",
       "\n",
       "    .dataframe tbody tr th {\n",
       "        vertical-align: top;\n",
       "    }\n",
       "\n",
       "    .dataframe thead th {\n",
       "        text-align: right;\n",
       "    }\n",
       "</style>\n",
       "<table border=\"1\" class=\"dataframe\">\n",
       "  <thead>\n",
       "    <tr style=\"text-align: right;\">\n",
       "      <th></th>\n",
       "      <th>horse_id</th>\n",
       "      <th>race_course_track</th>\n",
       "      <th>horse_id_race_course_track_running_position_1_sum</th>\n",
       "      <th>horse_id_race_course_track_running_position_1_mean</th>\n",
       "      <th>horse_id_race_course_track_count</th>\n",
       "      <th>horse_id_race_course_track_running_position_1_std</th>\n",
       "      <th>horse_id_race_course_track_running_position_1_consistency</th>\n",
       "      <th>horse_id_race_course_track_running_position_2_sum</th>\n",
       "      <th>horse_id_race_course_track_running_position_2_mean</th>\n",
       "      <th>horse_id_race_course_track_running_position_2_std</th>\n",
       "      <th>horse_id_race_course_track_running_position_2_consistency</th>\n",
       "      <th>horse_id_race_course_track_running_position_3_sum</th>\n",
       "      <th>horse_id_race_course_track_running_position_3_mean</th>\n",
       "      <th>horse_id_race_course_track_running_position_3_std</th>\n",
       "      <th>horse_id_race_course_track_running_position_3_consistency</th>\n",
       "      <th>horse_id_race_course_track_running_position_4_sum</th>\n",
       "      <th>horse_id_race_course_track_running_position_4_mean</th>\n",
       "      <th>horse_id_race_course_track_running_position_4_std</th>\n",
       "      <th>horse_id_race_course_track_running_position_4_consistency</th>\n",
       "    </tr>\n",
       "  </thead>\n",
       "  <tbody>\n",
       "    <tr>\n",
       "      <th>1868</th>\n",
       "      <td>N100</td>\n",
       "      <td>Happy Valley_TURF - \"B\" COURSE</td>\n",
       "      <td>2.0</td>\n",
       "      <td>2.0</td>\n",
       "      <td>0</td>\n",
       "      <td>NaN</td>\n",
       "      <td>NaN</td>\n",
       "      <td>2.0</td>\n",
       "      <td>2.0</td>\n",
       "      <td>NaN</td>\n",
       "      <td>NaN</td>\n",
       "      <td>4.0</td>\n",
       "      <td>4.0</td>\n",
       "      <td>NaN</td>\n",
       "      <td>NaN</td>\n",
       "      <td>0.0</td>\n",
       "      <td>NaN</td>\n",
       "      <td>NaN</td>\n",
       "      <td>NaN</td>\n",
       "    </tr>\n",
       "    <tr>\n",
       "      <th>710</th>\n",
       "      <td>A201</td>\n",
       "      <td>Sha Tin_TURF - \"A\" COURSE</td>\n",
       "      <td>7.0</td>\n",
       "      <td>7.0</td>\n",
       "      <td>1</td>\n",
       "      <td>NaN</td>\n",
       "      <td>NaN</td>\n",
       "      <td>8.0</td>\n",
       "      <td>8.0</td>\n",
       "      <td>NaN</td>\n",
       "      <td>NaN</td>\n",
       "      <td>7.0</td>\n",
       "      <td>7.0</td>\n",
       "      <td>NaN</td>\n",
       "      <td>NaN</td>\n",
       "      <td>8.0</td>\n",
       "      <td>8.0</td>\n",
       "      <td>NaN</td>\n",
       "      <td>NaN</td>\n",
       "    </tr>\n",
       "    <tr>\n",
       "      <th>11700</th>\n",
       "      <td>V188</td>\n",
       "      <td>Sha Tin_TURF - \"B+2\" COURSE</td>\n",
       "      <td>7.0</td>\n",
       "      <td>7.0</td>\n",
       "      <td>1</td>\n",
       "      <td>NaN</td>\n",
       "      <td>NaN</td>\n",
       "      <td>7.0</td>\n",
       "      <td>7.0</td>\n",
       "      <td>NaN</td>\n",
       "      <td>NaN</td>\n",
       "      <td>7.0</td>\n",
       "      <td>7.0</td>\n",
       "      <td>NaN</td>\n",
       "      <td>NaN</td>\n",
       "      <td>7.0</td>\n",
       "      <td>7.0</td>\n",
       "      <td>NaN</td>\n",
       "      <td>NaN</td>\n",
       "    </tr>\n",
       "    <tr>\n",
       "      <th>1510</th>\n",
       "      <td>M325</td>\n",
       "      <td>Sha Tin_ALL WEATHER TRACK</td>\n",
       "      <td>29.0</td>\n",
       "      <td>5.8</td>\n",
       "      <td>2</td>\n",
       "      <td>3.033150</td>\n",
       "      <td>1.912203</td>\n",
       "      <td>30.0</td>\n",
       "      <td>6.0</td>\n",
       "      <td>3.082207</td>\n",
       "      <td>1.946657</td>\n",
       "      <td>32.0</td>\n",
       "      <td>6.4</td>\n",
       "      <td>3.781534</td>\n",
       "      <td>1.692435</td>\n",
       "      <td>11.0</td>\n",
       "      <td>5.5</td>\n",
       "      <td>4.949747</td>\n",
       "      <td>1.111168</td>\n",
       "    </tr>\n",
       "    <tr>\n",
       "      <th>11891</th>\n",
       "      <td>V224</td>\n",
       "      <td>Sha Tin_TURF - \"C\" COURSE</td>\n",
       "      <td>21.0</td>\n",
       "      <td>10.5</td>\n",
       "      <td>1</td>\n",
       "      <td>3.535534</td>\n",
       "      <td>2.969848</td>\n",
       "      <td>20.0</td>\n",
       "      <td>10.0</td>\n",
       "      <td>5.656854</td>\n",
       "      <td>1.767767</td>\n",
       "      <td>22.0</td>\n",
       "      <td>11.0</td>\n",
       "      <td>2.828427</td>\n",
       "      <td>3.889087</td>\n",
       "      <td>6.0</td>\n",
       "      <td>6.0</td>\n",
       "      <td>NaN</td>\n",
       "      <td>NaN</td>\n",
       "    </tr>\n",
       "  </tbody>\n",
       "</table>\n",
       "</div>"
      ],
      "text/plain": [
       "      horse_id               race_course_track  \\\n",
       "1868      N100  Happy Valley_TURF - \"B\" COURSE   \n",
       "710       A201       Sha Tin_TURF - \"A\" COURSE   \n",
       "11700     V188     Sha Tin_TURF - \"B+2\" COURSE   \n",
       "1510      M325       Sha Tin_ALL WEATHER TRACK   \n",
       "11891     V224       Sha Tin_TURF - \"C\" COURSE   \n",
       "\n",
       "       horse_id_race_course_track_running_position_1_sum  \\\n",
       "1868                                                 2.0   \n",
       "710                                                  7.0   \n",
       "11700                                                7.0   \n",
       "1510                                                29.0   \n",
       "11891                                               21.0   \n",
       "\n",
       "       horse_id_race_course_track_running_position_1_mean  \\\n",
       "1868                                                  2.0   \n",
       "710                                                   7.0   \n",
       "11700                                                 7.0   \n",
       "1510                                                  5.8   \n",
       "11891                                                10.5   \n",
       "\n",
       "       horse_id_race_course_track_count  \\\n",
       "1868                                  0   \n",
       "710                                   1   \n",
       "11700                                 1   \n",
       "1510                                  2   \n",
       "11891                                 1   \n",
       "\n",
       "       horse_id_race_course_track_running_position_1_std  \\\n",
       "1868                                                 NaN   \n",
       "710                                                  NaN   \n",
       "11700                                                NaN   \n",
       "1510                                            3.033150   \n",
       "11891                                           3.535534   \n",
       "\n",
       "       horse_id_race_course_track_running_position_1_consistency  \\\n",
       "1868                                                         NaN   \n",
       "710                                                          NaN   \n",
       "11700                                                        NaN   \n",
       "1510                                                    1.912203   \n",
       "11891                                                   2.969848   \n",
       "\n",
       "       horse_id_race_course_track_running_position_2_sum  \\\n",
       "1868                                                 2.0   \n",
       "710                                                  8.0   \n",
       "11700                                                7.0   \n",
       "1510                                                30.0   \n",
       "11891                                               20.0   \n",
       "\n",
       "       horse_id_race_course_track_running_position_2_mean  \\\n",
       "1868                                                  2.0   \n",
       "710                                                   8.0   \n",
       "11700                                                 7.0   \n",
       "1510                                                  6.0   \n",
       "11891                                                10.0   \n",
       "\n",
       "       horse_id_race_course_track_running_position_2_std  \\\n",
       "1868                                                 NaN   \n",
       "710                                                  NaN   \n",
       "11700                                                NaN   \n",
       "1510                                            3.082207   \n",
       "11891                                           5.656854   \n",
       "\n",
       "       horse_id_race_course_track_running_position_2_consistency  \\\n",
       "1868                                                         NaN   \n",
       "710                                                          NaN   \n",
       "11700                                                        NaN   \n",
       "1510                                                    1.946657   \n",
       "11891                                                   1.767767   \n",
       "\n",
       "       horse_id_race_course_track_running_position_3_sum  \\\n",
       "1868                                                 4.0   \n",
       "710                                                  7.0   \n",
       "11700                                                7.0   \n",
       "1510                                                32.0   \n",
       "11891                                               22.0   \n",
       "\n",
       "       horse_id_race_course_track_running_position_3_mean  \\\n",
       "1868                                                  4.0   \n",
       "710                                                   7.0   \n",
       "11700                                                 7.0   \n",
       "1510                                                  6.4   \n",
       "11891                                                11.0   \n",
       "\n",
       "       horse_id_race_course_track_running_position_3_std  \\\n",
       "1868                                                 NaN   \n",
       "710                                                  NaN   \n",
       "11700                                                NaN   \n",
       "1510                                            3.781534   \n",
       "11891                                           2.828427   \n",
       "\n",
       "       horse_id_race_course_track_running_position_3_consistency  \\\n",
       "1868                                                         NaN   \n",
       "710                                                          NaN   \n",
       "11700                                                        NaN   \n",
       "1510                                                    1.692435   \n",
       "11891                                                   3.889087   \n",
       "\n",
       "       horse_id_race_course_track_running_position_4_sum  \\\n",
       "1868                                                 0.0   \n",
       "710                                                  8.0   \n",
       "11700                                                7.0   \n",
       "1510                                                11.0   \n",
       "11891                                                6.0   \n",
       "\n",
       "       horse_id_race_course_track_running_position_4_mean  \\\n",
       "1868                                                  NaN   \n",
       "710                                                   8.0   \n",
       "11700                                                 7.0   \n",
       "1510                                                  5.5   \n",
       "11891                                                 6.0   \n",
       "\n",
       "       horse_id_race_course_track_running_position_4_std  \\\n",
       "1868                                                 NaN   \n",
       "710                                                  NaN   \n",
       "11700                                                NaN   \n",
       "1510                                            4.949747   \n",
       "11891                                                NaN   \n",
       "\n",
       "       horse_id_race_course_track_running_position_4_consistency  \n",
       "1868                                                         NaN  \n",
       "710                                                          NaN  \n",
       "11700                                                        NaN  \n",
       "1510                                                    1.111168  \n",
       "11891                                                        NaN  "
      ]
     },
     "execution_count": 321,
     "metadata": {},
     "output_type": "execute_result"
    }
   ],
   "source": [
    "horse_track_stat.sample(5)"
   ]
  },
  {
   "cell_type": "code",
   "execution_count": 239,
   "metadata": {},
   "outputs": [
    {
     "data": {
      "text/html": [
       "<div>\n",
       "<style scoped>\n",
       "    .dataframe tbody tr th:only-of-type {\n",
       "        vertical-align: middle;\n",
       "    }\n",
       "\n",
       "    .dataframe tbody tr th {\n",
       "        vertical-align: top;\n",
       "    }\n",
       "\n",
       "    .dataframe thead th {\n",
       "        text-align: right;\n",
       "    }\n",
       "</style>\n",
       "<table border=\"1\" class=\"dataframe\">\n",
       "  <thead>\n",
       "    <tr style=\"text-align: right;\">\n",
       "      <th></th>\n",
       "      <th>horse_id</th>\n",
       "      <th>length_behind_winner_numeric</th>\n",
       "    </tr>\n",
       "  </thead>\n",
       "  <tbody>\n",
       "    <tr>\n",
       "      <th>8977</th>\n",
       "      <td>P178</td>\n",
       "      <td>0.50</td>\n",
       "    </tr>\n",
       "    <tr>\n",
       "      <th>19919</th>\n",
       "      <td>V231</td>\n",
       "      <td>1.00</td>\n",
       "    </tr>\n",
       "    <tr>\n",
       "      <th>29553</th>\n",
       "      <td>V407</td>\n",
       "      <td>2.25</td>\n",
       "    </tr>\n",
       "    <tr>\n",
       "      <th>14029</th>\n",
       "      <td>S397</td>\n",
       "      <td>10.75</td>\n",
       "    </tr>\n",
       "    <tr>\n",
       "      <th>17567</th>\n",
       "      <td>P308</td>\n",
       "      <td>9.25</td>\n",
       "    </tr>\n",
       "  </tbody>\n",
       "</table>\n",
       "</div>"
      ],
      "text/plain": [
       "      horse_id  length_behind_winner_numeric\n",
       "8977      P178                          0.50\n",
       "19919     V231                          1.00\n",
       "29553     V407                          2.25\n",
       "14029     S397                         10.75\n",
       "17567     P308                          9.25"
      ]
     },
     "execution_count": 239,
     "metadata": {},
     "output_type": "execute_result"
    }
   ],
   "source": [
    "horse_feats.sample(5)"
   ]
  },
  {
   "cell_type": "code",
   "execution_count": 260,
   "metadata": {},
   "outputs": [],
   "source": []
  },
  {
   "cell_type": "code",
   "execution_count": null,
   "metadata": {},
   "outputs": [],
   "source": []
  },
  {
   "cell_type": "code",
   "execution_count": 264,
   "metadata": {},
   "outputs": [
    {
     "data": {
      "text/plain": [
       "clean_actual_weight\n",
       "126.0    2057\n",
       "133.0    1951\n",
       "123.0    1739\n",
       "125.0    1738\n",
       "120.0    1605\n",
       "122.0    1490\n",
       "121.0    1469\n",
       "124.0    1437\n",
       "127.0    1373\n",
       "128.0    1356\n",
       "119.0    1294\n",
       "131.0    1289\n",
       "118.0    1266\n",
       "129.0    1220\n",
       "130.0    1214\n",
       "117.0    1176\n",
       "115.0    1173\n",
       "116.0    1158\n",
       "132.0    1004\n",
       "114.0     894\n",
       "113.0     849\n",
       "112.0     400\n",
       "111.0     371\n",
       "108.0     168\n",
       "109.0     146\n",
       "110.0     143\n",
       "107.0      78\n",
       "106.0      48\n",
       "105.0      39\n",
       "104.0      24\n",
       "103.0      18\n",
       "Name: count, dtype: int64"
      ]
     },
     "execution_count": 264,
     "metadata": {},
     "output_type": "execute_result"
    }
   ],
   "source": [
    "horse_df['clean_actual_weight'].value_counts()"
   ]
  },
  {
   "cell_type": "code",
   "execution_count": 257,
   "metadata": {},
   "outputs": [
    {
     "data": {
      "text/plain": [
       "actual_weight\n",
       "126    2057\n",
       "133    1951\n",
       "123    1739\n",
       "125    1738\n",
       "120    1605\n",
       "122    1490\n",
       "121    1469\n",
       "124    1437\n",
       "127    1373\n",
       "128    1356\n",
       "119    1294\n",
       "131    1289\n",
       "118    1266\n",
       "129    1220\n",
       "130    1214\n",
       "117    1176\n",
       "115    1173\n",
       "116    1158\n",
       "132    1004\n",
       "114     894\n",
       "113     849\n",
       "112     400\n",
       "111     371\n",
       "108     168\n",
       "109     146\n",
       "110     143\n",
       "107      78\n",
       "106      48\n",
       "105      39\n",
       "104      24\n",
       "103      18\n",
       "-         2\n",
       "Name: count, dtype: int64"
      ]
     },
     "execution_count": 257,
     "metadata": {},
     "output_type": "execute_result"
    }
   ],
   "source": [
    "horse_df['actual_weight'].value_counts()"
   ]
  },
  {
   "cell_type": "code",
   "execution_count": 258,
   "metadata": {},
   "outputs": [
    {
     "data": {
      "text/plain": [
       "declared_horse_weight\n",
       "1088    229\n",
       "1094    222\n",
       "1106    217\n",
       "1089    217\n",
       "1108    214\n",
       "       ... \n",
       "919       1\n",
       "905       1\n",
       "902       1\n",
       "917       1\n",
       "1325      1\n",
       "Name: count, Length: 399, dtype: int64"
      ]
     },
     "execution_count": 258,
     "metadata": {},
     "output_type": "execute_result"
    }
   ],
   "source": [
    "horse_df['declared_horse_weight'].value_counts()"
   ]
  },
  {
   "cell_type": "code",
   "execution_count": 259,
   "metadata": {},
   "outputs": [
    {
     "data": {
      "text/plain": [
       "'1032'"
      ]
     },
     "execution_count": 259,
     "metadata": {},
     "output_type": "execute_result"
    }
   ],
   "source": [
    "horse_df['declared_horse_weight'].values[0]"
   ]
  },
  {
   "cell_type": "markdown",
   "metadata": {},
   "source": [
    "# initial analysis"
   ]
  },
  {
   "cell_type": "code",
   "execution_count": 289,
   "metadata": {},
   "outputs": [
    {
     "name": "stdout",
     "output_type": "stream",
     "text": [
      "(30189, 25)\n",
      "(2367, 13)\n"
     ]
    }
   ],
   "source": [
    "print(horse_df.shape)\n",
    "print(race_df.shape)\n"
   ]
  },
  {
   "cell_type": "code",
   "execution_count": 290,
   "metadata": {},
   "outputs": [
    {
     "name": "stdout",
     "output_type": "stream",
     "text": [
      "Index(['finishing_position', 'horse_number', 'horse_name', 'horse_id',\n",
      "       'jockey', 'trainer', 'actual_weight', 'declared_horse_weight', 'draw',\n",
      "       'length_behind_winner', 'running_position_1', 'running_position_2',\n",
      "       'running_position_3', 'running_position_4', 'finish_time', 'win_odds',\n",
      "       'running_position_5', 'running_position_6', 'race_id', 'clean_position',\n",
      "       'clean_actual_weight', 'clean_declared_horse_weight',\n",
      "       'clean_length_behind_winner', 'isin_winner', 'isin_top3'],\n",
      "      dtype='object')\n",
      "Index(['src', 'race_date', 'race_course', 'race_number', 'race_id',\n",
      "       'race_class', 'race_distance', 'track_condition', 'race_name', 'track',\n",
      "       'sectional_time', 'incident_report', 'race_course_track'],\n",
      "      dtype='object')\n"
     ]
    }
   ],
   "source": [
    "print(horse_df.columns)\n",
    "print(race_df.columns)\n"
   ]
  },
  {
   "cell_type": "code",
   "execution_count": 8,
   "metadata": {},
   "outputs": [
    {
     "data": {
      "text/html": [
       "<div>\n",
       "<style scoped>\n",
       "    .dataframe tbody tr th:only-of-type {\n",
       "        vertical-align: middle;\n",
       "    }\n",
       "\n",
       "    .dataframe tbody tr th {\n",
       "        vertical-align: top;\n",
       "    }\n",
       "\n",
       "    .dataframe thead th {\n",
       "        text-align: right;\n",
       "    }\n",
       "</style>\n",
       "<table border=\"1\" class=\"dataframe\">\n",
       "  <thead>\n",
       "    <tr style=\"text-align: right;\">\n",
       "      <th></th>\n",
       "      <th>finishing_position</th>\n",
       "      <th>horse_number</th>\n",
       "      <th>horse_name</th>\n",
       "      <th>horse_id</th>\n",
       "      <th>jockey</th>\n",
       "      <th>trainer</th>\n",
       "      <th>actual_weight</th>\n",
       "      <th>declared_horse_weight</th>\n",
       "      <th>draw</th>\n",
       "      <th>length_behind_winner</th>\n",
       "      <th>running_position_1</th>\n",
       "      <th>running_position_2</th>\n",
       "      <th>running_position_3</th>\n",
       "      <th>running_position_4</th>\n",
       "      <th>finish_time</th>\n",
       "      <th>win_odds</th>\n",
       "      <th>running_position_5</th>\n",
       "      <th>running_position_6</th>\n",
       "      <th>race_id</th>\n",
       "    </tr>\n",
       "  </thead>\n",
       "  <tbody>\n",
       "    <tr>\n",
       "      <th>28604</th>\n",
       "      <td>13</td>\n",
       "      <td>7.0</td>\n",
       "      <td>SOUTHERN LEGEND</td>\n",
       "      <td>A252</td>\n",
       "      <td>J Moreira</td>\n",
       "      <td>C Fownes</td>\n",
       "      <td>122</td>\n",
       "      <td>1121</td>\n",
       "      <td>1</td>\n",
       "      <td>7-1/2</td>\n",
       "      <td>6.0</td>\n",
       "      <td>5.0</td>\n",
       "      <td>13.0</td>\n",
       "      <td>NaN</td>\n",
       "      <td>1.10.68</td>\n",
       "      <td>2.7</td>\n",
       "      <td>NaN</td>\n",
       "      <td>NaN</td>\n",
       "      <td>2016-688</td>\n",
       "    </tr>\n",
       "    <tr>\n",
       "      <th>19859</th>\n",
       "      <td>13</td>\n",
       "      <td>3.0</td>\n",
       "      <td>MAJOR CONNECTION</td>\n",
       "      <td>V067</td>\n",
       "      <td>O Bosson</td>\n",
       "      <td>D J Hall</td>\n",
       "      <td>132</td>\n",
       "      <td>1079</td>\n",
       "      <td>5</td>\n",
       "      <td>9-3/4</td>\n",
       "      <td>8.0</td>\n",
       "      <td>14.0</td>\n",
       "      <td>13.0</td>\n",
       "      <td>NaN</td>\n",
       "      <td>1.11.08</td>\n",
       "      <td>40</td>\n",
       "      <td>NaN</td>\n",
       "      <td>NaN</td>\n",
       "      <td>2015-774</td>\n",
       "    </tr>\n",
       "    <tr>\n",
       "      <th>22911</th>\n",
       "      <td>12</td>\n",
       "      <td>1.0</td>\n",
       "      <td>CELESTIAL NOVA</td>\n",
       "      <td>V045</td>\n",
       "      <td>T H So</td>\n",
       "      <td>C S Shum</td>\n",
       "      <td>131</td>\n",
       "      <td>1142</td>\n",
       "      <td>5</td>\n",
       "      <td>12-3/4</td>\n",
       "      <td>7.0</td>\n",
       "      <td>8.0</td>\n",
       "      <td>12.0</td>\n",
       "      <td>NaN</td>\n",
       "      <td>1.11.86</td>\n",
       "      <td>99</td>\n",
       "      <td>NaN</td>\n",
       "      <td>NaN</td>\n",
       "      <td>2016-230</td>\n",
       "    </tr>\n",
       "    <tr>\n",
       "      <th>11364</th>\n",
       "      <td>13</td>\n",
       "      <td>10.0</td>\n",
       "      <td>GOLDEN OSMANTHUS</td>\n",
       "      <td>N245</td>\n",
       "      <td>C K Tong</td>\n",
       "      <td>T K Ng</td>\n",
       "      <td>120</td>\n",
       "      <td>1138</td>\n",
       "      <td>9</td>\n",
       "      <td>11</td>\n",
       "      <td>7.0</td>\n",
       "      <td>8.0</td>\n",
       "      <td>10.0</td>\n",
       "      <td>13.0</td>\n",
       "      <td>1.24.99</td>\n",
       "      <td>99</td>\n",
       "      <td>NaN</td>\n",
       "      <td>NaN</td>\n",
       "      <td>2015-112</td>\n",
       "    </tr>\n",
       "    <tr>\n",
       "      <th>26937</th>\n",
       "      <td>8</td>\n",
       "      <td>5.0</td>\n",
       "      <td>JE PENSE</td>\n",
       "      <td>V354</td>\n",
       "      <td>S Clipperton</td>\n",
       "      <td>C W Chang</td>\n",
       "      <td>126</td>\n",
       "      <td>1111</td>\n",
       "      <td>7</td>\n",
       "      <td>6</td>\n",
       "      <td>6.0</td>\n",
       "      <td>6.0</td>\n",
       "      <td>6.0</td>\n",
       "      <td>6.0</td>\n",
       "      <td>1.49.47</td>\n",
       "      <td>11</td>\n",
       "      <td>8.0</td>\n",
       "      <td>NaN</td>\n",
       "      <td>2016-546</td>\n",
       "    </tr>\n",
       "  </tbody>\n",
       "</table>\n",
       "</div>"
      ],
      "text/plain": [
       "      finishing_position  horse_number        horse_name horse_id  \\\n",
       "28604                 13           7.0   SOUTHERN LEGEND     A252   \n",
       "19859                 13           3.0  MAJOR CONNECTION     V067   \n",
       "22911                 12           1.0    CELESTIAL NOVA     V045   \n",
       "11364                 13          10.0  GOLDEN OSMANTHUS     N245   \n",
       "26937                  8           5.0          JE PENSE     V354   \n",
       "\n",
       "             jockey    trainer actual_weight declared_horse_weight draw  \\\n",
       "28604     J Moreira   C Fownes           122                  1121    1   \n",
       "19859      O Bosson   D J Hall           132                  1079    5   \n",
       "22911        T H So   C S Shum           131                  1142    5   \n",
       "11364      C K Tong     T K Ng           120                  1138    9   \n",
       "26937  S Clipperton  C W Chang           126                  1111    7   \n",
       "\n",
       "      length_behind_winner  running_position_1  running_position_2  \\\n",
       "28604                7-1/2                 6.0                 5.0   \n",
       "19859                9-3/4                 8.0                14.0   \n",
       "22911               12-3/4                 7.0                 8.0   \n",
       "11364                   11                 7.0                 8.0   \n",
       "26937                    6                 6.0                 6.0   \n",
       "\n",
       "       running_position_3  running_position_4 finish_time win_odds  \\\n",
       "28604                13.0                 NaN     1.10.68      2.7   \n",
       "19859                13.0                 NaN     1.11.08       40   \n",
       "22911                12.0                 NaN     1.11.86       99   \n",
       "11364                10.0                13.0     1.24.99       99   \n",
       "26937                 6.0                 6.0     1.49.47       11   \n",
       "\n",
       "       running_position_5  running_position_6   race_id  \n",
       "28604                 NaN                 NaN  2016-688  \n",
       "19859                 NaN                 NaN  2015-774  \n",
       "22911                 NaN                 NaN  2016-230  \n",
       "11364                 NaN                 NaN  2015-112  \n",
       "26937                 8.0                 NaN  2016-546  "
      ]
     },
     "execution_count": 8,
     "metadata": {},
     "output_type": "execute_result"
    }
   ],
   "source": [
    "horse_df.sample(5)"
   ]
  },
  {
   "cell_type": "code",
   "execution_count": null,
   "metadata": {},
   "outputs": [],
   "source": [
    "horse_df['running_position_1']"
   ]
  },
  {
   "cell_type": "code",
   "execution_count": null,
   "metadata": {},
   "outputs": [],
   "source": [
    "use_cols=['']\n",
    "horse_df.sample(5)"
   ]
  },
  {
   "cell_type": "code",
   "execution_count": 33,
   "metadata": {},
   "outputs": [
    {
     "data": {
      "text/plain": [
       "25304    2-1/4\n",
       "15497        -\n",
       "24597    6-1/2\n",
       "1829     6-1/2\n",
       "4088     3-1/2\n",
       "Name: length_behind_winner, dtype: object"
      ]
     },
     "execution_count": 33,
     "metadata": {},
     "output_type": "execute_result"
    }
   ],
   "source": [
    "horse_df['length_behind_winner'].sample(5)"
   ]
  },
  {
   "cell_type": "code",
   "execution_count": 39,
   "metadata": {
    "scrolled": true
   },
   "outputs": [
    {
     "data": {
      "text/plain": [
       "['-',\n",
       " '2',\n",
       " '4-1/4',\n",
       " '5-1/2',\n",
       " '5-3/4',\n",
       " '6-1/4',\n",
       " '6-3/4',\n",
       " '7-3/4',\n",
       " '10-1/4',\n",
       " '11',\n",
       " '---',\n",
       " '2-1/4',\n",
       " '2-1/2',\n",
       " '2-3/4',\n",
       " '3-1/2',\n",
       " '4',\n",
       " '4-1/2',\n",
       " '4-3/4',\n",
       " '5',\n",
       " '7-1/4',\n",
       " '9',\n",
       " '10-3/4',\n",
       " '1-1/4',\n",
       " '1-3/4',\n",
       " '7',\n",
       " '8-1/2',\n",
       " '12-1/2',\n",
       " 'N',\n",
       " '1',\n",
       " '3-3/4',\n",
       " '6',\n",
       " '3',\n",
       " '3-1/4',\n",
       " '5-1/4',\n",
       " '16-1/4',\n",
       " '20',\n",
       " 'SH',\n",
       " 'HD',\n",
       " '1/2',\n",
       " '7-1/2',\n",
       " '8-1/4',\n",
       " '12-1/4',\n",
       " '17-1/2',\n",
       " '1-1/2',\n",
       " '11-1/4',\n",
       " '12-3/4',\n",
       " '8',\n",
       " '6-1/2',\n",
       " '9-1/4',\n",
       " '9-1/2',\n",
       " '10-1/2',\n",
       " '21-1/4',\n",
       " '36-1/4',\n",
       " '13-3/4',\n",
       " '10',\n",
       " '3/4',\n",
       " '11-1/2',\n",
       " '24',\n",
       " '25-1/4',\n",
       " '12',\n",
       " '16',\n",
       " '26',\n",
       " '8-3/4',\n",
       " '16-1/2',\n",
       " '11-3/4',\n",
       " '13-1/4',\n",
       " '14-3/4',\n",
       " '15',\n",
       " '29-1/4',\n",
       " '19-1/2',\n",
       " '9-3/4',\n",
       " '19-1/4',\n",
       " '22-1/4',\n",
       " '22-1/2',\n",
       " '13-1/2',\n",
       " '16-3/4',\n",
       " '17',\n",
       " '14',\n",
       " '13',\n",
       " '22',\n",
       " '15-1/4',\n",
       " '39',\n",
       " '20-3/4',\n",
       " '22-3/4',\n",
       " '19-3/4',\n",
       " '21-3/4',\n",
       " '55-1/2',\n",
       " '14-1/2',\n",
       " '14-1/4',\n",
       " '15-1/2',\n",
       " '26-3/4',\n",
       " '20-1/4',\n",
       " '30',\n",
       " '38-1/2',\n",
       " 'NOSE',\n",
       " '46-1/4',\n",
       " '18-3/4',\n",
       " '33-3/4',\n",
       " '24-3/4',\n",
       " '15-3/4',\n",
       " '23',\n",
       " '19',\n",
       " '21-1/2',\n",
       " '23-3/4',\n",
       " '29-3/4',\n",
       " '27-3/4',\n",
       " '21',\n",
       " '28-1/4',\n",
       " '25',\n",
       " '18-1/2',\n",
       " '32',\n",
       " '32-1/2',\n",
       " '27-1/2',\n",
       " '42',\n",
       " '26-1/4',\n",
       " '31-1/2',\n",
       " '40-1/2',\n",
       " '33-1/2',\n",
       " '17-1/4',\n",
       " '17-3/4',\n",
       " '+1/2',\n",
       " '18',\n",
       " '28-3/4',\n",
       " '37-1/4',\n",
       " '27',\n",
       " '18-1/4',\n",
       " '23-1/2',\n",
       " '31',\n",
       " '26-1/2',\n",
       " '29',\n",
       " '23-1/4',\n",
       " '48-1/2',\n",
       " '20-1/2',\n",
       " '25-1/2',\n",
       " '75-3/4',\n",
       " '28-1/2',\n",
       " '37-3/4',\n",
       " '40',\n",
       " '+NOSE',\n",
       " '34-1/2',\n",
       " '37',\n",
       " '25-3/4',\n",
       " '39-1/2',\n",
       " '30-3/4',\n",
       " 'ML',\n",
       " '70-1/2',\n",
       " '27-1/4',\n",
       " '39-3/4',\n",
       " '47-1/4',\n",
       " '31-3/4',\n",
       " '28',\n",
       " '24-1/4',\n",
       " '42-1/2',\n",
       " '35',\n",
       " '33',\n",
       " '82-3/4',\n",
       " '65',\n",
       " '36-1/2',\n",
       " '39-1/4',\n",
       " '24-1/2',\n",
       " '36',\n",
       " '41-3/4',\n",
       " '66-1/2',\n",
       " '33-1/4',\n",
       " '32-1/4',\n",
       " '30-1/4',\n",
       " '44-3/4',\n",
       " '47-1/2',\n",
       " '50',\n",
       " '35-1/2',\n",
       " '32-3/4',\n",
       " '49-3/4',\n",
       " '31-1/4',\n",
       " '35-1/4',\n",
       " '45-1/2',\n",
       " '41-1/4',\n",
       " '55',\n",
       " '34-1/4',\n",
       " '30-1/2',\n",
       " '85',\n",
       " '71-1/2',\n",
       " '41',\n",
       " '40-3/4',\n",
       " '35-3/4',\n",
       " '40-1/4',\n",
       " '45',\n",
       " '34-3/4',\n",
       " '52-1/4',\n",
       " '47',\n",
       " '58-3/4',\n",
       " '74',\n",
       " '79-1/4',\n",
       " '98-3/4',\n",
       " '68',\n",
       " '53-3/4',\n",
       " '41-1/2',\n",
       " '81-1/4',\n",
       " '29-1/2',\n",
       " '49-1/2',\n",
       " '52-1/2',\n",
       " '56-1/2',\n",
       " '42-3/4',\n",
       " '44-1/2',\n",
       " '72-1/2',\n",
       " '87',\n",
       " '45-1/4',\n",
       " '44-1/4',\n",
       " '34',\n",
       " '43',\n",
       " '55-3/4',\n",
       " '62',\n",
       " '45-3/4',\n",
       " '51-1/2',\n",
       " '+SH',\n",
       " 'TO',\n",
       " '48-3/4',\n",
       " '37-1/2']"
      ]
     },
     "execution_count": 39,
     "metadata": {},
     "output_type": "execute_result"
    }
   ],
   "source": [
    "horse_df['length_behind_winner'].unique().tolist()"
   ]
  },
  {
   "cell_type": "code",
   "execution_count": 208,
   "metadata": {},
   "outputs": [
    {
     "name": "stdout",
     "output_type": "stream",
     "text": [
      "['2', '4-1/4', '5-1/2', '5-3/4', '6-1/4', '6-3/4', '7-3/4', '10-1/4', '11', '2-1/4', '2-1/2', '2-3/4', '3-1/2', '4', '4-1/2', '4-3/4', '5', '7-1/4', '9', '10-3/4', '1-1/4', '1-3/4', '7', '8-1/2', '12-1/2', '1', '3-3/4', '6', '3', '3-1/4', '5-1/4', '16-1/4', '20', '1/2', '7-1/2', '8-1/4', '12-1/4', '17-1/2', '1-1/2', '11-1/4', '12-3/4', '8', '6-1/2', '9-1/4', '9-1/2', '10-1/2', '21-1/4', '36-1/4', '13-3/4', '10', '3/4', '11-1/2', '24', '25-1/4', '12', '16', '26', '8-3/4', '16-1/2', '11-3/4', '13-1/4', '14-3/4', '15', '29-1/4', '19-1/2', '9-3/4', '19-1/4', '22-1/4', '22-1/2', '13-1/2', '16-3/4', '17', '14', '13', '22', '15-1/4', '39', '20-3/4', '22-3/4', '19-3/4', '21-3/4', '55-1/2', '14-1/2', '14-1/4', '15-1/2', '26-3/4', '20-1/4', '30', '38-1/2', '46-1/4', '18-3/4', '33-3/4', '24-3/4', '15-3/4', '23', '19', '21-1/2', '23-3/4', '29-3/4', '27-3/4', '21', '28-1/4', '25', '18-1/2', '32', '32-1/2', '27-1/2', '42', '26-1/4', '31-1/2', '40-1/2', '33-1/2', '17-1/4', '17-3/4', '18', '28-3/4', '37-1/4', '27', '18-1/4', '23-1/2', '31', '26-1/2', '29', '23-1/4', '48-1/2', '20-1/2', '25-1/2', '75-3/4', '28-1/2', '37-3/4', '40', '34-1/2', '37', '25-3/4', '39-1/2', '30-3/4', '70-1/2', '27-1/4', '39-3/4', '47-1/4', '31-3/4', '28', '24-1/4', '42-1/2', '35', '33', '82-3/4', '65', '36-1/2', '39-1/4', '24-1/2', '36', '41-3/4', '66-1/2', '33-1/4', '32-1/4', '30-1/4', '44-3/4', '47-1/2', '50', '35-1/2', '32-3/4', '49-3/4', '31-1/4', '35-1/4', '45-1/2', '41-1/4', '55', '34-1/4', '30-1/2', '85', '71-1/2', '41', '40-3/4', '35-3/4', '40-1/4', '45', '34-3/4', '52-1/4', '47', '58-3/4', '74', '79-1/4', '98-3/4', '68', '53-3/4', '41-1/2', '81-1/4', '29-1/2', '49-1/2', '52-1/2', '56-1/2', '42-3/4', '44-1/2', '72-1/2', '87', '45-1/4', '44-1/4', '34', '43', '55-3/4', '62', '45-3/4', '51-1/2', '48-3/4', '37-1/2']\n"
     ]
    }
   ],
   "source": [
    "lbw_vals = horse_df['length_behind_winner'].unique().tolist()\n",
    "non_numeric_lbw = ['---', '-', 'N', 'SH', 'HD', 'NOSE', '+NOSE', 'ML', '+SH', 'TO', '+1/2']\n",
    "numeric_lbw = [v for v in lbw_vals if v not in non_numeric_lbw]\n",
    "print(numeric_lbw)"
   ]
  },
  {
   "cell_type": "code",
   "execution_count": 209,
   "metadata": {},
   "outputs": [
    {
     "data": {
      "text/plain": [
       "{'-': 0,\n",
       " 'N': 0.3,\n",
       " 'SH': 0.1,\n",
       " 'HD': 0.25,\n",
       " 'NOSE': 0.05,\n",
       " '+NOSE': 0.75,\n",
       " 'ML': 50,\n",
       " '+SH': 0.15,\n",
       " 'TO': 0.1,\n",
       " '+1/2': 99,\n",
       " '---': 99}"
      ]
     },
     "execution_count": 209,
     "metadata": {},
     "output_type": "execute_result"
    }
   ],
   "source": [
    "lbw_t2n_dict = {}\n",
    "lbw_t2n_dict['-'] = 0\n",
    "lbw_t2n_dict['N'] = 0.3\n",
    "lbw_t2n_dict['SH'] = 0.1\n",
    "lbw_t2n_dict['HD'] = 0.25\n",
    "lbw_t2n_dict['NOSE'] = 0.05\n",
    "lbw_t2n_dict['+NOSE'] = 0.75\n",
    "lbw_t2n_dict['ML'] = 50\n",
    "lbw_t2n_dict['+SH'] = 0.15\n",
    "lbw_t2n_dict['TO'] = 0.1\n",
    "lbw_t2n_dict['+1/2'] = 99\n",
    "lbw_t2n_dict['---'] = 99\n",
    "\n",
    "lbw_t2n_dict"
   ]
  },
  {
   "cell_type": "code",
   "execution_count": 207,
   "metadata": {},
   "outputs": [
    {
     "data": {
      "text/html": [
       "<div>\n",
       "<style scoped>\n",
       "    .dataframe tbody tr th:only-of-type {\n",
       "        vertical-align: middle;\n",
       "    }\n",
       "\n",
       "    .dataframe tbody tr th {\n",
       "        vertical-align: top;\n",
       "    }\n",
       "\n",
       "    .dataframe thead th {\n",
       "        text-align: right;\n",
       "    }\n",
       "</style>\n",
       "<table border=\"1\" class=\"dataframe\">\n",
       "  <thead>\n",
       "    <tr style=\"text-align: right;\">\n",
       "      <th></th>\n",
       "      <th>finishing_position</th>\n",
       "      <th>clean_position</th>\n",
       "      <th>length_behind_winner</th>\n",
       "    </tr>\n",
       "  </thead>\n",
       "  <tbody>\n",
       "    <tr>\n",
       "      <th>4456</th>\n",
       "      <td>DISQ</td>\n",
       "      <td>99</td>\n",
       "      <td>+1/2</td>\n",
       "    </tr>\n",
       "  </tbody>\n",
       "</table>\n",
       "</div>"
      ],
      "text/plain": [
       "     finishing_position  clean_position length_behind_winner\n",
       "4456               DISQ              99                 +1/2"
      ]
     },
     "execution_count": 207,
     "metadata": {},
     "output_type": "execute_result"
    }
   ],
   "source": [
    "# to check ---, -, 'N', 'SH', 'HD', 'NOSE', '+NOSE', 'ML', '+SH', 'TO', '+1/2'\n",
    "# --- 99\n",
    "\n",
    "lbw_t2n_dict = {}\n",
    "lbw_t2n_dict['-'] = 0\n",
    "lbw_t2n_dict['N'] = 0.3\n",
    "lbw_t2n_dict['SH'] = 0.1\n",
    "lbw_t2n_dict['HD'] = 0.25\n",
    "lbw_t2n_dict['NOSE'] = 0.05\n",
    "lbw_t2n_dict['+NOSE'] = 0.75\n",
    "lbw_t2n_dict['ML'] = 50\n",
    "lbw_t2n_dict['+SH'] = 0.15\n",
    "lbw_t2n_dict['TO'] = 0.1\n",
    "lbw_t2n_dict['+1/2'] = 99\n",
    "lbw_t2n_dict['---'] = 99\n",
    "\n",
    "\n",
    "    \n",
    "\n",
    "use_cols = ['finishing_position', 'clean_position', 'length_behind_winner']\n",
    "non_numeric_lbw = ['---', '-', 'N', 'SH', 'HD', 'NOSE', '+NOSE', 'ML', '+SH', 'TO', '+1/2']\n",
    "# horse_df[horse_df['length_behind_winner'].isin(non_numeric_lbw)][use_cols].sample(5)\n",
    "horse_df[horse_df['length_behind_winner']=='+1/2'][use_cols]"
   ]
  },
  {
   "cell_type": "code",
   "execution_count": 42,
   "metadata": {},
   "outputs": [
    {
     "data": {
      "text/html": [
       "<div>\n",
       "<style scoped>\n",
       "    .dataframe tbody tr th:only-of-type {\n",
       "        vertical-align: middle;\n",
       "    }\n",
       "\n",
       "    .dataframe tbody tr th {\n",
       "        vertical-align: top;\n",
       "    }\n",
       "\n",
       "    .dataframe thead th {\n",
       "        text-align: right;\n",
       "    }\n",
       "</style>\n",
       "<table border=\"1\" class=\"dataframe\">\n",
       "  <thead>\n",
       "    <tr style=\"text-align: right;\">\n",
       "      <th></th>\n",
       "      <th>clean_position</th>\n",
       "      <th>length_behind_winner</th>\n",
       "    </tr>\n",
       "  </thead>\n",
       "  <tbody>\n",
       "    <tr>\n",
       "      <th>22300</th>\n",
       "      <td>2</td>\n",
       "      <td>NOSE</td>\n",
       "    </tr>\n",
       "    <tr>\n",
       "      <th>24924</th>\n",
       "      <td>2</td>\n",
       "      <td>NOSE</td>\n",
       "    </tr>\n",
       "    <tr>\n",
       "      <th>18179</th>\n",
       "      <td>2</td>\n",
       "      <td>NOSE</td>\n",
       "    </tr>\n",
       "    <tr>\n",
       "      <th>9241</th>\n",
       "      <td>2</td>\n",
       "      <td>NOSE</td>\n",
       "    </tr>\n",
       "    <tr>\n",
       "      <th>25543</th>\n",
       "      <td>2</td>\n",
       "      <td>NOSE</td>\n",
       "    </tr>\n",
       "  </tbody>\n",
       "</table>\n",
       "</div>"
      ],
      "text/plain": [
       "       clean_position length_behind_winner\n",
       "22300               2                 NOSE\n",
       "24924               2                 NOSE\n",
       "18179               2                 NOSE\n",
       "9241                2                 NOSE\n",
       "25543               2                 NOSE"
      ]
     },
     "execution_count": 42,
     "metadata": {},
     "output_type": "execute_result"
    }
   ],
   "source": [
    "\n",
    "\n",
    "use_cols = ['finishing_position', 'clean_position', 'length_behind_winner']\n",
    "horse_df[horse_df['length_behind_winner']=='NOSE'][use_cols].sample(5)"
   ]
  },
  {
   "cell_type": "code",
   "execution_count": 100,
   "metadata": {},
   "outputs": [
    {
     "data": {
      "text/html": [
       "<div>\n",
       "<style scoped>\n",
       "    .dataframe tbody tr th:only-of-type {\n",
       "        vertical-align: middle;\n",
       "    }\n",
       "\n",
       "    .dataframe tbody tr th {\n",
       "        vertical-align: top;\n",
       "    }\n",
       "\n",
       "    .dataframe thead th {\n",
       "        text-align: right;\n",
       "    }\n",
       "</style>\n",
       "<table border=\"1\" class=\"dataframe\">\n",
       "  <thead>\n",
       "    <tr style=\"text-align: right;\">\n",
       "      <th></th>\n",
       "      <th>clean_position</th>\n",
       "      <th>length_behind_winner</th>\n",
       "    </tr>\n",
       "  </thead>\n",
       "  <tbody>\n",
       "    <tr>\n",
       "      <th>7906</th>\n",
       "      <td>4</td>\n",
       "      <td>2-3/4</td>\n",
       "    </tr>\n",
       "    <tr>\n",
       "      <th>18671</th>\n",
       "      <td>4</td>\n",
       "      <td>2</td>\n",
       "    </tr>\n",
       "    <tr>\n",
       "      <th>14241</th>\n",
       "      <td>4</td>\n",
       "      <td>2-1/4</td>\n",
       "    </tr>\n",
       "    <tr>\n",
       "      <th>14837</th>\n",
       "      <td>4</td>\n",
       "      <td>4-1/4</td>\n",
       "    </tr>\n",
       "    <tr>\n",
       "      <th>4806</th>\n",
       "      <td>4</td>\n",
       "      <td>1-3/4</td>\n",
       "    </tr>\n",
       "  </tbody>\n",
       "</table>\n",
       "</div>"
      ],
      "text/plain": [
       "       clean_position length_behind_winner\n",
       "7906                4                2-3/4\n",
       "18671               4                    2\n",
       "14241               4                2-1/4\n",
       "14837               4                4-1/4\n",
       "4806                4                1-3/4"
      ]
     },
     "execution_count": 100,
     "metadata": {},
     "output_type": "execute_result"
    }
   ],
   "source": [
    "horse_df[horse_df['clean_position']==4][use_cols].sample(5)"
   ]
  },
  {
   "cell_type": "code",
   "execution_count": null,
   "metadata": {},
   "outputs": [],
   "source": []
  },
  {
   "cell_type": "code",
   "execution_count": 36,
   "metadata": {},
   "outputs": [
    {
     "data": {
      "text/plain": [
       "count    30189.000000\n",
       "mean         8.862334\n",
       "std         14.070619\n",
       "min          1.000000\n",
       "25%          4.000000\n",
       "50%          7.000000\n",
       "75%         10.000000\n",
       "max         99.000000\n",
       "Name: clean_position, dtype: float64"
      ]
     },
     "execution_count": 36,
     "metadata": {},
     "output_type": "execute_result"
    }
   ],
   "source": [
    "horse_df['clean_position'].describe()"
   ]
  },
  {
   "cell_type": "code",
   "execution_count": 87,
   "metadata": {},
   "outputs": [
    {
     "data": {
      "text/plain": [
       "0"
      ]
     },
     "execution_count": 87,
     "metadata": {},
     "output_type": "execute_result"
    }
   ],
   "source": [
    "pd.isnull(horse_df['finishing_position']).sum()"
   ]
  },
  {
   "cell_type": "code",
   "execution_count": 88,
   "metadata": {
    "scrolled": true
   },
   "outputs": [
    {
     "data": {
      "text/plain": [
       "finishing_position\n",
       "1        2361\n",
       "2        2354\n",
       "3        2350\n",
       "6        2346\n",
       "5        2341\n",
       "4        2340\n",
       "7        2339\n",
       "8        2329\n",
       "9        2305\n",
       "10       2260\n",
       "11       2186\n",
       "12       2020\n",
       "13        995\n",
       "14        838\n",
       "WV        461\n",
       "WV-A      102\n",
       "4 DH       35\n",
       "PU         29\n",
       "UR         26\n",
       "3 DH       20\n",
       "5 DH       18\n",
       "WX         16\n",
       "2 DH       14\n",
       "6 DH       14\n",
       "8 DH       12\n",
       "1 DH       12\n",
       "FE         10\n",
       "WX-A       10\n",
       "10 DH       8\n",
       "9 DH        8\n",
       "7 DH        8\n",
       "DNF         7\n",
       "TNP         6\n",
       "11 DH       4\n",
       "12 DH       2\n",
       "NA          2\n",
       "DISQ        1\n",
       "Name: count, dtype: int64"
      ]
     },
     "execution_count": 88,
     "metadata": {},
     "output_type": "execute_result"
    }
   ],
   "source": [
    "horse_df['finishing_position'].value_counts()"
   ]
  },
  {
   "cell_type": "code",
   "execution_count": 89,
   "metadata": {},
   "outputs": [
    {
     "data": {
      "text/plain": [
       "297      9 DH\n",
       "298      9 DH\n",
       "592      2 DH\n",
       "593      2 DH\n",
       "752      1 DH\n",
       "         ... \n",
       "29328    9 DH\n",
       "29665    5 DH\n",
       "29666    5 DH\n",
       "29945    4 DH\n",
       "29946    4 DH\n",
       "Name: finishing_position, Length: 155, dtype: object"
      ]
     },
     "execution_count": 89,
     "metadata": {},
     "output_type": "execute_result"
    }
   ],
   "source": [
    "horse_df[horse_df['finishing_position'].str.contains('DH')]['finishing_position']"
   ]
  },
  {
   "cell_type": "code",
   "execution_count": 79,
   "metadata": {},
   "outputs": [
    {
     "data": {
      "text/plain": [
       "count    29542.000000\n",
       "mean         6.826992\n",
       "std          3.724886\n",
       "min          1.000000\n",
       "25%          4.000000\n",
       "50%          7.000000\n",
       "75%         10.000000\n",
       "max         14.000000\n",
       "Name: running_position_3, dtype: float64"
      ]
     },
     "execution_count": 79,
     "metadata": {},
     "output_type": "execute_result"
    }
   ],
   "source": [
    "horse_df['running_position_3'].describe()"
   ]
  },
  {
   "cell_type": "code",
   "execution_count": 80,
   "metadata": {},
   "outputs": [
    {
     "data": {
      "text/plain": [
       "count    16618.000000\n",
       "mean         6.942472\n",
       "std          3.798080\n",
       "min          1.000000\n",
       "25%          4.000000\n",
       "50%          7.000000\n",
       "75%         10.000000\n",
       "max         14.000000\n",
       "Name: running_position_4, dtype: float64"
      ]
     },
     "execution_count": 80,
     "metadata": {},
     "output_type": "execute_result"
    }
   ],
   "source": [
    "horse_df['running_position_4'].describe()"
   ]
  },
  {
   "cell_type": "code",
   "execution_count": 77,
   "metadata": {},
   "outputs": [
    {
     "data": {
      "text/plain": [
       "jockey\n",
       "J Moreira    1995\n",
       "K Teetan     1761\n",
       "Z Purton     1651\n",
       "D Whyte      1608\n",
       "N Callan     1590\n",
       "             ... \n",
       "K Manning       1\n",
       "T Ono           1\n",
       "M Nunes         1\n",
       "J Spencer       1\n",
       "T Jarnet        1\n",
       "Name: count, Length: 106, dtype: int64"
      ]
     },
     "execution_count": 77,
     "metadata": {},
     "output_type": "execute_result"
    }
   ],
   "source": [
    "horse_df['jockey'].value_counts()"
   ]
  },
  {
   "cell_type": "code",
   "execution_count": 78,
   "metadata": {
    "scrolled": true
   },
   "outputs": [
    {
     "data": {
      "text/plain": [
       "trainer\n",
       "A S Cruz          1751\n",
       "C Fownes          1724\n",
       "C H Yip           1692\n",
       "J Moore           1654\n",
       "Y S Tsui          1652\n",
       "J Size            1499\n",
       "C S Shum          1466\n",
       "W Y So            1438\n",
       "P F Yiu           1410\n",
       "A T Millard       1349\n",
       "K L Man           1337\n",
       "T P Yung          1263\n",
       "D E Ferraris      1251\n",
       "P O'Sullivan      1195\n",
       "A Lee             1182\n",
       "C W Chang         1136\n",
       "K W Lui           1132\n",
       "R Gibson          1103\n",
       "D J Hall          1090\n",
       "D Cruz            1012\n",
       "L Ho              1012\n",
       "T K Ng             715\n",
       "S Woods            509\n",
       "A Schutz           496\n",
       "H Fujiwara           8\n",
       "N Hori               7\n",
       "Y Ikee               5\n",
       "D A Hayes            4\n",
       "A Fabre              4\n",
       "A P O'Brien          4\n",
       "J Lau                3\n",
       "M Saito              3\n",
       "Sir M R Stoute       3\n",
       "Barande-Barbe        3\n",
       "P Bary               2\n",
       "G Allendorf          2\n",
       "K C Chong            2\n",
       "Y C Fung             2\n",
       "de Royer Dupre       2\n",
       "G Enebish            2\n",
       "M C Tam              2\n",
       "M Sakaguchi          2\n",
       "T Ozeki              2\n",
       "K C Wong             2\n",
       "K Kato               2\n",
       "E M Lynam            2\n",
       "E A L Dunlop         2\n",
       "R Heathcote          2\n",
       "T A Hogan            2\n",
       "J O'Hara             2\n",
       "R Varian             1\n",
       "G W Moore            1\n",
       "M Hawkes             1\n",
       "C Appleby            1\n",
       "J O'Shea             1\n",
       "R Okubo              1\n",
       "A Bull               1\n",
       "P B Shaw             1\n",
       "M L W Bell           1\n",
       "F Rohaut             1\n",
       "G Portelli           1\n",
       "K Fujioka            1\n",
       "R Fahey              1\n",
       "C Clement            1\n",
       "T Tanaka             1\n",
       "K Yoshimura          1\n",
       "J M Moore            1\n",
       "W H Tse              1\n",
       "S H Cheong           1\n",
       "R Hickmott           1\n",
       "G Bietolini          1\n",
       "M F de Kock          1\n",
       "O Hirata             1\n",
       "Pat Lee              1\n",
       "R Charlton           1\n",
       "D Simcock            1\n",
       "Y Yahagi             1\n",
       "S Chow               1\n",
       "I Sameshima          1\n",
       "N Takagi             1\n",
       "M Delzangles         1\n",
       "C Waller             1\n",
       "H Otonashi           1\n",
       "W A Ward             1\n",
       "J S Bolger           1\n",
       "S Kunieda            1\n",
       "R Hannon             1\n",
       "D O'Meara            1\n",
       "E Mader              1\n",
       "P Schiergen          1\n",
       "K Lees               1\n",
       "F Head               1\n",
       "D K Weld             1\n",
       "A de Watrigant       1\n",
       "Ed Walker            1\n",
       "Name: count, dtype: int64"
      ]
     },
     "execution_count": 78,
     "metadata": {},
     "output_type": "execute_result"
    }
   ],
   "source": [
    "horse_df['trainer'].value_counts()"
   ]
  },
  {
   "cell_type": "code",
   "execution_count": 37,
   "metadata": {},
   "outputs": [
    {
     "data": {
      "text/plain": [
       "'\\n                TRAVEL BROTHER was withdrawn on 5.4.16 by order of the Stewards acting on veterinary advice (lame left fore).  BORN IN CHINA was also withdrawn on 5.4.16 by order of the Stewards acting on veterinary advice (lame right fore).  Before being allowed to race again, TRAVEL BROTHER and BORN IN CHINA will be subjected to an official veterinary examination.\\nFrom the outside barriers, MR GENUINE and DISCIPLES TWELVE were shifted across behind runners shortly after the start.\\nApproaching the 800 Metres, MR GENUINE was retired from the race.  A veterinary inspection of MR GENUINE immediately following the race found that horse to be lame in its right hind leg.  Before being allowed to race again, MR GENUINE will be subjected to an official veterinary examination.\\nPABLOSKY and PACKING LLAREGYB were sent for sampling.\\n'"
      ]
     },
     "execution_count": 37,
     "metadata": {},
     "output_type": "execute_result"
    }
   ],
   "source": [
    "race_df['incident_report'].sample(1).values[0]"
   ]
  },
  {
   "cell_type": "code",
   "execution_count": 278,
   "metadata": {},
   "outputs": [
    {
     "data": {
      "text/html": [
       "<div>\n",
       "<style scoped>\n",
       "    .dataframe tbody tr th:only-of-type {\n",
       "        vertical-align: middle;\n",
       "    }\n",
       "\n",
       "    .dataframe tbody tr th {\n",
       "        vertical-align: top;\n",
       "    }\n",
       "\n",
       "    .dataframe thead th {\n",
       "        text-align: right;\n",
       "    }\n",
       "</style>\n",
       "<table border=\"1\" class=\"dataframe\">\n",
       "  <thead>\n",
       "    <tr style=\"text-align: right;\">\n",
       "      <th></th>\n",
       "      <th>src</th>\n",
       "      <th>race_date</th>\n",
       "      <th>race_course</th>\n",
       "      <th>race_number</th>\n",
       "      <th>race_id</th>\n",
       "      <th>race_class</th>\n",
       "      <th>race_distance</th>\n",
       "      <th>track_condition</th>\n",
       "      <th>race_name</th>\n",
       "      <th>track</th>\n",
       "      <th>sectional_time</th>\n",
       "      <th>race_course_track</th>\n",
       "      <th>GOOD TO FIRM_ratio</th>\n",
       "      <th>WET FAST_ratio</th>\n",
       "      <th>GOOD_ratio</th>\n",
       "      <th>GOOD TO YIELDING_ratio</th>\n",
       "      <th>WET SLOW_ratio</th>\n",
       "      <th>FAST_ratio</th>\n",
       "      <th>YIELDING_ratio</th>\n",
       "      <th>YIELDING TO SOFT_ratio</th>\n",
       "      <th>SOFT_ratio</th>\n",
       "    </tr>\n",
       "  </thead>\n",
       "  <tbody>\n",
       "    <tr>\n",
       "      <th>2256</th>\n",
       "      <td>20170604-1.html</td>\n",
       "      <td>2017-06-04</td>\n",
       "      <td>Sha Tin</td>\n",
       "      <td>1</td>\n",
       "      <td>2016-697</td>\n",
       "      <td>Griffin Race</td>\n",
       "      <td>1200</td>\n",
       "      <td>GOOD TO FIRM</td>\n",
       "      <td>TATE'S CAIRN PLATE</td>\n",
       "      <td>TURF - \"B\" COURSE</td>\n",
       "      <td>25.54 23.15 22.28</td>\n",
       "      <td>Sha Tin_TURF - \"B\" COURSE</td>\n",
       "      <td>0.142857</td>\n",
       "      <td>0.00000</td>\n",
       "      <td>0.857143</td>\n",
       "      <td>0.000000</td>\n",
       "      <td>0.000000</td>\n",
       "      <td>0.000000</td>\n",
       "      <td>0.000000</td>\n",
       "      <td>0.0</td>\n",
       "      <td>0.0</td>\n",
       "    </tr>\n",
       "    <tr>\n",
       "      <th>2151</th>\n",
       "      <td>20170423-3.html</td>\n",
       "      <td>2017-04-23</td>\n",
       "      <td>Sha Tin</td>\n",
       "      <td>3</td>\n",
       "      <td>2016-591</td>\n",
       "      <td>Class 4</td>\n",
       "      <td>1650</td>\n",
       "      <td>WET SLOW</td>\n",
       "      <td>AGE-FRIENDLY CITY HANDICAP</td>\n",
       "      <td>ALL WEATHER TRACK</td>\n",
       "      <td>27.96 23.43 24.20 23.44</td>\n",
       "      <td>Sha Tin_ALL WEATHER TRACK</td>\n",
       "      <td>0.000000</td>\n",
       "      <td>0.04878</td>\n",
       "      <td>0.808362</td>\n",
       "      <td>0.000000</td>\n",
       "      <td>0.076655</td>\n",
       "      <td>0.066202</td>\n",
       "      <td>0.000000</td>\n",
       "      <td>0.0</td>\n",
       "      <td>0.0</td>\n",
       "    </tr>\n",
       "    <tr>\n",
       "      <th>731</th>\n",
       "      <td>20150627-6.html</td>\n",
       "      <td>2015-06-27</td>\n",
       "      <td>Sha Tin</td>\n",
       "      <td>6</td>\n",
       "      <td>2014-731</td>\n",
       "      <td>Class 3</td>\n",
       "      <td>1000</td>\n",
       "      <td>GOOD TO FIRM</td>\n",
       "      <td>LEI YUE MUN PUBLIC RIDING SCHOOL HANDICAP</td>\n",
       "      <td>TURF - \"C+3\" COURSE</td>\n",
       "      <td>13.05 20.42 22.02</td>\n",
       "      <td>Sha Tin_TURF - \"C+3\" COURSE</td>\n",
       "      <td>0.533865</td>\n",
       "      <td>0.00000</td>\n",
       "      <td>0.406375</td>\n",
       "      <td>0.051793</td>\n",
       "      <td>0.000000</td>\n",
       "      <td>0.000000</td>\n",
       "      <td>0.007968</td>\n",
       "      <td>0.0</td>\n",
       "      <td>0.0</td>\n",
       "    </tr>\n",
       "    <tr>\n",
       "      <th>1267</th>\n",
       "      <td>20160320-10.html</td>\n",
       "      <td>2016-03-20</td>\n",
       "      <td>Sha Tin</td>\n",
       "      <td>10</td>\n",
       "      <td>2015-499</td>\n",
       "      <td>Class 3</td>\n",
       "      <td>1600</td>\n",
       "      <td>GOOD</td>\n",
       "      <td>COLLECTION HANDICAP</td>\n",
       "      <td>TURF - \"A\" COURSE</td>\n",
       "      <td>25.10 23.09 24.18 23.09</td>\n",
       "      <td>Sha Tin_TURF - \"A\" COURSE</td>\n",
       "      <td>0.550781</td>\n",
       "      <td>0.00000</td>\n",
       "      <td>0.382812</td>\n",
       "      <td>0.050781</td>\n",
       "      <td>0.000000</td>\n",
       "      <td>0.000000</td>\n",
       "      <td>0.015625</td>\n",
       "      <td>0.0</td>\n",
       "      <td>0.0</td>\n",
       "    </tr>\n",
       "    <tr>\n",
       "      <th>1228</th>\n",
       "      <td>20160302-8.html</td>\n",
       "      <td>2016-03-02</td>\n",
       "      <td>Happy Valley</td>\n",
       "      <td>8</td>\n",
       "      <td>2015-452</td>\n",
       "      <td>Class 3</td>\n",
       "      <td>1650</td>\n",
       "      <td>GOOD</td>\n",
       "      <td>SIU SAI WAN HANDICAP</td>\n",
       "      <td>TURF - \"C+3\" COURSE</td>\n",
       "      <td>28.00 23.31 25.07 23.81</td>\n",
       "      <td>Happy Valley_TURF - \"C+3\" COURSE</td>\n",
       "      <td>0.342105</td>\n",
       "      <td>0.00000</td>\n",
       "      <td>0.638158</td>\n",
       "      <td>0.019737</td>\n",
       "      <td>0.000000</td>\n",
       "      <td>0.000000</td>\n",
       "      <td>0.000000</td>\n",
       "      <td>0.0</td>\n",
       "      <td>0.0</td>\n",
       "    </tr>\n",
       "  </tbody>\n",
       "</table>\n",
       "</div>"
      ],
      "text/plain": [
       "                   src   race_date   race_course  race_number   race_id  \\\n",
       "2256   20170604-1.html  2017-06-04       Sha Tin            1  2016-697   \n",
       "2151   20170423-3.html  2017-04-23       Sha Tin            3  2016-591   \n",
       "731    20150627-6.html  2015-06-27       Sha Tin            6  2014-731   \n",
       "1267  20160320-10.html  2016-03-20       Sha Tin           10  2015-499   \n",
       "1228   20160302-8.html  2016-03-02  Happy Valley            8  2015-452   \n",
       "\n",
       "        race_class  race_distance track_condition  \\\n",
       "2256  Griffin Race           1200    GOOD TO FIRM   \n",
       "2151       Class 4           1650        WET SLOW   \n",
       "731        Class 3           1000    GOOD TO FIRM   \n",
       "1267       Class 3           1600            GOOD   \n",
       "1228       Class 3           1650            GOOD   \n",
       "\n",
       "                                      race_name                track  \\\n",
       "2256                         TATE'S CAIRN PLATE    TURF - \"B\" COURSE   \n",
       "2151                 AGE-FRIENDLY CITY HANDICAP    ALL WEATHER TRACK   \n",
       "731   LEI YUE MUN PUBLIC RIDING SCHOOL HANDICAP  TURF - \"C+3\" COURSE   \n",
       "1267                        COLLECTION HANDICAP    TURF - \"A\" COURSE   \n",
       "1228                       SIU SAI WAN HANDICAP  TURF - \"C+3\" COURSE   \n",
       "\n",
       "               sectional_time                 race_course_track  \\\n",
       "2256        25.54 23.15 22.28         Sha Tin_TURF - \"B\" COURSE   \n",
       "2151  27.96 23.43 24.20 23.44         Sha Tin_ALL WEATHER TRACK   \n",
       "731         13.05 20.42 22.02       Sha Tin_TURF - \"C+3\" COURSE   \n",
       "1267  25.10 23.09 24.18 23.09         Sha Tin_TURF - \"A\" COURSE   \n",
       "1228  28.00 23.31 25.07 23.81  Happy Valley_TURF - \"C+3\" COURSE   \n",
       "\n",
       "      GOOD TO FIRM_ratio  WET FAST_ratio  GOOD_ratio  GOOD TO YIELDING_ratio  \\\n",
       "2256            0.142857         0.00000    0.857143                0.000000   \n",
       "2151            0.000000         0.04878    0.808362                0.000000   \n",
       "731             0.533865         0.00000    0.406375                0.051793   \n",
       "1267            0.550781         0.00000    0.382812                0.050781   \n",
       "1228            0.342105         0.00000    0.638158                0.019737   \n",
       "\n",
       "      WET SLOW_ratio  FAST_ratio  YIELDING_ratio  YIELDING TO SOFT_ratio  \\\n",
       "2256        0.000000    0.000000        0.000000                     0.0   \n",
       "2151        0.076655    0.066202        0.000000                     0.0   \n",
       "731         0.000000    0.000000        0.007968                     0.0   \n",
       "1267        0.000000    0.000000        0.015625                     0.0   \n",
       "1228        0.000000    0.000000        0.000000                     0.0   \n",
       "\n",
       "      SOFT_ratio  \n",
       "2256         0.0  \n",
       "2151         0.0  \n",
       "731          0.0  \n",
       "1267         0.0  \n",
       "1228         0.0  "
      ]
     },
     "execution_count": 278,
     "metadata": {},
     "output_type": "execute_result"
    }
   ],
   "source": [
    "exclude_cols =['incident_report']\n",
    "race_df.drop(exclude_cols, axis=1).sample(5)"
   ]
  },
  {
   "cell_type": "code",
   "execution_count": 51,
   "metadata": {},
   "outputs": [
    {
     "data": {
      "text/plain": [
       "track_condition\n",
       "GOOD                1296\n",
       "GOOD TO FIRM         860\n",
       "GOOD TO YIELDING     126\n",
       "YIELDING              28\n",
       "WET SLOW              22\n",
       "FAST                  19\n",
       "WET FAST              14\n",
       "YIELDING TO SOFT       1\n",
       "SOFT                   1\n",
       "Name: count, dtype: int64"
      ]
     },
     "execution_count": 51,
     "metadata": {},
     "output_type": "execute_result"
    }
   ],
   "source": [
    "race_df['track_condition'].value_counts()"
   ]
  },
  {
   "cell_type": "code",
   "execution_count": 53,
   "metadata": {},
   "outputs": [
    {
     "data": {
      "text/plain": [
       "race_course\n",
       "Sha Tin         1513\n",
       "Happy Valley     854\n",
       "Name: count, dtype: int64"
      ]
     },
     "execution_count": 53,
     "metadata": {},
     "output_type": "execute_result"
    }
   ],
   "source": [
    "race_df['race_course'].value_counts()\n"
   ]
  },
  {
   "cell_type": "code",
   "execution_count": 74,
   "metadata": {},
   "outputs": [
    {
     "data": {
      "text/plain": [
       "race_class\n",
       "Class 4                        859\n",
       "Class 3                        756\n",
       "Class 5                        339\n",
       "Class 2                        223\n",
       "Class 1                         51\n",
       "Group One                       32\n",
       "Hong Kong Group Three           25\n",
       "Griffin Race                    16\n",
       "Group Two                       14\n",
       "Group Three                     12\n",
       "Class 4 (Restricted)             9\n",
       "Hong Kong Group One              9\n",
       "Hong Kong Group Two              8\n",
       "Restricted Race                  6\n",
       "Class 4 (Special Condition)      6\n",
       "Class 3 (Special Condition)      2\n",
       "Name: count, dtype: int64"
      ]
     },
     "execution_count": 74,
     "metadata": {},
     "output_type": "execute_result"
    }
   ],
   "source": [
    "race_df['race_class'].value_counts()"
   ]
  },
  {
   "cell_type": "code",
   "execution_count": 72,
   "metadata": {},
   "outputs": [
    {
     "data": {
      "text/plain": [
       "408                                          KUT CHEONG HANDICAP\n",
       "2362                                         MIRACULOUS HANDICAP\n",
       "1967                                          BUTTERFLY HANDICAP\n",
       "642     THE SPORTS CLUB DIAMOND JUBILEE CHALLENGE CUP (HANDICAP)\n",
       "1177                                            HEATHER HANDICAP\n",
       "Name: race_name, dtype: object"
      ]
     },
     "execution_count": 72,
     "metadata": {},
     "output_type": "execute_result"
    }
   ],
   "source": [
    "race_df['race_name'].sample(5)"
   ]
  },
  {
   "cell_type": "code",
   "execution_count": 54,
   "metadata": {},
   "outputs": [
    {
     "data": {
      "text/plain": [
       "race_name\n",
       "LYNDHURST HANDICAP                                     6\n",
       "SATURN HANDICAP                                        6\n",
       "KAM TIN RIVER HANDICAP                                 5\n",
       "WONG NAI CHUNG HANDICAP                                5\n",
       "DANDELION HANDICAP                                     5\n",
       "                                                      ..\n",
       "TONG FUK HANDICAP                                      1\n",
       "AUDEMARS PIGUET HANDICAP                               1\n",
       "THE PRINCE JEWELLERY & WATCH PREMIER CUP (HANDICAP)    1\n",
       "VACHERON CONSTANTIN HANDICAP                           1\n",
       "MEDIC KINGDOM HANDICAP                                 1\n",
       "Name: count, Length: 1084, dtype: int64"
      ]
     },
     "execution_count": 54,
     "metadata": {},
     "output_type": "execute_result"
    }
   ],
   "source": [
    "race_df['race_name'].value_counts()"
   ]
  },
  {
   "cell_type": "code",
   "execution_count": 76,
   "metadata": {},
   "outputs": [
    {
     "data": {
      "text/plain": [
       "race_course_track\n",
       "Sha Tin_ALL WEATHER TRACK           287\n",
       "Happy Valley_TURF - \"A\" COURSE      264\n",
       "Sha Tin_TURF - \"A\" COURSE           256\n",
       "Sha Tin_TURF - \"C+3\" COURSE         251\n",
       "Sha Tin_TURF - \"C\" COURSE           242\n",
       "Happy Valley_TURF - \"B\" COURSE      236\n",
       "Sha Tin_TURF - \"B+2\" COURSE         207\n",
       "Happy Valley_TURF - \"C\" COURSE      202\n",
       "Sha Tin_TURF - \"A+3\" COURSE         200\n",
       "Happy Valley_TURF - \"C+3\" COURSE    152\n",
       "Sha Tin_TURF - \"B\" COURSE            70\n",
       "Name: count, dtype: int64"
      ]
     },
     "execution_count": 76,
     "metadata": {},
     "output_type": "execute_result"
    }
   ],
   "source": [
    "race_df['race_course_track'].value_counts()"
   ]
  },
  {
   "cell_type": "code",
   "execution_count": null,
   "metadata": {},
   "outputs": [],
   "source": []
  },
  {
   "cell_type": "code",
   "execution_count": null,
   "metadata": {},
   "outputs": [],
   "source": []
  },
  {
   "cell_type": "code",
   "execution_count": 50,
   "metadata": {},
   "outputs": [
    {
     "name": "stdout",
     "output_type": "stream",
     "text": [
      "\n",
      "                AUDACITY was crowded for room on jumping between TEAM SWEET and FOREVER ACCURATE which shifted in.\n",
      "Shortly after the start, GAINFULJET and REGENCY BABY bumped, resulting in both horses becoming badly unbalanced.\n",
      "From the outside barrier, SUPER SWEET ORANGE was shifted across behind runners in the early stages.\n",
      "After the 1200 Metres, SUPER SWEET ORANGE got its head up on a number of occasions when proving difficult to settle.\n",
      "After the 800 Metres, SMART SALUTE was left racing wide and without cover.\n",
      "Near the 500 Metres, WORLD RECORD got its head on the side and shifted out towards the heels of SUPER SWEET ORANGE.\n",
      "Shortly after entering the Straight, DIVINE DIYA was steadied when disappointed for running between TEAM SWEET and EQUITY DOCTRINE.\n",
      "The Stewards inquired into the reason for Apprentice K K Chiong being dislodged from SUPER MAN passing the 350 Metres.  After taking evidence from Apprentice Chiong, in the presence of her allocated trainer, Mr K W Lui, N Callan (GAINFULJET) and Apprentice H N Wong (SMART SALUTE), it was established that rounding the Home Turn Apprentice Chiong attempted to shift SMART SALUTE out and improve between that horse and GAINFULJET where there was insufficient room.  After being disappointed for running, SUPER MAN then continued to race close to the heels of GAINFULJET and SMART SALUTE when held up for clear running.  SUPER MAN was consequently checked for some distance when unable to improve and passing the 350 Metres clipped the heels of SMART SALUTE and blundered badly, resulting in Apprentice Chiong being dislodged.  Apprentice Chiong was advised that she must show better judgement than she did on this occasion when positioning her mounts to obtain runs.  When Apprentice Chiong was dislodged from SUPER MAN, WORLD RECORD, which was following, was severely checked out away from the heels of that horse.  ROCK THE TREE, which was racing outside WORLD RECORD, was inconvenienced and AUDACITY, which was following SUPER MAN, was also hampered in consequence.  A veterinary inspection of SUPER MAN immediately following the race found that horse to be lame in its left front leg.  Before being allowed to race again, SUPER MAN will be subjected to an official veterinary examination.  After the race, Apprentice Chiong was examined by the Club's medical officers and passed fit to fulfil her remaining race riding engagements.\n",
      "Near the 250 Metres, TEAM SWEET raced in restricted room between EQUITY DOCTRINE and FOREVER ACCURATE which shifted in marginally.\n",
      "A veterinary inspection of WORLD RECORD immediately following the race did not show any significant findings.\n",
      "TEAM SWEET, RUN FORREST and REGENCY BABY were sent for sampling.\n",
      "\n"
     ]
    }
   ],
   "source": [
    "# sentiment analysis on hourse \n",
    "\n",
    "rid = np.random.randint(1, len(race_df))\n",
    "print(race_df['incident_report'][rid])"
   ]
  },
  {
   "cell_type": "code",
   "execution_count": null,
   "metadata": {},
   "outputs": [],
   "source": []
  },
  {
   "cell_type": "code",
   "execution_count": null,
   "metadata": {},
   "outputs": [],
   "source": []
  },
  {
   "cell_type": "code",
   "execution_count": null,
   "metadata": {},
   "outputs": [],
   "source": []
  },
  {
   "cell_type": "code",
   "execution_count": null,
   "metadata": {},
   "outputs": [],
   "source": []
  },
  {
   "cell_type": "code",
   "execution_count": null,
   "metadata": {},
   "outputs": [],
   "source": []
  }
 ],
 "metadata": {
  "kernelspec": {
   "display_name": "Python [conda env:py310] *",
   "language": "python",
   "name": "conda-env-py310-py"
  },
  "language_info": {
   "codemirror_mode": {
    "name": "ipython",
    "version": 3
   },
   "file_extension": ".py",
   "mimetype": "text/x-python",
   "name": "python",
   "nbconvert_exporter": "python",
   "pygments_lexer": "ipython3",
   "version": "3.10.15"
  }
 },
 "nbformat": 4,
 "nbformat_minor": 4
}
