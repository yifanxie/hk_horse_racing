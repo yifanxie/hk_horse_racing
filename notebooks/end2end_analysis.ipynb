{
 "cells": [
  {
   "cell_type": "code",
   "execution_count": 41,
   "metadata": {},
   "outputs": [],
   "source": [
    "import requests\n",
    "import os\n",
    "import sys\n",
    "import pandas as pd\n",
    "import numpy as np\n",
    "\n",
    "# import key sklearn ml algos\n",
    "# import key sklearn metrics\n",
    "# import \n",
    "\n",
    "from typing import Optional\n",
    "import glob\n",
    "# Add the parent directory of this notebook to sys.path\n",
    "notebook_dir = os.path.dirname(os.path.abspath('__file__'))\n",
    "parent_dir = os.path.dirname(notebook_dir)\n",
    "sys.path.append(parent_dir)\n",
    "\n",
    "\n",
    "import datetime\n",
    "import json\n",
    "from tqdm import tqdm\n",
    "import gc\n",
    "# import ds_utils\n",
    "import random\n",
    "import matplotlib.pyplot as plt\n",
    "%matplotlib inline\n",
    "pd.set_option('display.max_colwidth', None)\n",
    "pd.set_option('display.max_rows', 100)\n",
    "pd.set_option('display.max_columns', 100)\n"
   ]
  },
  {
   "cell_type": "code",
   "execution_count": 86,
   "metadata": {},
   "outputs": [],
   "source": [
    "horse_result_file  = '../data/race-result-horse.csv'\n",
    "race_result_file = '../data/race-result-race.csv'\n",
    "\n",
    "horse_df = pd.read_csv(horse_result_file)\n",
    "race_df = pd.read_csv(race_result_file)\n",
    "\n",
    "race_df['race_course_track'] = race_df['race_course'] + '_' + race_df['track']\n",
    "horse_df['finishing_position'] = horse_df['finishing_position'].fillna('NA')"
   ]
  },
  {
   "cell_type": "code",
   "execution_count": 92,
   "metadata": {},
   "outputs": [],
   "source": [
    "clean_position = []\n",
    "for i,row in horse_df.iterrows():\n",
    "    row_finishing_position = row['finishing_position']\n",
    "    if 'DH' in row_finishing_position:\n",
    "        row_position = int(row_finishing_position[0])\n",
    "    else:\n",
    "        if str.isdigit(row_finishing_position):\n",
    "            row_position = int(row_finishing_position)\n",
    "        else:\n",
    "            row_position = 99\n",
    "    clean_position.append(row_position)\n",
    "horse_df['clean_position'] = clean_position"
   ]
  },
  {
   "cell_type": "code",
   "execution_count": 93,
   "metadata": {},
   "outputs": [
    {
     "data": {
      "text/plain": [
       "clean_position\n",
       "1     2387\n",
       "4     2375\n",
       "3     2370\n",
       "2     2368\n",
       "6     2360\n",
       "5     2359\n",
       "7     2347\n",
       "8     2341\n",
       "9     2313\n",
       "10    2260\n",
       "11    2186\n",
       "12    2020\n",
       "13     995\n",
       "14     838\n",
       "99     670\n",
       "Name: count, dtype: int64"
      ]
     },
     "execution_count": 93,
     "metadata": {},
     "output_type": "execute_result"
    }
   ],
   "source": [
    "horse_df['clean_position'].value_counts()"
   ]
  },
  {
   "cell_type": "code",
   "execution_count": 90,
   "metadata": {},
   "outputs": [
    {
     "data": {
      "text/plain": [
       "True"
      ]
     },
     "execution_count": 90,
     "metadata": {},
     "output_type": "execute_result"
    }
   ],
   "source": [
    "str.isdigit('5')"
   ]
  },
  {
   "cell_type": "code",
   "execution_count": null,
   "metadata": {},
   "outputs": [],
   "source": [
    "# feature note:\n",
    "# race_course_track: the combination of race_course and track\n",
    "# race course/track feature - sectional time statistics\n",
    "# race cource - race course_track conditional ratio\n",
    "# \n",
    "# horse feature -  ratio between actual weight, declared weight\n",
    "# horse feature - length behind winner statistics\n",
    "# horse feature - running position statistics\n",
    "# horse feature - jockey statistics - avg finishing position (<99)\n",
    "# horse feature - trainer statistic - avg finishing position (<99)\n",
    "# horse feature - failed to finish ration - num <99 / num_races\n",
    " \n",
    "# horse race feature - finish time/course length\n",
    "# horse race feature - \n",
    "\n",
    "\n",
    "\n",
    "# ask perplexity for features "
   ]
  },
  {
   "cell_type": "markdown",
   "metadata": {},
   "source": [
    "# initial analysis"
   ]
  },
  {
   "cell_type": "code",
   "execution_count": 4,
   "metadata": {},
   "outputs": [
    {
     "name": "stdout",
     "output_type": "stream",
     "text": [
      "(30189, 19)\n",
      "(2367, 12)\n"
     ]
    }
   ],
   "source": [
    "print(horse_df.shape)\n",
    "print(race_df.shape)\n"
   ]
  },
  {
   "cell_type": "code",
   "execution_count": 5,
   "metadata": {},
   "outputs": [
    {
     "name": "stdout",
     "output_type": "stream",
     "text": [
      "Index(['finishing_position', 'horse_number', 'horse_name', 'horse_id',\n",
      "       'jockey', 'trainer', 'actual_weight', 'declared_horse_weight', 'draw',\n",
      "       'length_behind_winner', 'running_position_1', 'running_position_2',\n",
      "       'running_position_3', 'running_position_4', 'finish_time', 'win_odds',\n",
      "       'running_position_5', 'running_position_6', 'race_id'],\n",
      "      dtype='object')\n",
      "Index(['src', 'race_date', 'race_course', 'race_number', 'race_id',\n",
      "       'race_class', 'race_distance', 'track_condition', 'race_name', 'track',\n",
      "       'sectional_time', 'incident_report'],\n",
      "      dtype='object')\n"
     ]
    }
   ],
   "source": [
    "print(horse_df.columns)\n",
    "print(race_df.columns)\n"
   ]
  },
  {
   "cell_type": "code",
   "execution_count": 8,
   "metadata": {},
   "outputs": [
    {
     "data": {
      "text/html": [
       "<div>\n",
       "<style scoped>\n",
       "    .dataframe tbody tr th:only-of-type {\n",
       "        vertical-align: middle;\n",
       "    }\n",
       "\n",
       "    .dataframe tbody tr th {\n",
       "        vertical-align: top;\n",
       "    }\n",
       "\n",
       "    .dataframe thead th {\n",
       "        text-align: right;\n",
       "    }\n",
       "</style>\n",
       "<table border=\"1\" class=\"dataframe\">\n",
       "  <thead>\n",
       "    <tr style=\"text-align: right;\">\n",
       "      <th></th>\n",
       "      <th>finishing_position</th>\n",
       "      <th>horse_number</th>\n",
       "      <th>horse_name</th>\n",
       "      <th>horse_id</th>\n",
       "      <th>jockey</th>\n",
       "      <th>trainer</th>\n",
       "      <th>actual_weight</th>\n",
       "      <th>declared_horse_weight</th>\n",
       "      <th>draw</th>\n",
       "      <th>length_behind_winner</th>\n",
       "      <th>running_position_1</th>\n",
       "      <th>running_position_2</th>\n",
       "      <th>running_position_3</th>\n",
       "      <th>running_position_4</th>\n",
       "      <th>finish_time</th>\n",
       "      <th>win_odds</th>\n",
       "      <th>running_position_5</th>\n",
       "      <th>running_position_6</th>\n",
       "      <th>race_id</th>\n",
       "    </tr>\n",
       "  </thead>\n",
       "  <tbody>\n",
       "    <tr>\n",
       "      <th>28604</th>\n",
       "      <td>13</td>\n",
       "      <td>7.0</td>\n",
       "      <td>SOUTHERN LEGEND</td>\n",
       "      <td>A252</td>\n",
       "      <td>J Moreira</td>\n",
       "      <td>C Fownes</td>\n",
       "      <td>122</td>\n",
       "      <td>1121</td>\n",
       "      <td>1</td>\n",
       "      <td>7-1/2</td>\n",
       "      <td>6.0</td>\n",
       "      <td>5.0</td>\n",
       "      <td>13.0</td>\n",
       "      <td>NaN</td>\n",
       "      <td>1.10.68</td>\n",
       "      <td>2.7</td>\n",
       "      <td>NaN</td>\n",
       "      <td>NaN</td>\n",
       "      <td>2016-688</td>\n",
       "    </tr>\n",
       "    <tr>\n",
       "      <th>19859</th>\n",
       "      <td>13</td>\n",
       "      <td>3.0</td>\n",
       "      <td>MAJOR CONNECTION</td>\n",
       "      <td>V067</td>\n",
       "      <td>O Bosson</td>\n",
       "      <td>D J Hall</td>\n",
       "      <td>132</td>\n",
       "      <td>1079</td>\n",
       "      <td>5</td>\n",
       "      <td>9-3/4</td>\n",
       "      <td>8.0</td>\n",
       "      <td>14.0</td>\n",
       "      <td>13.0</td>\n",
       "      <td>NaN</td>\n",
       "      <td>1.11.08</td>\n",
       "      <td>40</td>\n",
       "      <td>NaN</td>\n",
       "      <td>NaN</td>\n",
       "      <td>2015-774</td>\n",
       "    </tr>\n",
       "    <tr>\n",
       "      <th>22911</th>\n",
       "      <td>12</td>\n",
       "      <td>1.0</td>\n",
       "      <td>CELESTIAL NOVA</td>\n",
       "      <td>V045</td>\n",
       "      <td>T H So</td>\n",
       "      <td>C S Shum</td>\n",
       "      <td>131</td>\n",
       "      <td>1142</td>\n",
       "      <td>5</td>\n",
       "      <td>12-3/4</td>\n",
       "      <td>7.0</td>\n",
       "      <td>8.0</td>\n",
       "      <td>12.0</td>\n",
       "      <td>NaN</td>\n",
       "      <td>1.11.86</td>\n",
       "      <td>99</td>\n",
       "      <td>NaN</td>\n",
       "      <td>NaN</td>\n",
       "      <td>2016-230</td>\n",
       "    </tr>\n",
       "    <tr>\n",
       "      <th>11364</th>\n",
       "      <td>13</td>\n",
       "      <td>10.0</td>\n",
       "      <td>GOLDEN OSMANTHUS</td>\n",
       "      <td>N245</td>\n",
       "      <td>C K Tong</td>\n",
       "      <td>T K Ng</td>\n",
       "      <td>120</td>\n",
       "      <td>1138</td>\n",
       "      <td>9</td>\n",
       "      <td>11</td>\n",
       "      <td>7.0</td>\n",
       "      <td>8.0</td>\n",
       "      <td>10.0</td>\n",
       "      <td>13.0</td>\n",
       "      <td>1.24.99</td>\n",
       "      <td>99</td>\n",
       "      <td>NaN</td>\n",
       "      <td>NaN</td>\n",
       "      <td>2015-112</td>\n",
       "    </tr>\n",
       "    <tr>\n",
       "      <th>26937</th>\n",
       "      <td>8</td>\n",
       "      <td>5.0</td>\n",
       "      <td>JE PENSE</td>\n",
       "      <td>V354</td>\n",
       "      <td>S Clipperton</td>\n",
       "      <td>C W Chang</td>\n",
       "      <td>126</td>\n",
       "      <td>1111</td>\n",
       "      <td>7</td>\n",
       "      <td>6</td>\n",
       "      <td>6.0</td>\n",
       "      <td>6.0</td>\n",
       "      <td>6.0</td>\n",
       "      <td>6.0</td>\n",
       "      <td>1.49.47</td>\n",
       "      <td>11</td>\n",
       "      <td>8.0</td>\n",
       "      <td>NaN</td>\n",
       "      <td>2016-546</td>\n",
       "    </tr>\n",
       "  </tbody>\n",
       "</table>\n",
       "</div>"
      ],
      "text/plain": [
       "      finishing_position  horse_number        horse_name horse_id  \\\n",
       "28604                 13           7.0   SOUTHERN LEGEND     A252   \n",
       "19859                 13           3.0  MAJOR CONNECTION     V067   \n",
       "22911                 12           1.0    CELESTIAL NOVA     V045   \n",
       "11364                 13          10.0  GOLDEN OSMANTHUS     N245   \n",
       "26937                  8           5.0          JE PENSE     V354   \n",
       "\n",
       "             jockey    trainer actual_weight declared_horse_weight draw  \\\n",
       "28604     J Moreira   C Fownes           122                  1121    1   \n",
       "19859      O Bosson   D J Hall           132                  1079    5   \n",
       "22911        T H So   C S Shum           131                  1142    5   \n",
       "11364      C K Tong     T K Ng           120                  1138    9   \n",
       "26937  S Clipperton  C W Chang           126                  1111    7   \n",
       "\n",
       "      length_behind_winner  running_position_1  running_position_2  \\\n",
       "28604                7-1/2                 6.0                 5.0   \n",
       "19859                9-3/4                 8.0                14.0   \n",
       "22911               12-3/4                 7.0                 8.0   \n",
       "11364                   11                 7.0                 8.0   \n",
       "26937                    6                 6.0                 6.0   \n",
       "\n",
       "       running_position_3  running_position_4 finish_time win_odds  \\\n",
       "28604                13.0                 NaN     1.10.68      2.7   \n",
       "19859                13.0                 NaN     1.11.08       40   \n",
       "22911                12.0                 NaN     1.11.86       99   \n",
       "11364                10.0                13.0     1.24.99       99   \n",
       "26937                 6.0                 6.0     1.49.47       11   \n",
       "\n",
       "       running_position_5  running_position_6   race_id  \n",
       "28604                 NaN                 NaN  2016-688  \n",
       "19859                 NaN                 NaN  2015-774  \n",
       "22911                 NaN                 NaN  2016-230  \n",
       "11364                 NaN                 NaN  2015-112  \n",
       "26937                 8.0                 NaN  2016-546  "
      ]
     },
     "execution_count": 8,
     "metadata": {},
     "output_type": "execute_result"
    }
   ],
   "source": [
    "horse_df.sample(5)"
   ]
  },
  {
   "cell_type": "code",
   "execution_count": null,
   "metadata": {},
   "outputs": [],
   "source": [
    "use_cols=['']\n",
    "horse_df.sample(5)"
   ]
  },
  {
   "cell_type": "code",
   "execution_count": 81,
   "metadata": {},
   "outputs": [
    {
     "data": {
      "text/plain": [
       "count     30187\n",
       "unique       36\n",
       "top           1\n",
       "freq       2361\n",
       "Name: finishing_position, dtype: object"
      ]
     },
     "execution_count": 81,
     "metadata": {},
     "output_type": "execute_result"
    }
   ],
   "source": [
    "horse_df['finishing_position'].describe()"
   ]
  },
  {
   "cell_type": "code",
   "execution_count": 87,
   "metadata": {},
   "outputs": [
    {
     "data": {
      "text/plain": [
       "0"
      ]
     },
     "execution_count": 87,
     "metadata": {},
     "output_type": "execute_result"
    }
   ],
   "source": [
    "pd.isnull(horse_df['finishing_position']).sum()"
   ]
  },
  {
   "cell_type": "code",
   "execution_count": 88,
   "metadata": {},
   "outputs": [
    {
     "data": {
      "text/plain": [
       "finishing_position\n",
       "1        2361\n",
       "2        2354\n",
       "3        2350\n",
       "6        2346\n",
       "5        2341\n",
       "4        2340\n",
       "7        2339\n",
       "8        2329\n",
       "9        2305\n",
       "10       2260\n",
       "11       2186\n",
       "12       2020\n",
       "13        995\n",
       "14        838\n",
       "WV        461\n",
       "WV-A      102\n",
       "4 DH       35\n",
       "PU         29\n",
       "UR         26\n",
       "3 DH       20\n",
       "5 DH       18\n",
       "WX         16\n",
       "2 DH       14\n",
       "6 DH       14\n",
       "8 DH       12\n",
       "1 DH       12\n",
       "FE         10\n",
       "WX-A       10\n",
       "10 DH       8\n",
       "9 DH        8\n",
       "7 DH        8\n",
       "DNF         7\n",
       "TNP         6\n",
       "11 DH       4\n",
       "12 DH       2\n",
       "NA          2\n",
       "DISQ        1\n",
       "Name: count, dtype: int64"
      ]
     },
     "execution_count": 88,
     "metadata": {},
     "output_type": "execute_result"
    }
   ],
   "source": [
    "horse_df['finishing_position'].value_counts()"
   ]
  },
  {
   "cell_type": "code",
   "execution_count": 89,
   "metadata": {},
   "outputs": [
    {
     "data": {
      "text/plain": [
       "297      9 DH\n",
       "298      9 DH\n",
       "592      2 DH\n",
       "593      2 DH\n",
       "752      1 DH\n",
       "         ... \n",
       "29328    9 DH\n",
       "29665    5 DH\n",
       "29666    5 DH\n",
       "29945    4 DH\n",
       "29946    4 DH\n",
       "Name: finishing_position, Length: 155, dtype: object"
      ]
     },
     "execution_count": 89,
     "metadata": {},
     "output_type": "execute_result"
    }
   ],
   "source": [
    "horse_df[horse_df['finishing_position'].str.contains('DH')]['finishing_position']"
   ]
  },
  {
   "cell_type": "code",
   "execution_count": 79,
   "metadata": {},
   "outputs": [
    {
     "data": {
      "text/plain": [
       "count    29542.000000\n",
       "mean         6.826992\n",
       "std          3.724886\n",
       "min          1.000000\n",
       "25%          4.000000\n",
       "50%          7.000000\n",
       "75%         10.000000\n",
       "max         14.000000\n",
       "Name: running_position_3, dtype: float64"
      ]
     },
     "execution_count": 79,
     "metadata": {},
     "output_type": "execute_result"
    }
   ],
   "source": [
    "horse_df['running_position_3'].describe()"
   ]
  },
  {
   "cell_type": "code",
   "execution_count": 80,
   "metadata": {},
   "outputs": [
    {
     "data": {
      "text/plain": [
       "count    16618.000000\n",
       "mean         6.942472\n",
       "std          3.798080\n",
       "min          1.000000\n",
       "25%          4.000000\n",
       "50%          7.000000\n",
       "75%         10.000000\n",
       "max         14.000000\n",
       "Name: running_position_4, dtype: float64"
      ]
     },
     "execution_count": 80,
     "metadata": {},
     "output_type": "execute_result"
    }
   ],
   "source": [
    "horse_df['running_position_4'].describe()"
   ]
  },
  {
   "cell_type": "code",
   "execution_count": 77,
   "metadata": {},
   "outputs": [
    {
     "data": {
      "text/plain": [
       "jockey\n",
       "J Moreira    1995\n",
       "K Teetan     1761\n",
       "Z Purton     1651\n",
       "D Whyte      1608\n",
       "N Callan     1590\n",
       "             ... \n",
       "K Manning       1\n",
       "T Ono           1\n",
       "M Nunes         1\n",
       "J Spencer       1\n",
       "T Jarnet        1\n",
       "Name: count, Length: 106, dtype: int64"
      ]
     },
     "execution_count": 77,
     "metadata": {},
     "output_type": "execute_result"
    }
   ],
   "source": [
    "horse_df['jockey'].value_counts()"
   ]
  },
  {
   "cell_type": "code",
   "execution_count": 78,
   "metadata": {},
   "outputs": [
    {
     "data": {
      "text/plain": [
       "trainer\n",
       "A S Cruz          1751\n",
       "C Fownes          1724\n",
       "C H Yip           1692\n",
       "J Moore           1654\n",
       "Y S Tsui          1652\n",
       "J Size            1499\n",
       "C S Shum          1466\n",
       "W Y So            1438\n",
       "P F Yiu           1410\n",
       "A T Millard       1349\n",
       "K L Man           1337\n",
       "T P Yung          1263\n",
       "D E Ferraris      1251\n",
       "P O'Sullivan      1195\n",
       "A Lee             1182\n",
       "C W Chang         1136\n",
       "K W Lui           1132\n",
       "R Gibson          1103\n",
       "D J Hall          1090\n",
       "D Cruz            1012\n",
       "L Ho              1012\n",
       "T K Ng             715\n",
       "S Woods            509\n",
       "A Schutz           496\n",
       "H Fujiwara           8\n",
       "N Hori               7\n",
       "Y Ikee               5\n",
       "D A Hayes            4\n",
       "A Fabre              4\n",
       "A P O'Brien          4\n",
       "J Lau                3\n",
       "M Saito              3\n",
       "Sir M R Stoute       3\n",
       "Barande-Barbe        3\n",
       "P Bary               2\n",
       "G Allendorf          2\n",
       "K C Chong            2\n",
       "Y C Fung             2\n",
       "de Royer Dupre       2\n",
       "G Enebish            2\n",
       "M C Tam              2\n",
       "M Sakaguchi          2\n",
       "T Ozeki              2\n",
       "K C Wong             2\n",
       "K Kato               2\n",
       "E M Lynam            2\n",
       "E A L Dunlop         2\n",
       "R Heathcote          2\n",
       "T A Hogan            2\n",
       "J O'Hara             2\n",
       "R Varian             1\n",
       "G W Moore            1\n",
       "M Hawkes             1\n",
       "C Appleby            1\n",
       "J O'Shea             1\n",
       "R Okubo              1\n",
       "A Bull               1\n",
       "P B Shaw             1\n",
       "M L W Bell           1\n",
       "F Rohaut             1\n",
       "G Portelli           1\n",
       "K Fujioka            1\n",
       "R Fahey              1\n",
       "C Clement            1\n",
       "T Tanaka             1\n",
       "K Yoshimura          1\n",
       "J M Moore            1\n",
       "W H Tse              1\n",
       "S H Cheong           1\n",
       "R Hickmott           1\n",
       "G Bietolini          1\n",
       "M F de Kock          1\n",
       "O Hirata             1\n",
       "Pat Lee              1\n",
       "R Charlton           1\n",
       "D Simcock            1\n",
       "Y Yahagi             1\n",
       "S Chow               1\n",
       "I Sameshima          1\n",
       "N Takagi             1\n",
       "M Delzangles         1\n",
       "C Waller             1\n",
       "H Otonashi           1\n",
       "W A Ward             1\n",
       "J S Bolger           1\n",
       "S Kunieda            1\n",
       "R Hannon             1\n",
       "D O'Meara            1\n",
       "E Mader              1\n",
       "P Schiergen          1\n",
       "K Lees               1\n",
       "F Head               1\n",
       "D K Weld             1\n",
       "A de Watrigant       1\n",
       "Ed Walker            1\n",
       "Name: count, dtype: int64"
      ]
     },
     "execution_count": 78,
     "metadata": {},
     "output_type": "execute_result"
    }
   ],
   "source": [
    "horse_df['trainer'].value_counts()"
   ]
  },
  {
   "cell_type": "code",
   "execution_count": 37,
   "metadata": {},
   "outputs": [
    {
     "data": {
      "text/plain": [
       "'\\n                TRAVEL BROTHER was withdrawn on 5.4.16 by order of the Stewards acting on veterinary advice (lame left fore).  BORN IN CHINA was also withdrawn on 5.4.16 by order of the Stewards acting on veterinary advice (lame right fore).  Before being allowed to race again, TRAVEL BROTHER and BORN IN CHINA will be subjected to an official veterinary examination.\\nFrom the outside barriers, MR GENUINE and DISCIPLES TWELVE were shifted across behind runners shortly after the start.\\nApproaching the 800 Metres, MR GENUINE was retired from the race.  A veterinary inspection of MR GENUINE immediately following the race found that horse to be lame in its right hind leg.  Before being allowed to race again, MR GENUINE will be subjected to an official veterinary examination.\\nPABLOSKY and PACKING LLAREGYB were sent for sampling.\\n'"
      ]
     },
     "execution_count": 37,
     "metadata": {},
     "output_type": "execute_result"
    }
   ],
   "source": [
    "race_df['incident_report'].sample(1).values[0]"
   ]
  },
  {
   "cell_type": "code",
   "execution_count": 38,
   "metadata": {},
   "outputs": [
    {
     "data": {
      "text/html": [
       "<div>\n",
       "<style scoped>\n",
       "    .dataframe tbody tr th:only-of-type {\n",
       "        vertical-align: middle;\n",
       "    }\n",
       "\n",
       "    .dataframe tbody tr th {\n",
       "        vertical-align: top;\n",
       "    }\n",
       "\n",
       "    .dataframe thead th {\n",
       "        text-align: right;\n",
       "    }\n",
       "</style>\n",
       "<table border=\"1\" class=\"dataframe\">\n",
       "  <thead>\n",
       "    <tr style=\"text-align: right;\">\n",
       "      <th></th>\n",
       "      <th>src</th>\n",
       "      <th>race_date</th>\n",
       "      <th>race_course</th>\n",
       "      <th>race_number</th>\n",
       "      <th>race_id</th>\n",
       "      <th>race_class</th>\n",
       "      <th>race_distance</th>\n",
       "      <th>track_condition</th>\n",
       "      <th>race_name</th>\n",
       "      <th>track</th>\n",
       "      <th>sectional_time</th>\n",
       "    </tr>\n",
       "  </thead>\n",
       "  <tbody>\n",
       "    <tr>\n",
       "      <th>538</th>\n",
       "      <td>20150415-5.html</td>\n",
       "      <td>2015-04-15</td>\n",
       "      <td>Happy Valley</td>\n",
       "      <td>5</td>\n",
       "      <td>2014-539</td>\n",
       "      <td>Class 3</td>\n",
       "      <td>1200</td>\n",
       "      <td>GOOD TO FIRM</td>\n",
       "      <td>THE HONG KONG EXCHANGES CHALLENGE CUP (HANDICAP)</td>\n",
       "      <td>TURF - \"B\" COURSE</td>\n",
       "      <td>23.59 22.78 23.26</td>\n",
       "    </tr>\n",
       "    <tr>\n",
       "      <th>1548</th>\n",
       "      <td>20160706-8.html</td>\n",
       "      <td>2016-07-06</td>\n",
       "      <td>Happy Valley</td>\n",
       "      <td>8</td>\n",
       "      <td>2015-772</td>\n",
       "      <td>Class 2</td>\n",
       "      <td>1200</td>\n",
       "      <td>GOOD</td>\n",
       "      <td>LUGER HANDICAP</td>\n",
       "      <td>TURF - \"A\" COURSE</td>\n",
       "      <td>23.34 22.64 23.11</td>\n",
       "    </tr>\n",
       "    <tr>\n",
       "      <th>714</th>\n",
       "      <td>20150621-7.html</td>\n",
       "      <td>2015-06-21</td>\n",
       "      <td>Sha Tin</td>\n",
       "      <td>7</td>\n",
       "      <td>2014-714</td>\n",
       "      <td>Class 3</td>\n",
       "      <td>1200</td>\n",
       "      <td>YIELDING</td>\n",
       "      <td>DERBY RESTAURANT &amp; BAR HANDICAP</td>\n",
       "      <td>TURF - \"C\" COURSE</td>\n",
       "      <td>24.28 22.95 22.81</td>\n",
       "    </tr>\n",
       "    <tr>\n",
       "      <th>1205</th>\n",
       "      <td>20160224-4.html</td>\n",
       "      <td>2016-02-24</td>\n",
       "      <td>Happy Valley</td>\n",
       "      <td>4</td>\n",
       "      <td>2015-429</td>\n",
       "      <td>Class 1</td>\n",
       "      <td>1650</td>\n",
       "      <td>GOOD</td>\n",
       "      <td>SHAN KWONG HANDICAP</td>\n",
       "      <td>TURF - \"C\" COURSE</td>\n",
       "      <td>28.16 24.59 24.15 22.93</td>\n",
       "    </tr>\n",
       "    <tr>\n",
       "      <th>23</th>\n",
       "      <td>20140921-5.html</td>\n",
       "      <td>2014-09-21</td>\n",
       "      <td>Sha Tin</td>\n",
       "      <td>5</td>\n",
       "      <td>2014-023</td>\n",
       "      <td>Class 4</td>\n",
       "      <td>1600</td>\n",
       "      <td>GOOD TO FIRM</td>\n",
       "      <td>GUANGZHOU HANDICAP</td>\n",
       "      <td>TURF - \"B+2\" COURSE</td>\n",
       "      <td>24.11 23.56 25.16 23.01</td>\n",
       "    </tr>\n",
       "  </tbody>\n",
       "</table>\n",
       "</div>"
      ],
      "text/plain": [
       "                  src   race_date   race_course  race_number   race_id  \\\n",
       "538   20150415-5.html  2015-04-15  Happy Valley            5  2014-539   \n",
       "1548  20160706-8.html  2016-07-06  Happy Valley            8  2015-772   \n",
       "714   20150621-7.html  2015-06-21       Sha Tin            7  2014-714   \n",
       "1205  20160224-4.html  2016-02-24  Happy Valley            4  2015-429   \n",
       "23    20140921-5.html  2014-09-21       Sha Tin            5  2014-023   \n",
       "\n",
       "     race_class  race_distance track_condition  \\\n",
       "538     Class 3           1200    GOOD TO FIRM   \n",
       "1548    Class 2           1200            GOOD   \n",
       "714     Class 3           1200        YIELDING   \n",
       "1205    Class 1           1650            GOOD   \n",
       "23      Class 4           1600    GOOD TO FIRM   \n",
       "\n",
       "                                             race_name                track  \\\n",
       "538   THE HONG KONG EXCHANGES CHALLENGE CUP (HANDICAP)    TURF - \"B\" COURSE   \n",
       "1548                                    LUGER HANDICAP    TURF - \"A\" COURSE   \n",
       "714                    DERBY RESTAURANT & BAR HANDICAP    TURF - \"C\" COURSE   \n",
       "1205                               SHAN KWONG HANDICAP    TURF - \"C\" COURSE   \n",
       "23                                  GUANGZHOU HANDICAP  TURF - \"B+2\" COURSE   \n",
       "\n",
       "               sectional_time  \n",
       "538         23.59 22.78 23.26  \n",
       "1548        23.34 22.64 23.11  \n",
       "714         24.28 22.95 22.81  \n",
       "1205  28.16 24.59 24.15 22.93  \n",
       "23    24.11 23.56 25.16 23.01  "
      ]
     },
     "execution_count": 38,
     "metadata": {},
     "output_type": "execute_result"
    }
   ],
   "source": [
    "exclude_cols =['incident_report']\n",
    "race_df.drop(exclude_cols, axis=1).sample(5)"
   ]
  },
  {
   "cell_type": "code",
   "execution_count": 51,
   "metadata": {},
   "outputs": [
    {
     "data": {
      "text/plain": [
       "track_condition\n",
       "GOOD                1296\n",
       "GOOD TO FIRM         860\n",
       "GOOD TO YIELDING     126\n",
       "YIELDING              28\n",
       "WET SLOW              22\n",
       "FAST                  19\n",
       "WET FAST              14\n",
       "YIELDING TO SOFT       1\n",
       "SOFT                   1\n",
       "Name: count, dtype: int64"
      ]
     },
     "execution_count": 51,
     "metadata": {},
     "output_type": "execute_result"
    }
   ],
   "source": [
    "race_df['track_condition'].value_counts()"
   ]
  },
  {
   "cell_type": "code",
   "execution_count": 53,
   "metadata": {},
   "outputs": [
    {
     "data": {
      "text/plain": [
       "race_course\n",
       "Sha Tin         1513\n",
       "Happy Valley     854\n",
       "Name: count, dtype: int64"
      ]
     },
     "execution_count": 53,
     "metadata": {},
     "output_type": "execute_result"
    }
   ],
   "source": [
    "race_df['race_course'].value_counts()\n"
   ]
  },
  {
   "cell_type": "code",
   "execution_count": 74,
   "metadata": {},
   "outputs": [
    {
     "data": {
      "text/plain": [
       "race_class\n",
       "Class 4                        859\n",
       "Class 3                        756\n",
       "Class 5                        339\n",
       "Class 2                        223\n",
       "Class 1                         51\n",
       "Group One                       32\n",
       "Hong Kong Group Three           25\n",
       "Griffin Race                    16\n",
       "Group Two                       14\n",
       "Group Three                     12\n",
       "Class 4 (Restricted)             9\n",
       "Hong Kong Group One              9\n",
       "Hong Kong Group Two              8\n",
       "Restricted Race                  6\n",
       "Class 4 (Special Condition)      6\n",
       "Class 3 (Special Condition)      2\n",
       "Name: count, dtype: int64"
      ]
     },
     "execution_count": 74,
     "metadata": {},
     "output_type": "execute_result"
    }
   ],
   "source": [
    "race_df['race_class'].value_counts()"
   ]
  },
  {
   "cell_type": "code",
   "execution_count": 72,
   "metadata": {},
   "outputs": [
    {
     "data": {
      "text/plain": [
       "408                                          KUT CHEONG HANDICAP\n",
       "2362                                         MIRACULOUS HANDICAP\n",
       "1967                                          BUTTERFLY HANDICAP\n",
       "642     THE SPORTS CLUB DIAMOND JUBILEE CHALLENGE CUP (HANDICAP)\n",
       "1177                                            HEATHER HANDICAP\n",
       "Name: race_name, dtype: object"
      ]
     },
     "execution_count": 72,
     "metadata": {},
     "output_type": "execute_result"
    }
   ],
   "source": [
    "race_df['race_name'].sample(5)"
   ]
  },
  {
   "cell_type": "code",
   "execution_count": 54,
   "metadata": {},
   "outputs": [
    {
     "data": {
      "text/plain": [
       "race_name\n",
       "LYNDHURST HANDICAP                                     6\n",
       "SATURN HANDICAP                                        6\n",
       "KAM TIN RIVER HANDICAP                                 5\n",
       "WONG NAI CHUNG HANDICAP                                5\n",
       "DANDELION HANDICAP                                     5\n",
       "                                                      ..\n",
       "TONG FUK HANDICAP                                      1\n",
       "AUDEMARS PIGUET HANDICAP                               1\n",
       "THE PRINCE JEWELLERY & WATCH PREMIER CUP (HANDICAP)    1\n",
       "VACHERON CONSTANTIN HANDICAP                           1\n",
       "MEDIC KINGDOM HANDICAP                                 1\n",
       "Name: count, Length: 1084, dtype: int64"
      ]
     },
     "execution_count": 54,
     "metadata": {},
     "output_type": "execute_result"
    }
   ],
   "source": [
    "race_df['race_name'].value_counts()"
   ]
  },
  {
   "cell_type": "code",
   "execution_count": 76,
   "metadata": {},
   "outputs": [
    {
     "data": {
      "text/plain": [
       "race_course_track\n",
       "Sha Tin_ALL WEATHER TRACK           287\n",
       "Happy Valley_TURF - \"A\" COURSE      264\n",
       "Sha Tin_TURF - \"A\" COURSE           256\n",
       "Sha Tin_TURF - \"C+3\" COURSE         251\n",
       "Sha Tin_TURF - \"C\" COURSE           242\n",
       "Happy Valley_TURF - \"B\" COURSE      236\n",
       "Sha Tin_TURF - \"B+2\" COURSE         207\n",
       "Happy Valley_TURF - \"C\" COURSE      202\n",
       "Sha Tin_TURF - \"A+3\" COURSE         200\n",
       "Happy Valley_TURF - \"C+3\" COURSE    152\n",
       "Sha Tin_TURF - \"B\" COURSE            70\n",
       "Name: count, dtype: int64"
      ]
     },
     "execution_count": 76,
     "metadata": {},
     "output_type": "execute_result"
    }
   ],
   "source": [
    "race_df['race_course_track'].value_counts()"
   ]
  },
  {
   "cell_type": "code",
   "execution_count": null,
   "metadata": {},
   "outputs": [],
   "source": []
  },
  {
   "cell_type": "code",
   "execution_count": null,
   "metadata": {},
   "outputs": [],
   "source": []
  },
  {
   "cell_type": "code",
   "execution_count": 50,
   "metadata": {},
   "outputs": [
    {
     "name": "stdout",
     "output_type": "stream",
     "text": [
      "\n",
      "                AUDACITY was crowded for room on jumping between TEAM SWEET and FOREVER ACCURATE which shifted in.\n",
      "Shortly after the start, GAINFULJET and REGENCY BABY bumped, resulting in both horses becoming badly unbalanced.\n",
      "From the outside barrier, SUPER SWEET ORANGE was shifted across behind runners in the early stages.\n",
      "After the 1200 Metres, SUPER SWEET ORANGE got its head up on a number of occasions when proving difficult to settle.\n",
      "After the 800 Metres, SMART SALUTE was left racing wide and without cover.\n",
      "Near the 500 Metres, WORLD RECORD got its head on the side and shifted out towards the heels of SUPER SWEET ORANGE.\n",
      "Shortly after entering the Straight, DIVINE DIYA was steadied when disappointed for running between TEAM SWEET and EQUITY DOCTRINE.\n",
      "The Stewards inquired into the reason for Apprentice K K Chiong being dislodged from SUPER MAN passing the 350 Metres.  After taking evidence from Apprentice Chiong, in the presence of her allocated trainer, Mr K W Lui, N Callan (GAINFULJET) and Apprentice H N Wong (SMART SALUTE), it was established that rounding the Home Turn Apprentice Chiong attempted to shift SMART SALUTE out and improve between that horse and GAINFULJET where there was insufficient room.  After being disappointed for running, SUPER MAN then continued to race close to the heels of GAINFULJET and SMART SALUTE when held up for clear running.  SUPER MAN was consequently checked for some distance when unable to improve and passing the 350 Metres clipped the heels of SMART SALUTE and blundered badly, resulting in Apprentice Chiong being dislodged.  Apprentice Chiong was advised that she must show better judgement than she did on this occasion when positioning her mounts to obtain runs.  When Apprentice Chiong was dislodged from SUPER MAN, WORLD RECORD, which was following, was severely checked out away from the heels of that horse.  ROCK THE TREE, which was racing outside WORLD RECORD, was inconvenienced and AUDACITY, which was following SUPER MAN, was also hampered in consequence.  A veterinary inspection of SUPER MAN immediately following the race found that horse to be lame in its left front leg.  Before being allowed to race again, SUPER MAN will be subjected to an official veterinary examination.  After the race, Apprentice Chiong was examined by the Club's medical officers and passed fit to fulfil her remaining race riding engagements.\n",
      "Near the 250 Metres, TEAM SWEET raced in restricted room between EQUITY DOCTRINE and FOREVER ACCURATE which shifted in marginally.\n",
      "A veterinary inspection of WORLD RECORD immediately following the race did not show any significant findings.\n",
      "TEAM SWEET, RUN FORREST and REGENCY BABY were sent for sampling.\n",
      "\n"
     ]
    }
   ],
   "source": [
    "# sentiment analysis on hourse \n",
    "\n",
    "rid = np.random.randint(1, len(race_df))\n",
    "print(race_df['incident_report'][rid])"
   ]
  },
  {
   "cell_type": "code",
   "execution_count": null,
   "metadata": {},
   "outputs": [],
   "source": []
  },
  {
   "cell_type": "code",
   "execution_count": null,
   "metadata": {},
   "outputs": [],
   "source": []
  },
  {
   "cell_type": "code",
   "execution_count": null,
   "metadata": {},
   "outputs": [],
   "source": []
  },
  {
   "cell_type": "code",
   "execution_count": null,
   "metadata": {},
   "outputs": [],
   "source": []
  },
  {
   "cell_type": "code",
   "execution_count": null,
   "metadata": {},
   "outputs": [],
   "source": []
  }
 ],
 "metadata": {
  "kernelspec": {
   "display_name": "py310",
   "language": "python",
   "name": "python3"
  },
  "language_info": {
   "codemirror_mode": {
    "name": "ipython",
    "version": 3
   },
   "file_extension": ".py",
   "mimetype": "text/x-python",
   "name": "python",
   "nbconvert_exporter": "python",
   "pygments_lexer": "ipython3",
   "version": "3.10.15"
  }
 },
 "nbformat": 4,
 "nbformat_minor": 2
}
