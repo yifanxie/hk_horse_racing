{
 "cells": [
  {
   "cell_type": "code",
   "execution_count": 30,
   "id": "76afd98c-906c-4763-be4b-92d8f0ca4e25",
   "metadata": {},
   "outputs": [],
   "source": [
    "import requests\n",
    "import os\n",
    "import sys\n",
    "import pandas as pd\n",
    "import numpy as np\n",
    "\n",
    "\n",
    "from typing import Optional\n",
    "import glob\n",
    "from scipy import stats\n",
    "# Add the parent directory of this notebook to sys.path\n",
    "notebook_dir = os.path.dirname(os.path.abspath('__file__'))\n",
    "parent_dir = os.path.dirname(notebook_dir)\n",
    "sys.path.append(parent_dir)\n",
    "\n",
    "from project_tools import project_utils, project_class\n",
    "\n",
    "import datetime\n",
    "import json\n",
    "from tqdm.notebook import tqdm\n",
    "import gc\n",
    "# import ds_utils\n",
    "import random\n",
    "import matplotlib.pyplot as plt\n",
    "%matplotlib inline\n",
    "\n",
    "from importlib import reload\n",
    "pd.set_option('display.max_colwidth', None)\n",
    "pd.set_option('display.max_rows', 100)\n",
    "pd.set_option('display.max_columns', 100)\n",
    "pd.set_option('display.float_format', lambda x: '%.0f' % x)\n",
    "\n",
    "# Or for more precise control\n",
    "pd.set_option('display.float_format', '{:.0f}'.format)"
   ]
  },
  {
   "cell_type": "code",
   "execution_count": 33,
   "id": "8f4a22be-c2d6-47d6-b8f0-72a9f2d4675b",
   "metadata": {},
   "outputs": [],
   "source": [
    "from sklearn.metrics import mean_squared_error, mean_absolute_error, ndcg_score\n",
    "from scipy.stats import kendalltau, spearmanr"
   ]
  },
  {
   "cell_type": "code",
   "execution_count": 36,
   "id": "faa67249-0b90-4445-9cbc-1680900814ce",
   "metadata": {},
   "outputs": [],
   "source": [
    "def evaluate_horse_race_positions(y_true, y_pred_proba):\n",
    "    n_races, n_horses = y_pred_proba.shape\n",
    "    \n",
    "    # Convert probabilities to predicted rankings\n",
    "    y_pred_ranks = n_horses - np.argsort(y_pred_proba, axis=1)\n",
    "    \n",
    "    # Mean Squared Error\n",
    "    mse = mean_squared_error(y_true, y_pred_ranks)\n",
    "    \n",
    "    # Mean Absolute Error\n",
    "    mae = mean_absolute_error(y_true, y_pred_ranks)\n",
    "    \n",
    "    # Spearman's Rank Correlation\n",
    "    spearman_corr = np.mean([kendalltau(y_true[i], y_pred_ranks[i]).correlation \n",
    "                             for i in range(n_races)])\n",
    "    \n",
    "    # Normalized Discounted Cumulative Gain (NDCG)\n",
    "    ndcg = ndcg_score(y_true.reshape(1, -1), y_pred_proba.reshape(1, -1))\n",
    "    \n",
    "    # winner match\n",
    "    winner_match = np.mean([y_true_processed[i][0] == y_pred_ranks[i][0] for i in range(n_races)])\n",
    "\n",
    "    # Top 3 Set Match - considers [1,3,2] and [2,3,1] as matching\n",
    "    top3_set_match = np.mean([set(y_true_processed[i][:3]) == set(y_pred_ranks[i][:3])\n",
    "                             for i in range(n_races)])\n",
    "\n",
    "    # Top 3 Exact Match\n",
    "    top3_exact_match = np.mean([np.array_equal(np.sort(y_true_processed[i][:3]), np.sort(y_pred_ranks[i][:3])) \n",
    "                               for i in range(n_races)])\n",
    "    \n",
    "    return {\n",
    "        'Mean Squared Error': mse,\n",
    "        'Mean Absolute Error': mae,\n",
    "        \"Spearman's Rank Correlation\": spearman_corr,\n",
    "        'NDCG': ndcg,\n",
    "        'Winner Match': winner_match,\n",
    "        'Top 3 Set Match': top3_set_match,\n",
    "        'Top 3 Exact Match': top3_exact_match,\n",
    "    }"
   ]
  },
  {
   "cell_type": "code",
   "execution_count": 43,
   "id": "93252664-5874-465e-9d36-37ec5e8c90e7",
   "metadata": {},
   "outputs": [
    {
     "data": {
      "text/plain": [
       "array([[5, 1, 3, 2, 4]])"
      ]
     },
     "execution_count": 43,
     "metadata": {},
     "output_type": "execute_result"
    }
   ],
   "source": [
    "y_pred_ranks"
   ]
  },
  {
   "cell_type": "code",
   "execution_count": 52,
   "id": "8a74f85c-0f12-4af4-a8c7-c357c300eae8",
   "metadata": {},
   "outputs": [
    {
     "name": "stdout",
     "output_type": "stream",
     "text": [
      "[[4 1 3 2 5]]\n"
     ]
    },
    {
     "data": {
      "text/plain": [
       "array([[4, 1, 3, 2, 5]])"
      ]
     },
     "execution_count": 52,
     "metadata": {},
     "output_type": "execute_result"
    }
   ],
   "source": [
    "print(y_true_processed)\n",
    "y_true_processed"
   ]
  },
  {
   "cell_type": "code",
   "execution_count": 54,
   "id": "9761f700-d47c-44b2-9328-25a4525cdc4d",
   "metadata": {},
   "outputs": [
    {
     "name": "stdout",
     "output_type": "stream",
     "text": [
      "[[1 3 2 0 4]]\n",
      "[[1 3 2 4 0]]\n"
     ]
    }
   ],
   "source": [
    "print(np.argsort(y_true_processed))\n",
    "print(np.argsort(y_pred_ranks))"
   ]
  },
  {
   "cell_type": "code",
   "execution_count": 48,
   "id": "d4794f64-4200-4b29-991e-cefae8331548",
   "metadata": {},
   "outputs": [
    {
     "name": "stdout",
     "output_type": "stream",
     "text": [
      "[[0.1 0.4 0.2 0.2 0.1]]\n"
     ]
    },
    {
     "data": {
      "text/plain": [
       "array([[5, 1, 3, 2, 4]])"
      ]
     },
     "execution_count": 48,
     "metadata": {},
     "output_type": "execute_result"
    }
   ],
   "source": [
    "print(y_pred_proba)\n",
    "y_pred_ranks = n_horses - np.argsort(y_pred_proba, axis=1)\n",
    "y_pred_ranks"
   ]
  },
  {
   "cell_type": "code",
   "execution_count": 60,
   "id": "b98263a1-3714-49f4-b2c8-d432f838a9d0",
   "metadata": {},
   "outputs": [
    {
     "name": "stdout",
     "output_type": "stream",
     "text": [
      "[False False False False  True] [4 1 3 2] [[4 1 3 2 5]] [[5 1 3 2 4]]\n",
      "0.73074974489826\n",
      "0.8999999999999998\n",
      "[1 3 2] [1 3 2]\n",
      "1.0 1.0 1.0\n"
     ]
    }
   ],
   "source": [
    "# step by step function walk-through\n",
    "\n",
    "y_true = np.array([\n",
    "    [4, 1, 3, 2, 99],\n",
    "])\n",
    "\n",
    "y_pred_proba = np.array([\n",
    "    [0.1, 0.4, 0.2, 0.2, 0.1],\n",
    "    # [0.3, 0.1, 0.4, 0.1, 0.1],\n",
    "    # [0.2, 0.4, 0.1, 0.3, 0.1]\n",
    "])\n",
    "\n",
    "n_races, n_horses = y_pred_proba.shape\n",
    "y_true_processed = y_true.copy()\n",
    "dnf_value = 99\n",
    "\n",
    "# Convert probabilities to predicted rankings\n",
    "y_pred_ranks = n_horses - np.argsort(y_pred_proba, axis=1)\n",
    "\n",
    "i = 0\n",
    "invalid_mask = np.logical_or(\n",
    "    np.isnan(y_true[i]),\n",
    "    y_true[i] == dnf_value\n",
    ")\n",
    "\n",
    "valid_ranks = y_true[i][~invalid_mask]\n",
    "if len(valid_ranks) > 0:\n",
    "    max_rank = np.max(valid_ranks)\n",
    "    # Replace invalid values with max_rank + 1\n",
    "    y_true_processed[i][invalid_mask] = max_rank + 1\n",
    "\n",
    "print(invalid_mask, valid_ranks, y_true_processed, y_pred_ranks)\n",
    "\n",
    "ndcg = ndcg_score(y_true_processed.reshape(1, -1), y_pred_proba.reshape(1, -1))\n",
    "print(ndcg)\n",
    "\n",
    "spearman_corr = np.mean([spearmanr(y_true_processed[i], y_pred_ranks[i]).correlation \n",
    "                             for i in range(n_races)])\n",
    "\n",
    "print(spearman_corr)\n",
    "\n",
    "# winner match\n",
    "y_true_ranksort = np.argsort(y_true_processed, axis=1)\n",
    "y_pred_ranksort = np.argsort(y_pred_ranks, axis=1)\n",
    "\n",
    "winner_match = np.mean([y_true_ranksort[i][0] == y_pred_ranksort[i][0] for i in range(n_races)])\n",
    "# Top 3 Set Match - considers [1,3,2] and [2,3,1] as matching\n",
    "top3_set_match = np.mean([set(y_true_ranksort[i][:3]) == set(y_pred_ranksort[i][:3])\n",
    "                         for i in range(n_races)])\n",
    "\n",
    "# Top 3 Exact Match - only considers exact matches like [1,3,2] and [1,3,2]\n",
    "top3_exact_match = np.mean([np.array_equal(y_true_ranksort[i][:3], y_pred_ranksort[i][:3])\n",
    "                           for i in range(n_races)])\n",
    "\n",
    "print(y_true_ranksort[i][:3], y_pred_ranksort[i][:3])\n",
    "print(winner_match, top3_set_match, top3_exact_match)\n"
   ]
  },
  {
   "cell_type": "code",
   "execution_count": 38,
   "id": "ac35dec9-c02d-43de-859c-72c551b8c89f",
   "metadata": {},
   "outputs": [
    {
     "data": {
      "text/plain": [
       "array([[1, 2, 3]])"
      ]
     },
     "execution_count": 38,
     "metadata": {},
     "output_type": "execute_result"
    }
   ],
   "source": []
  },
  {
   "cell_type": "code",
   "execution_count": 25,
   "id": "a8a51bed-2e00-4abb-8924-b688398d02f2",
   "metadata": {},
   "outputs": [
    {
     "data": {
      "text/plain": [
       "1.0"
      ]
     },
     "execution_count": 25,
     "metadata": {},
     "output_type": "execute_result"
    }
   ],
   "source": [
    "# y_pred_ranks = n_horses - np.argsort(y_pred_proba, axis=1)\n",
    "\n",
    "k = 1\n",
    "top_k_pred = np.argsort(-y_pred_proba, axis=1)[:, :k]\n",
    "top_k_true = np.argsort(y_true_processed, axis=1)[:, :k]\n",
    "top_k_accuracy = np.mean([\n",
    "    len(set(top_k_pred[i]) & set(top_k_true[i])) / k \n",
    "    for i in range(n_races)\n",
    "])\n",
    "top_k_accuracy"
   ]
  },
  {
   "cell_type": "code",
   "execution_count": 28,
   "id": "27657158-f4a4-4e61-96d5-26da97b28a49",
   "metadata": {},
   "outputs": [
    {
     "name": "stdout",
     "output_type": "stream",
     "text": [
      "[[1 3 2]] [[1 2 3]]\n"
     ]
    },
    {
     "data": {
      "text/plain": [
       "1.0"
      ]
     },
     "execution_count": 28,
     "metadata": {},
     "output_type": "execute_result"
    }
   ],
   "source": [
    "# y_pred_ranks = n_horses - np.argsort(y_pred_proba, axis=1)\n",
    "\n",
    "k = 3\n",
    "top_k_pred = np.argsort(-y_pred_proba, axis=1)[:, :k]\n",
    "top_k_true = np.argsort(y_true_processed, axis=1)[:, :k]\n",
    "top_k_accuracy = np.mean([\n",
    "    len(set(top_k_pred[i]) & set(top_k_true[i])) / k \n",
    "    for i in range(n_races)\n",
    "])\n",
    "\n",
    "print(top_k_true, top_k_pred)\n",
    "top_k_accuracy"
   ]
  }
 ],
 "metadata": {
  "kernelspec": {
   "display_name": "Python [conda env:py310] *",
   "language": "python",
   "name": "conda-env-py310-py"
  },
  "language_info": {
   "codemirror_mode": {
    "name": "ipython",
    "version": 3
   },
   "file_extension": ".py",
   "mimetype": "text/x-python",
   "name": "python",
   "nbconvert_exporter": "python",
   "pygments_lexer": "ipython3",
   "version": "3.10.15"
  }
 },
 "nbformat": 4,
 "nbformat_minor": 5
}
