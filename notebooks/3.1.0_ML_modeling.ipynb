{
 "cells": [
  {
   "cell_type": "code",
   "execution_count": 1,
   "id": "4a22bb55-288f-4d08-9556-e7d437fdcd32",
   "metadata": {},
   "outputs": [
    {
     "name": "stdout",
     "output_type": "stream",
     "text": [
      "The history saving thread hit an unexpected error (OperationalError('attempt to write a readonly database')).History will not be written to the database.\n"
     ]
    }
   ],
   "source": [
    "import requests\n",
    "import os\n",
    "import sys\n",
    "import pandas as pd\n",
    "import numpy as np\n",
    "\n",
    "\n",
    "from typing import Optional\n",
    "import glob\n",
    "from scipy import stats\n",
    "# Add the parent directory of this notebook to sys.path\n",
    "notebook_dir = os.path.dirname(os.path.abspath('__file__'))\n",
    "parent_dir = os.path.dirname(notebook_dir)\n",
    "sys.path.append(parent_dir)\n",
    "\n",
    "from project_tools import project_utils, project_class\n",
    "\n",
    "import datetime\n",
    "import json\n",
    "from tqdm.notebook import tqdm\n",
    "import gc\n",
    "# import ds_utils\n",
    "import random\n",
    "import matplotlib.pyplot as plt\n",
    "from sklearn.metrics import mean_squared_error, mean_absolute_error, ndcg_score\n",
    "from scipy.stats import kendalltau, spearmanr\n",
    "from lightgbm import LGBMClassifier\n",
    "from sklearn.metrics import log_loss, accuracy_score\n",
    "\n",
    "%matplotlib inline\n",
    "\n",
    "from importlib import reload\n",
    "pd.set_option('display.max_colwidth', None)\n",
    "pd.set_option('display.max_rows', 100)\n",
    "pd.set_option('display.max_columns', 100)\n",
    "pd.set_option('display.float_format', lambda x: '%.0f' % x)\n",
    "\n",
    "# Or for more precise control\n",
    "pd.set_option('display.float_format', '{:.5f}'.format)"
   ]
  },
  {
   "cell_type": "markdown",
   "id": "99b1d0f2-e53f-4a5b-9c2c-c5c3da0c39fa",
   "metadata": {},
   "source": [
    "# load_data "
   ]
  },
  {
   "cell_type": "code",
   "execution_count": 138,
   "id": "e61b7e2a-1ade-47d6-b197-3bf03948b2ec",
   "metadata": {},
   "outputs": [],
   "source": [
    "# train_horse_race_df = pd.read_parquet('../feature_data/train_horse_race_df.parquet')\n",
    "# val_horse_race_df = pd.read_parquet('../feature_data/val_horse_race_df.parquet')                           \n",
    "horse_race_df = pd.read_parquet('../feature_data/horse_race_df.parquet')"
   ]
  },
  {
   "cell_type": "code",
   "execution_count": 3,
   "id": "bf15cd81-7db9-49be-a9dc-1b902f46dcfd",
   "metadata": {},
   "outputs": [
    {
     "name": "stdout",
     "output_type": "stream",
     "text": [
      "basic_cat_ordinal_features.parquet\n",
      "horse_class_feats.parquet\n",
      "horse_feats.parquet\n",
      "horse_race_df.parquet\n",
      "horse_running_position_features.parquet\n",
      "horse_track_running_position_features.parquet\n",
      "race_course_features.parquet\n",
      "trace_condition.parquet\n",
      "train_horse_positions_df.parquet\n",
      "train_horse_race_df.parquet\n",
      "train_jockey_positions_df.parquet\n",
      "train_trainer_positions_df.parquet\n",
      "val_horse_race_df.parquet\n"
     ]
    }
   ],
   "source": [
    "# load generated featureset\n",
    "!ls ../feature_data/"
   ]
  },
  {
   "cell_type": "code",
   "execution_count": 4,
   "id": "3ef06c80-3a5e-4860-b7bc-6db3b9aeb44f",
   "metadata": {},
   "outputs": [],
   "source": [
    "# load features\n",
    "basic_cat_ordinal_df = pd.read_parquet('../feature_data/basic_cat_ordinal_features.parquet')"
   ]
  },
  {
   "cell_type": "code",
   "execution_count": 5,
   "id": "34355c43-3738-4c71-952d-77bdeb12852f",
   "metadata": {},
   "outputs": [
    {
     "name": "stdout",
     "output_type": "stream",
     "text": [
      "(29520, 44)\n",
      "(29520, 6)\n"
     ]
    }
   ],
   "source": [
    "print(horse_race_df.shape)\n",
    "print(basic_cat_ordinal_df.shape)"
   ]
  },
  {
   "cell_type": "code",
   "execution_count": 6,
   "id": "b8ddad4b-b0eb-4024-994d-18bce407db12",
   "metadata": {},
   "outputs": [],
   "source": [
    "# load baseline evaluation result"
   ]
  },
  {
   "cell_type": "code",
   "execution_count": 7,
   "id": "9abbf3e2-1274-4023-9535-174236586a8b",
   "metadata": {},
   "outputs": [],
   "source": [
    "baseline_mean_results = pd.read_parquet('../evaluation_results/valdf_random_winodd_baseline_mean_results.parquet')"
   ]
  },
  {
   "cell_type": "code",
   "execution_count": 8,
   "id": "b7414f9f-f179-4666-a177-2078931cdebd",
   "metadata": {},
   "outputs": [
    {
     "data": {
      "text/html": [
       "<div>\n",
       "<style scoped>\n",
       "    .dataframe tbody tr th:only-of-type {\n",
       "        vertical-align: middle;\n",
       "    }\n",
       "\n",
       "    .dataframe tbody tr th {\n",
       "        vertical-align: top;\n",
       "    }\n",
       "\n",
       "    .dataframe thead th {\n",
       "        text-align: right;\n",
       "    }\n",
       "</style>\n",
       "<table border=\"1\" class=\"dataframe\">\n",
       "  <thead>\n",
       "    <tr style=\"text-align: right;\">\n",
       "      <th></th>\n",
       "      <th>random_probs</th>\n",
       "      <th>winning_odd_preds</th>\n",
       "    </tr>\n",
       "  </thead>\n",
       "  <tbody>\n",
       "    <tr>\n",
       "      <th>Winner Match</th>\n",
       "      <td>0.07632</td>\n",
       "      <td>0.29354</td>\n",
       "    </tr>\n",
       "    <tr>\n",
       "      <th>Top 3 Set Match</th>\n",
       "      <td>0.00783</td>\n",
       "      <td>0.05871</td>\n",
       "    </tr>\n",
       "    <tr>\n",
       "      <th>Top 3 Exact Match</th>\n",
       "      <td>0.00196</td>\n",
       "      <td>0.00978</td>\n",
       "    </tr>\n",
       "  </tbody>\n",
       "</table>\n",
       "</div>"
      ],
      "text/plain": [
       "                   random_probs  winning_odd_preds\n",
       "Winner Match            0.07632            0.29354\n",
       "Top 3 Set Match         0.00783            0.05871\n",
       "Top 3 Exact Match       0.00196            0.00978"
      ]
     },
     "execution_count": 8,
     "metadata": {},
     "output_type": "execute_result"
    }
   ],
   "source": [
    "baseline_mean_results"
   ]
  },
  {
   "cell_type": "markdown",
   "id": "bf478806-2947-4f98-a0c3-a1d950952367",
   "metadata": {},
   "source": [
    "# evaluation functions"
   ]
  },
  {
   "cell_type": "code",
   "execution_count": 9,
   "id": "00bbe6ee-8f8b-459b-8ffd-cda91d067b7c",
   "metadata": {},
   "outputs": [],
   "source": [
    "def evaluate_horse_race_positions(y_true, y_pred_proba, dnf_value=99):\n",
    "    \"\"\"\n",
    "    Evaluate predictions for a single race's finishing positions.\n",
    "    \n",
    "    Args:\n",
    "        y_true: 1D array of true finishing positions\n",
    "        y_pred_proba: 1D array of predicted probabilities\n",
    "        dnf_value: Value used to indicate Did Not Finish\n",
    "        \n",
    "    Returns:\n",
    "        Dictionary of evaluation metrics\n",
    "    \"\"\"\n",
    "    # Handle NaN and DNF values in ground truth\n",
    "    y_true_processed = y_true.copy()\n",
    "    invalid_mask = np.logical_or(\n",
    "        np.isnan(y_true),\n",
    "        y_true == dnf_value\n",
    "    )\n",
    "    \n",
    "    # Get max valid rank (excluding DNF values)\n",
    "    valid_ranks = y_true[~invalid_mask]\n",
    "    if len(valid_ranks) > 0:\n",
    "        max_rank = np.max(valid_ranks)\n",
    "        # Replace invalid values with max_rank + 1\n",
    "        y_true_processed[invalid_mask] = max_rank + 1\n",
    "        \n",
    "    # Winner match\n",
    "    y_true_ranksort = np.argsort(y_true_processed)\n",
    "    y_pred_ranksort = np.argsort(y_pred_proba, axis=0)[::-1]\n",
    "    \n",
    "    winner_match = y_true_ranksort[0] == y_pred_ranksort[0]\n",
    "    \n",
    "    # Top 3 Set Match - considers [1,3,2] and [2,3,1] as matching\n",
    "    top3_set_match = set(y_true_ranksort[:3]) == set(y_pred_ranksort[:3])\n",
    "    \n",
    "    # Top 3 Exact Match - only considers exact matches like [1,3,2] and [1,3,2]\n",
    "    top3_exact_match = np.array_equal(y_true_ranksort[:3], y_pred_ranksort[:3])\n",
    "    \n",
    "    return {\n",
    "        'Winner Match': float(winner_match),\n",
    "        'Top 3 Set Match': float(top3_set_match), \n",
    "        'Top 3 Exact Match': float(top3_exact_match)\n",
    "    }\n"
   ]
  },
  {
   "cell_type": "code",
   "execution_count": 10,
   "id": "a4d7d4bf-9c83-445e-9525-f3d37d31bd9a",
   "metadata": {},
   "outputs": [],
   "source": [
    "def evaluate_prediction_sets(eval_dict):\n",
    "    \"\"\"\n",
    "    Evaluate different prediction sets against ground truth for each race and calculate mean metrics\n",
    "    \n",
    "    Args:\n",
    "        eval_dict: Dictionary containing race data with ground truth and different prediction sets\n",
    "        \n",
    "    Returns:\n",
    "        tuple: (eval_result, mean_results_df)\n",
    "            - eval_result: Dictionary with detailed evaluation metrics for each race\n",
    "            - mean_results_df: DataFrame comparing mean metrics across prediction types\n",
    "    \"\"\"\n",
    "    # Initialize results dictionary with race_ids as first level keys\n",
    "    eval_result = {race_id: {} for race_id in eval_dict}\n",
    "\n",
    "    # Get prediction types from first race data\n",
    "    first_race_id = next(iter(eval_dict))\n",
    "    pred_types = [key for key in eval_dict[first_race_id].keys() if key != 'ground_truth']\n",
    "\n",
    "    # Initialize dictionaries to store mean results\n",
    "    mean_results = {pred_type: {} for pred_type in pred_types}\n",
    "\n",
    "    # Loop through each race\n",
    "    for race_id in eval_dict:\n",
    "        race_data = eval_dict[race_id]\n",
    "        ground_truth = race_data['ground_truth']\n",
    "        \n",
    "        # Evaluate each prediction type\n",
    "        for pred_type in pred_types:\n",
    "            pred_probs = race_data[pred_type]\n",
    "            \n",
    "            # Evaluate predictions for this race\n",
    "            race_eval = evaluate_horse_race_positions(\n",
    "                ground_truth,\n",
    "                pred_probs\n",
    "            )\n",
    "            \n",
    "            # Store results for this race under race_id first, then pred_type\n",
    "            eval_result[race_id][pred_type] = race_eval\n",
    "\n",
    "    # Calculate mean results for each prediction type\n",
    "    for pred_type in pred_types:\n",
    "        # Initialize dict to store means for each metric\n",
    "        metric_means = {}\n",
    "        \n",
    "        # Get metrics from first race to know what metrics exist\n",
    "        first_race = next(iter(eval_result.values()))\n",
    "        metrics = first_race[pred_type].keys()\n",
    "        \n",
    "        # For each metric, calculate mean across all races\n",
    "        for metric in metrics:\n",
    "            total = 0\n",
    "            num_races = 0\n",
    "            for race_id in eval_result:\n",
    "                total += eval_result[race_id][pred_type][metric]\n",
    "                num_races += 1\n",
    "            metric_means[metric] = total / num_races\n",
    "            \n",
    "        mean_results[pred_type] = metric_means\n",
    "    \n",
    "    # Convert mean results to DataFrame for easy comparison\n",
    "    mean_results_df = pd.DataFrame(mean_results)\n",
    "    \n",
    "    return eval_result, mean_results_df\n",
    "\n",
    "# # Run evaluation\n",
    "# eval_result, mean_results_df = evaluate_prediction_sets(eval_dict)\n",
    "\n",
    "# # Display mean results comparison\n",
    "# print(\"\\nMean Evaluation Metrics Comparison:\")\n",
    "# print(mean_results_df)\n"
   ]
  },
  {
   "cell_type": "code",
   "execution_count": null,
   "id": "eddd0bb2-b1e6-4a2d-82ca-b8163fc88ecf",
   "metadata": {},
   "outputs": [],
   "source": []
  },
  {
   "cell_type": "markdown",
   "id": "f5c89d08-aa4c-4523-982c-f524f45c6778",
   "metadata": {},
   "source": [
    "# lightgbm training function"
   ]
  },
  {
   "cell_type": "code",
   "execution_count": 17,
   "id": "850d687f-e897-4c76-9f6d-85739c56affb",
   "metadata": {},
   "outputs": [],
   "source": [
    "def train_lightgbm_model(train_df, val_df, label_col, cat_features=None, params=None):\n",
    "    \"\"\"\n",
    "    Train a LightGBM model for binary classification using LGBMClassifier\n",
    "    \n",
    "    Args:\n",
    "        train_df: Training dataframe containing features and label\n",
    "        val_df: Validation dataframe containing features and label  \n",
    "        label_col: Name of label column (should contain binary values 0/1)\n",
    "        cat_features: List of categorical feature names\n",
    "        params: Dict of LightGBM parameters\n",
    "        \n",
    "    Returns:\n",
    "        Trained model and validation predictions\n",
    "    \"\"\"\n",
    "    # Default parameters if none provided\n",
    "    if params is None:\n",
    "        params = {\n",
    "            'objective': 'binary',\n",
    "            'metric': 'binary_logloss',\n",
    "            'boosting_type': 'gbdt',\n",
    "            'n_estimators':150,\n",
    "            'num_leaves': 31,\n",
    "            'learning_rate': 0.05,\n",
    "            'feature_fraction': 0.9,  # Column sampling\n",
    "            'bagging_fraction': 0.8,  # Row sampling \n",
    "            'bagging_freq': 5,\n",
    "            'verbose': -1,\n",
    "            'max_depth': -1,\n",
    "            'min_child_samples': 20,\n",
    "            'reg_alpha': 0.0,\n",
    "            'reg_lambda': 0.0,\n",
    "            'is_unbalance': True  # Handle unbalanced datasets\n",
    "        }\n",
    "\n",
    "    # Separate features and labels\n",
    "    features = [col for col in train_df.columns if col != label_col]\n",
    "    X_train = train_df[features]\n",
    "    y_train = train_df[label_col]\n",
    "    X_val = val_df[features]\n",
    "    y_val = val_df[label_col]\n",
    "\n",
    "    # Initialize and train model\n",
    "    model = LGBMClassifier(**params)\n",
    "    \n",
    "    # Fit model with early stopping\n",
    "    model.fit(\n",
    "        X_train, y_train,\n",
    "        categorical_feature=cat_features if cat_features else 'auto'\n",
    "    )\n",
    "    \n",
    "    # Make validation predictions\n",
    "    val_preds = model.predict_proba(X_val)[:, 1]  # Get probability of positive class\n",
    "    val_logloss = log_loss(y_val, val_preds)\n",
    "    # val_acc = accuracy_score(y_val, val_preds > 0.5)  # Convert probs to binary predictions\n",
    "    print(f'Validation LogLoss: {val_logloss:.4f}')\n",
    "    # print(f'Validation Accuracy: {val_acc:.4f}')\n",
    "    \n",
    "    return model, val_preds"
   ]
  },
  {
   "cell_type": "code",
   "execution_count": 18,
   "id": "b4b0efdb-02ef-41d1-84f4-cb86a1a103c6",
   "metadata": {},
   "outputs": [
    {
     "name": "stdout",
     "output_type": "stream",
     "text": [
      "(29520, 44)\n",
      "(29520, 6)\n"
     ]
    }
   ],
   "source": [
    "print(horse_race_df.shape)\n",
    "print(basic_cat_ordinal_df.shape)"
   ]
  },
  {
   "cell_type": "markdown",
   "id": "08a8b6a7-42b7-4354-a319-857a762df4a3",
   "metadata": {},
   "source": [
    "# getting basic feature set"
   ]
  },
  {
   "cell_type": "code",
   "execution_count": 19,
   "id": "37c9fa87-dff5-4351-bf54-95732b0509fe",
   "metadata": {},
   "outputs": [
    {
     "name": "stdout",
     "output_type": "stream",
     "text": [
      "23232 6288\n"
     ]
    }
   ],
   "source": [
    "train_years = ['2014','2015','2016']\n",
    "val_years = ['2017']\n",
    "train_idx = horse_race_df[horse_race_df['year'].isin(train_years)].index\n",
    "val_idx = horse_race_df[horse_race_df['year'].isin(val_years)].index\n",
    "print(len(train_idx), len(val_idx))"
   ]
  },
  {
   "cell_type": "code",
   "execution_count": 20,
   "id": "4c53edc1-4a3a-4766-adb7-1ea800015007",
   "metadata": {},
   "outputs": [
    {
     "name": "stdout",
     "output_type": "stream",
     "text": [
      "(23232, 15) (6288, 15)\n"
     ]
    }
   ],
   "source": [
    "params = {\n",
    "    'objective': 'binary',\n",
    "    'metric': 'binary_logloss',\n",
    "    'boosting_type': 'gbdt',\n",
    "    'n_estimators':300,\n",
    "    'num_leaves': 32,\n",
    "    'learning_rate': 0.05,\n",
    "    'feature_fraction': 0.8,  # Column sampling\n",
    "    'bagging_fraction': 0.8,  # Row sampling \n",
    "    'bagging_freq': 5,\n",
    "    'verbose': -1,\n",
    "    'max_depth': -1,\n",
    "    'min_child_samples': 20,\n",
    "    'is_unbalance': True  # Handle unbalanced datasets\n",
    "}\n",
    "\n",
    "\n",
    "# first past featureset:\n",
    "target = 'is_winner'\n",
    "basic_num_features = ['horse_number', 'clean_actual_weight', 'clean_declared_horse_weight',\n",
    "                  'clean_win_odds', 'race_distance', 'clean_position_mavg_3', 'clean_position_mavg_5',\n",
    "                     'clean_position_mavg_7']\n",
    "\n",
    "\n",
    "basic_cat_features = basic_cat_ordinal_df.columns.tolist()\n",
    "\n",
    "df = pd.concat([horse_race_df[basic_num_features], basic_cat_ordinal_df], axis=1)\n",
    "df[target] = horse_race_df[target]\n",
    "\n",
    "train_df = df.loc[train_idx]\n",
    "val_df = df.loc[val_idx]\n",
    "\n",
    "print(train_df.shape, val_df.shape)\n"
   ]
  },
  {
   "cell_type": "code",
   "execution_count": null,
   "id": "fc362a94-8cb8-4da0-a217-739b29b77e9c",
   "metadata": {},
   "outputs": [],
   "source": []
  },
  {
   "cell_type": "code",
   "execution_count": 21,
   "id": "8b5265f8-dfb0-45ab-82e8-5cdc5e6ea7c9",
   "metadata": {},
   "outputs": [
    {
     "data": {
      "text/plain": [
       "Index(['horse_number', 'clean_actual_weight', 'clean_declared_horse_weight',\n",
       "       'clean_win_odds', 'race_distance', 'clean_position_mavg_3',\n",
       "       'clean_position_mavg_5', 'clean_position_mavg_7', 'jockey', 'trainer',\n",
       "       'race_course', 'race_course_track', 'race_class', 'track_condition',\n",
       "       'is_winner'],\n",
       "      dtype='object')"
      ]
     },
     "execution_count": 21,
     "metadata": {},
     "output_type": "execute_result"
    }
   ],
   "source": [
    "train_df.columns"
   ]
  },
  {
   "cell_type": "markdown",
   "id": "dfb43b15-465f-45f1-83f9-520af19f5076",
   "metadata": {},
   "source": [
    "# lightgbm with basic featureset"
   ]
  },
  {
   "cell_type": "code",
   "execution_count": 22,
   "id": "f0900226-5fad-4673-b1ad-57e3302a302b",
   "metadata": {},
   "outputs": [
    {
     "name": "stdout",
     "output_type": "stream",
     "text": [
      "Validation LogLoss: 0.3241\n"
     ]
    }
   ],
   "source": [
    "model, val_preds = train_lightgbm_model(train_df, val_df, target,\n",
    "                                        cat_features=basic_cat_features, params=params)"
   ]
  },
  {
   "cell_type": "code",
   "execution_count": 23,
   "id": "697fdfbe-b405-4269-acfd-26a23fd1f5a8",
   "metadata": {},
   "outputs": [],
   "source": [
    "# evaluation \n",
    "val_horse_race_df = horse_race_df.loc[val_idx].reset_index(drop=True)\n",
    "pred_col = f'lgbm_v0_preds_{target}'\n",
    "val_horse_race_df[pred_col] = val_preds"
   ]
  },
  {
   "cell_type": "code",
   "execution_count": 24,
   "id": "6dd36dfb-0e01-4888-aaa2-81277a00a42a",
   "metadata": {},
   "outputs": [
    {
     "data": {
      "text/html": [
       "<div>\n",
       "<style scoped>\n",
       "    .dataframe tbody tr th:only-of-type {\n",
       "        vertical-align: middle;\n",
       "    }\n",
       "\n",
       "    .dataframe tbody tr th {\n",
       "        vertical-align: top;\n",
       "    }\n",
       "\n",
       "    .dataframe thead th {\n",
       "        text-align: right;\n",
       "    }\n",
       "</style>\n",
       "<table border=\"1\" class=\"dataframe\">\n",
       "  <thead>\n",
       "    <tr style=\"text-align: right;\">\n",
       "      <th></th>\n",
       "      <th>race_id</th>\n",
       "      <th>horse_id</th>\n",
       "      <th>clean_position</th>\n",
       "      <th>is_winner</th>\n",
       "      <th>lgbm_v0_preds</th>\n",
       "    </tr>\n",
       "  </thead>\n",
       "  <tbody>\n",
       "    <tr>\n",
       "      <th>1439</th>\n",
       "      <td>2016-412</td>\n",
       "      <td>A170</td>\n",
       "      <td>1</td>\n",
       "      <td>1</td>\n",
       "      <td>0.26074</td>\n",
       "    </tr>\n",
       "    <tr>\n",
       "      <th>1440</th>\n",
       "      <td>2016-412</td>\n",
       "      <td>V017</td>\n",
       "      <td>2</td>\n",
       "      <td>0</td>\n",
       "      <td>0.24441</td>\n",
       "    </tr>\n",
       "    <tr>\n",
       "      <th>1441</th>\n",
       "      <td>2016-412</td>\n",
       "      <td>S419</td>\n",
       "      <td>3</td>\n",
       "      <td>0</td>\n",
       "      <td>0.03615</td>\n",
       "    </tr>\n",
       "    <tr>\n",
       "      <th>1442</th>\n",
       "      <td>2016-412</td>\n",
       "      <td>P310</td>\n",
       "      <td>4</td>\n",
       "      <td>0</td>\n",
       "      <td>0.00118</td>\n",
       "    </tr>\n",
       "    <tr>\n",
       "      <th>1443</th>\n",
       "      <td>2016-412</td>\n",
       "      <td>S240</td>\n",
       "      <td>5</td>\n",
       "      <td>0</td>\n",
       "      <td>0.02710</td>\n",
       "    </tr>\n",
       "    <tr>\n",
       "      <th>1444</th>\n",
       "      <td>2016-412</td>\n",
       "      <td>V235</td>\n",
       "      <td>6</td>\n",
       "      <td>0</td>\n",
       "      <td>0.12457</td>\n",
       "    </tr>\n",
       "    <tr>\n",
       "      <th>1445</th>\n",
       "      <td>2016-412</td>\n",
       "      <td>A100</td>\n",
       "      <td>7</td>\n",
       "      <td>0</td>\n",
       "      <td>0.80300</td>\n",
       "    </tr>\n",
       "    <tr>\n",
       "      <th>1446</th>\n",
       "      <td>2016-412</td>\n",
       "      <td>T331</td>\n",
       "      <td>8</td>\n",
       "      <td>0</td>\n",
       "      <td>0.21937</td>\n",
       "    </tr>\n",
       "    <tr>\n",
       "      <th>1447</th>\n",
       "      <td>2016-412</td>\n",
       "      <td>A157</td>\n",
       "      <td>9</td>\n",
       "      <td>0</td>\n",
       "      <td>0.21365</td>\n",
       "    </tr>\n",
       "    <tr>\n",
       "      <th>1448</th>\n",
       "      <td>2016-412</td>\n",
       "      <td>T357</td>\n",
       "      <td>10</td>\n",
       "      <td>0</td>\n",
       "      <td>0.18894</td>\n",
       "    </tr>\n",
       "    <tr>\n",
       "      <th>1449</th>\n",
       "      <td>2016-412</td>\n",
       "      <td>V135</td>\n",
       "      <td>11</td>\n",
       "      <td>0</td>\n",
       "      <td>0.03007</td>\n",
       "    </tr>\n",
       "    <tr>\n",
       "      <th>1450</th>\n",
       "      <td>2016-412</td>\n",
       "      <td>T196</td>\n",
       "      <td>12</td>\n",
       "      <td>0</td>\n",
       "      <td>0.01611</td>\n",
       "    </tr>\n",
       "    <tr>\n",
       "      <th>1451</th>\n",
       "      <td>2016-412</td>\n",
       "      <td>V002</td>\n",
       "      <td>13</td>\n",
       "      <td>0</td>\n",
       "      <td>0.00375</td>\n",
       "    </tr>\n",
       "    <tr>\n",
       "      <th>1452</th>\n",
       "      <td>2016-412</td>\n",
       "      <td>A139</td>\n",
       "      <td>14</td>\n",
       "      <td>0</td>\n",
       "      <td>0.01395</td>\n",
       "    </tr>\n",
       "  </tbody>\n",
       "</table>\n",
       "</div>"
      ],
      "text/plain": [
       "       race_id horse_id  clean_position  is_winner  lgbm_v0_preds\n",
       "1439  2016-412     A170               1          1        0.26074\n",
       "1440  2016-412     V017               2          0        0.24441\n",
       "1441  2016-412     S419               3          0        0.03615\n",
       "1442  2016-412     P310               4          0        0.00118\n",
       "1443  2016-412     S240               5          0        0.02710\n",
       "1444  2016-412     V235               6          0        0.12457\n",
       "1445  2016-412     A100               7          0        0.80300\n",
       "1446  2016-412     T331               8          0        0.21937\n",
       "1447  2016-412     A157               9          0        0.21365\n",
       "1448  2016-412     T357              10          0        0.18894\n",
       "1449  2016-412     V135              11          0        0.03007\n",
       "1450  2016-412     T196              12          0        0.01611\n",
       "1451  2016-412     V002              13          0        0.00375\n",
       "1452  2016-412     A139              14          0        0.01395"
      ]
     },
     "execution_count": 24,
     "metadata": {},
     "output_type": "execute_result"
    }
   ],
   "source": [
    "check_race_id = val_horse_race_df['race_id'].sample(1).values[0]\n",
    "use_cols = ['race_id', 'horse_id', 'clean_position', target, pred_col]\n",
    "val_horse_race_df[val_horse_race_df['race_id']==check_race_id][use_cols]"
   ]
  },
  {
   "cell_type": "code",
   "execution_count": 25,
   "id": "439cef05-8b95-4c35-9983-0e2e71122d30",
   "metadata": {},
   "outputs": [],
   "source": [
    "eval_dict = {}\n",
    "ground_truth = {}\n",
    "lgbm_v0_preds = [] \n",
    "\n",
    "for race in val_horse_race_df['race_id'].unique():\n",
    "    race_df = val_horse_race_df[val_horse_race_df['race_id']==race]\n",
    "    n_horse = race_df.shape[0]    \n",
    "    eval_dict[race] = {}\n",
    "    eval_dict[race]['ground_truth'] = race_df['clean_position'].values\n",
    "    eval_dict[race][pred_col] = race_df[pred_col].values"
   ]
  },
  {
   "cell_type": "code",
   "execution_count": 26,
   "id": "8f7348e5-4399-4f50-954e-00f89f77283e",
   "metadata": {},
   "outputs": [],
   "source": [
    "eval_result, lgbmv0_results_df = evaluate_prediction_sets(eval_dict)"
   ]
  },
  {
   "cell_type": "code",
   "execution_count": 27,
   "id": "a90da785-6b3e-4c3a-9f3c-07407a14bb98",
   "metadata": {},
   "outputs": [
    {
     "data": {
      "text/html": [
       "<div>\n",
       "<style scoped>\n",
       "    .dataframe tbody tr th:only-of-type {\n",
       "        vertical-align: middle;\n",
       "    }\n",
       "\n",
       "    .dataframe tbody tr th {\n",
       "        vertical-align: top;\n",
       "    }\n",
       "\n",
       "    .dataframe thead th {\n",
       "        text-align: right;\n",
       "    }\n",
       "</style>\n",
       "<table border=\"1\" class=\"dataframe\">\n",
       "  <thead>\n",
       "    <tr style=\"text-align: right;\">\n",
       "      <th></th>\n",
       "      <th>lgbm_v0_preds</th>\n",
       "    </tr>\n",
       "  </thead>\n",
       "  <tbody>\n",
       "    <tr>\n",
       "      <th>Winner Match</th>\n",
       "      <td>0.39530</td>\n",
       "    </tr>\n",
       "    <tr>\n",
       "      <th>Top 3 Set Match</th>\n",
       "      <td>0.10568</td>\n",
       "    </tr>\n",
       "    <tr>\n",
       "      <th>Top 3 Exact Match</th>\n",
       "      <td>0.03131</td>\n",
       "    </tr>\n",
       "  </tbody>\n",
       "</table>\n",
       "</div>"
      ],
      "text/plain": [
       "                   lgbm_v0_preds\n",
       "Winner Match             0.39530\n",
       "Top 3 Set Match          0.10568\n",
       "Top 3 Exact Match        0.03131"
      ]
     },
     "execution_count": 27,
     "metadata": {},
     "output_type": "execute_result"
    }
   ],
   "source": [
    "lgbmv0_results_df"
   ]
  },
  {
   "cell_type": "code",
   "execution_count": 28,
   "id": "48d3752d-dded-4d5d-a8cb-41bd3d5c7d3c",
   "metadata": {},
   "outputs": [
    {
     "data": {
      "text/html": [
       "<div>\n",
       "<style scoped>\n",
       "    .dataframe tbody tr th:only-of-type {\n",
       "        vertical-align: middle;\n",
       "    }\n",
       "\n",
       "    .dataframe tbody tr th {\n",
       "        vertical-align: top;\n",
       "    }\n",
       "\n",
       "    .dataframe thead th {\n",
       "        text-align: right;\n",
       "    }\n",
       "</style>\n",
       "<table border=\"1\" class=\"dataframe\">\n",
       "  <thead>\n",
       "    <tr style=\"text-align: right;\">\n",
       "      <th></th>\n",
       "      <th>random_probs</th>\n",
       "      <th>winning_odd_preds</th>\n",
       "      <th>lgbm_v0_preds</th>\n",
       "    </tr>\n",
       "  </thead>\n",
       "  <tbody>\n",
       "    <tr>\n",
       "      <th>Winner Match</th>\n",
       "      <td>0.07632</td>\n",
       "      <td>0.29354</td>\n",
       "      <td>0.39530</td>\n",
       "    </tr>\n",
       "    <tr>\n",
       "      <th>Top 3 Set Match</th>\n",
       "      <td>0.00783</td>\n",
       "      <td>0.05871</td>\n",
       "      <td>0.10568</td>\n",
       "    </tr>\n",
       "    <tr>\n",
       "      <th>Top 3 Exact Match</th>\n",
       "      <td>0.00196</td>\n",
       "      <td>0.00978</td>\n",
       "      <td>0.03131</td>\n",
       "    </tr>\n",
       "  </tbody>\n",
       "</table>\n",
       "</div>"
      ],
      "text/plain": [
       "                   random_probs  winning_odd_preds  lgbm_v0_preds\n",
       "Winner Match            0.07632            0.29354        0.39530\n",
       "Top 3 Set Match         0.00783            0.05871        0.10568\n",
       "Top 3 Exact Match       0.00196            0.00978        0.03131"
      ]
     },
     "execution_count": 28,
     "metadata": {},
     "output_type": "execute_result"
    }
   ],
   "source": [
    "compare_results = baseline_mean_results.copy()\n",
    "compare_results[pred_col] = lgbmv0_results_df[pred_col]\n",
    "compare_results"
   ]
  },
  {
   "cell_type": "code",
   "execution_count": null,
   "id": "4ec0b2b4-43f9-4fab-81de-4c3e55f12d3c",
   "metadata": {},
   "outputs": [],
   "source": []
  },
  {
   "cell_type": "markdown",
   "id": "19aa4b2d-9b81-492e-9992-e5a8487b99cf",
   "metadata": {},
   "source": [
    "# top 3 modelling"
   ]
  },
  {
   "cell_type": "code",
   "execution_count": 29,
   "id": "839a59ab-7ecd-4395-abfc-67fe577c5d69",
   "metadata": {},
   "outputs": [
    {
     "name": "stdout",
     "output_type": "stream",
     "text": [
      "(23232, 15) (6288, 15)\n",
      "Validation LogLoss: 0.4456\n"
     ]
    }
   ],
   "source": [
    "params = {\n",
    "    'objective': 'binary',\n",
    "    'metric': 'binary_logloss',\n",
    "    'boosting_type': 'gbdt',\n",
    "    'n_estimators':300,\n",
    "    'num_leaves': 32,\n",
    "    'learning_rate': 0.05,\n",
    "    'feature_fraction': 0.8,  # Column sampling\n",
    "    'bagging_fraction': 0.8,  # Row sampling \n",
    "    'bagging_freq': 5,\n",
    "    'verbose': -1,\n",
    "    'max_depth': -1,\n",
    "    'min_child_samples': 20,\n",
    "    'is_unbalance': True  # Handle unbalanced datasets\n",
    "}\n",
    "\n",
    "\n",
    "# first past featureset:\n",
    "target = 'is_top3'\n",
    "basic_num_features = ['horse_number', 'clean_actual_weight', 'clean_declared_horse_weight',\n",
    "                  'clean_win_odds', 'race_distance', 'clean_position_mavg_3', 'clean_position_mavg_5',\n",
    "                     'clean_position_mavg_7']\n",
    "\n",
    "\n",
    "basic_cat_features = basic_cat_ordinal_df.columns.tolist()\n",
    "\n",
    "df = pd.concat([horse_race_df[basic_num_features], basic_cat_ordinal_df], axis=1)\n",
    "df[target] = horse_race_df[target]\n",
    "\n",
    "train_df = df.loc[train_idx]\n",
    "val_df = df.loc[val_idx]\n",
    "\n",
    "print(train_df.shape, val_df.shape)\n",
    "\n",
    "model, val_preds = train_lightgbm_model(train_df, val_df, target,\n",
    "                                        cat_features=basic_cat_features, params=params)"
   ]
  },
  {
   "cell_type": "code",
   "execution_count": 45,
   "id": "f3c05df8-e8f5-43f6-993d-bd30620bd3f6",
   "metadata": {},
   "outputs": [],
   "source": [
    "val_horse_race_df = horse_race_df.loc[val_idx].reset_index(drop=True)\n",
    "pred_col = f'lgbm_v0_preds_{target}'\n",
    "val_horse_race_df[pred_col] = val_preds"
   ]
  },
  {
   "cell_type": "code",
   "execution_count": 46,
   "id": "39478673-d742-4cd7-8eba-cea51fafcc7a",
   "metadata": {},
   "outputs": [
    {
     "data": {
      "text/html": [
       "<div>\n",
       "<style scoped>\n",
       "    .dataframe tbody tr th:only-of-type {\n",
       "        vertical-align: middle;\n",
       "    }\n",
       "\n",
       "    .dataframe tbody tr th {\n",
       "        vertical-align: top;\n",
       "    }\n",
       "\n",
       "    .dataframe thead th {\n",
       "        text-align: right;\n",
       "    }\n",
       "</style>\n",
       "<table border=\"1\" class=\"dataframe\">\n",
       "  <thead>\n",
       "    <tr style=\"text-align: right;\">\n",
       "      <th></th>\n",
       "      <th>race_id</th>\n",
       "      <th>horse_id</th>\n",
       "      <th>clean_position</th>\n",
       "      <th>is_top3</th>\n",
       "      <th>lgbm_v0_preds_is_top3</th>\n",
       "    </tr>\n",
       "  </thead>\n",
       "  <tbody>\n",
       "    <tr>\n",
       "      <th>4863</th>\n",
       "      <td>2016-690</td>\n",
       "      <td>V060</td>\n",
       "      <td>1</td>\n",
       "      <td>1</td>\n",
       "      <td>0.68253</td>\n",
       "    </tr>\n",
       "    <tr>\n",
       "      <th>4864</th>\n",
       "      <td>2016-690</td>\n",
       "      <td>S205</td>\n",
       "      <td>2</td>\n",
       "      <td>1</td>\n",
       "      <td>0.55973</td>\n",
       "    </tr>\n",
       "    <tr>\n",
       "      <th>4865</th>\n",
       "      <td>2016-690</td>\n",
       "      <td>S074</td>\n",
       "      <td>3</td>\n",
       "      <td>1</td>\n",
       "      <td>0.23369</td>\n",
       "    </tr>\n",
       "    <tr>\n",
       "      <th>4866</th>\n",
       "      <td>2016-690</td>\n",
       "      <td>V179</td>\n",
       "      <td>4</td>\n",
       "      <td>0</td>\n",
       "      <td>0.15813</td>\n",
       "    </tr>\n",
       "    <tr>\n",
       "      <th>4867</th>\n",
       "      <td>2016-690</td>\n",
       "      <td>T045</td>\n",
       "      <td>5</td>\n",
       "      <td>0</td>\n",
       "      <td>0.27722</td>\n",
       "    </tr>\n",
       "    <tr>\n",
       "      <th>4868</th>\n",
       "      <td>2016-690</td>\n",
       "      <td>T089</td>\n",
       "      <td>6</td>\n",
       "      <td>0</td>\n",
       "      <td>0.45844</td>\n",
       "    </tr>\n",
       "    <tr>\n",
       "      <th>4869</th>\n",
       "      <td>2016-690</td>\n",
       "      <td>T203</td>\n",
       "      <td>7</td>\n",
       "      <td>0</td>\n",
       "      <td>0.18228</td>\n",
       "    </tr>\n",
       "    <tr>\n",
       "      <th>4870</th>\n",
       "      <td>2016-690</td>\n",
       "      <td>V365</td>\n",
       "      <td>8</td>\n",
       "      <td>0</td>\n",
       "      <td>0.39994</td>\n",
       "    </tr>\n",
       "    <tr>\n",
       "      <th>4871</th>\n",
       "      <td>2016-690</td>\n",
       "      <td>P130</td>\n",
       "      <td>9</td>\n",
       "      <td>0</td>\n",
       "      <td>0.03846</td>\n",
       "    </tr>\n",
       "    <tr>\n",
       "      <th>4872</th>\n",
       "      <td>2016-690</td>\n",
       "      <td>V220</td>\n",
       "      <td>10</td>\n",
       "      <td>0</td>\n",
       "      <td>0.17500</td>\n",
       "    </tr>\n",
       "    <tr>\n",
       "      <th>4873</th>\n",
       "      <td>2016-690</td>\n",
       "      <td>S300</td>\n",
       "      <td>11</td>\n",
       "      <td>0</td>\n",
       "      <td>0.00287</td>\n",
       "    </tr>\n",
       "    <tr>\n",
       "      <th>4874</th>\n",
       "      <td>2016-690</td>\n",
       "      <td>V061</td>\n",
       "      <td>12</td>\n",
       "      <td>0</td>\n",
       "      <td>0.00165</td>\n",
       "    </tr>\n",
       "    <tr>\n",
       "      <th>4875</th>\n",
       "      <td>2016-690</td>\n",
       "      <td>S376</td>\n",
       "      <td>13</td>\n",
       "      <td>0</td>\n",
       "      <td>0.00065</td>\n",
       "    </tr>\n",
       "    <tr>\n",
       "      <th>4876</th>\n",
       "      <td>2016-690</td>\n",
       "      <td>P205</td>\n",
       "      <td>14</td>\n",
       "      <td>0</td>\n",
       "      <td>0.00088</td>\n",
       "    </tr>\n",
       "  </tbody>\n",
       "</table>\n",
       "</div>"
      ],
      "text/plain": [
       "       race_id horse_id  clean_position  is_top3  lgbm_v0_preds_is_top3\n",
       "4863  2016-690     V060               1        1                0.68253\n",
       "4864  2016-690     S205               2        1                0.55973\n",
       "4865  2016-690     S074               3        1                0.23369\n",
       "4866  2016-690     V179               4        0                0.15813\n",
       "4867  2016-690     T045               5        0                0.27722\n",
       "4868  2016-690     T089               6        0                0.45844\n",
       "4869  2016-690     T203               7        0                0.18228\n",
       "4870  2016-690     V365               8        0                0.39994\n",
       "4871  2016-690     P130               9        0                0.03846\n",
       "4872  2016-690     V220              10        0                0.17500\n",
       "4873  2016-690     S300              11        0                0.00287\n",
       "4874  2016-690     V061              12        0                0.00165\n",
       "4875  2016-690     S376              13        0                0.00065\n",
       "4876  2016-690     P205              14        0                0.00088"
      ]
     },
     "execution_count": 46,
     "metadata": {},
     "output_type": "execute_result"
    }
   ],
   "source": [
    "check_race_id = val_horse_race_df['race_id'].sample(1).values[0]\n",
    "use_cols = ['race_id', 'horse_id', 'clean_position', target, pred_col]\n",
    "val_horse_race_df[val_horse_race_df['race_id']==check_race_id][use_cols]"
   ]
  },
  {
   "cell_type": "code",
   "execution_count": 47,
   "id": "ac8cd51e-5b5b-4a99-97f8-8b1eb3cfcbca",
   "metadata": {},
   "outputs": [],
   "source": [
    "eval_dict = {}\n",
    "ground_truth = {}\n",
    "lgbm_v0_preds = [] \n",
    "\n",
    "for race in val_horse_race_df['race_id'].unique():\n",
    "    race_df = val_horse_race_df[val_horse_race_df['race_id']==race]\n",
    "    n_horse = race_df.shape[0]    \n",
    "    eval_dict[race] = {}\n",
    "    eval_dict[race]['ground_truth'] = race_df['clean_position'].values\n",
    "    eval_dict[race][pred_col] = race_df[pred_col].values"
   ]
  },
  {
   "cell_type": "code",
   "execution_count": 49,
   "id": "d13d9b2e-4757-4cd9-a4ac-de2a4705c476",
   "metadata": {},
   "outputs": [],
   "source": [
    "eval_result, lgbmv0_results_df = evaluate_prediction_sets(eval_dict)"
   ]
  },
  {
   "cell_type": "code",
   "execution_count": 50,
   "id": "d4724851-73b0-4108-b581-2aa74765b777",
   "metadata": {},
   "outputs": [
    {
     "data": {
      "text/html": [
       "<div>\n",
       "<style scoped>\n",
       "    .dataframe tbody tr th:only-of-type {\n",
       "        vertical-align: middle;\n",
       "    }\n",
       "\n",
       "    .dataframe tbody tr th {\n",
       "        vertical-align: top;\n",
       "    }\n",
       "\n",
       "    .dataframe thead th {\n",
       "        text-align: right;\n",
       "    }\n",
       "</style>\n",
       "<table border=\"1\" class=\"dataframe\">\n",
       "  <thead>\n",
       "    <tr style=\"text-align: right;\">\n",
       "      <th></th>\n",
       "      <th>lgbm_v0_preds_is_top3</th>\n",
       "    </tr>\n",
       "  </thead>\n",
       "  <tbody>\n",
       "    <tr>\n",
       "      <th>Winner Match</th>\n",
       "      <td>0.41683</td>\n",
       "    </tr>\n",
       "    <tr>\n",
       "      <th>Top 3 Set Match</th>\n",
       "      <td>0.12720</td>\n",
       "    </tr>\n",
       "    <tr>\n",
       "      <th>Top 3 Exact Match</th>\n",
       "      <td>0.03327</td>\n",
       "    </tr>\n",
       "  </tbody>\n",
       "</table>\n",
       "</div>"
      ],
      "text/plain": [
       "                   lgbm_v0_preds_is_top3\n",
       "Winner Match                     0.41683\n",
       "Top 3 Set Match                  0.12720\n",
       "Top 3 Exact Match                0.03327"
      ]
     },
     "execution_count": 50,
     "metadata": {},
     "output_type": "execute_result"
    }
   ],
   "source": [
    "lgbmv0_results_df"
   ]
  },
  {
   "cell_type": "code",
   "execution_count": 52,
   "id": "80b2bd2e-bda9-4260-84be-cc7ec58f243c",
   "metadata": {},
   "outputs": [
    {
     "data": {
      "text/html": [
       "<div>\n",
       "<style scoped>\n",
       "    .dataframe tbody tr th:only-of-type {\n",
       "        vertical-align: middle;\n",
       "    }\n",
       "\n",
       "    .dataframe tbody tr th {\n",
       "        vertical-align: top;\n",
       "    }\n",
       "\n",
       "    .dataframe thead th {\n",
       "        text-align: right;\n",
       "    }\n",
       "</style>\n",
       "<table border=\"1\" class=\"dataframe\">\n",
       "  <thead>\n",
       "    <tr style=\"text-align: right;\">\n",
       "      <th></th>\n",
       "      <th>random_probs</th>\n",
       "      <th>winning_odd_preds</th>\n",
       "      <th>lgbm_v0_preds_is_top3</th>\n",
       "    </tr>\n",
       "  </thead>\n",
       "  <tbody>\n",
       "    <tr>\n",
       "      <th>Winner Match</th>\n",
       "      <td>0.07632</td>\n",
       "      <td>0.29354</td>\n",
       "      <td>0.41683</td>\n",
       "    </tr>\n",
       "    <tr>\n",
       "      <th>Top 3 Set Match</th>\n",
       "      <td>0.00783</td>\n",
       "      <td>0.05871</td>\n",
       "      <td>0.12720</td>\n",
       "    </tr>\n",
       "    <tr>\n",
       "      <th>Top 3 Exact Match</th>\n",
       "      <td>0.00196</td>\n",
       "      <td>0.00978</td>\n",
       "      <td>0.03327</td>\n",
       "    </tr>\n",
       "  </tbody>\n",
       "</table>\n",
       "</div>"
      ],
      "text/plain": [
       "                   random_probs  winning_odd_preds  lgbm_v0_preds_is_top3\n",
       "Winner Match            0.07632            0.29354                0.41683\n",
       "Top 3 Set Match         0.00783            0.05871                0.12720\n",
       "Top 3 Exact Match       0.00196            0.00978                0.03327"
      ]
     },
     "execution_count": 52,
     "metadata": {},
     "output_type": "execute_result"
    }
   ],
   "source": [
    "compare_results = baseline_mean_results.copy()\n",
    "compare_results[pred_col] = lgbmv0_results_df[pred_col]\n",
    "compare_results"
   ]
  },
  {
   "cell_type": "code",
   "execution_count": null,
   "id": "3b6671a4-a5b3-4caf-ad57-445188591b1f",
   "metadata": {},
   "outputs": [],
   "source": []
  },
  {
   "cell_type": "markdown",
   "id": "2bc7cc0c-3381-4259-9c3a-8f495641b105",
   "metadata": {},
   "source": [
    "# enhanced modelling with additional features"
   ]
  },
  {
   "cell_type": "code",
   "execution_count": 54,
   "id": "44b03578-e4d0-4ba8-bf46-9ca25b487bd5",
   "metadata": {},
   "outputs": [
    {
     "data": {
      "text/plain": [
       "<module 'project_tools.project_class' from '/home/yifan/playground/hk_horse_racing/project_tools/project_class.py'>"
      ]
     },
     "execution_count": 54,
     "metadata": {},
     "output_type": "execute_result"
    }
   ],
   "source": []
  },
  {
   "cell_type": "code",
   "execution_count": 53,
   "id": "f33ab672-f1cc-426b-a157-b6e18a5d2eb3",
   "metadata": {},
   "outputs": [
    {
     "name": "stdout",
     "output_type": "stream",
     "text": [
      "basic_cat_ordinal_features.parquet\n",
      "horse_class_feats.parquet\n",
      "horse_feats.parquet\n",
      "horse_race_df.parquet\n",
      "horse_running_position_features.parquet\n",
      "horse_track_running_position_features.parquet\n",
      "race_course_features.parquet\n",
      "trace_condition.parquet\n",
      "train_horse_positions_df.parquet\n",
      "train_horse_race_df.parquet\n",
      "train_jockey_positions_df.parquet\n",
      "train_trainer_positions_df.parquet\n",
      "val_horse_race_df.parquet\n"
     ]
    }
   ],
   "source": [
    "!ls ../feature_data/"
   ]
  },
  {
   "cell_type": "markdown",
   "id": "08b9e136-bd9f-4592-b129-c21a56f9ee21",
   "metadata": {},
   "source": [
    "## uniform feature"
   ]
  },
  {
   "cell_type": "code",
   "execution_count": 222,
   "id": "0f62cc22-61e5-47ab-99b9-a9bdf92fd732",
   "metadata": {},
   "outputs": [],
   "source": [
    "\n",
    "\n",
    "basic_num_features = ['horse_number', 'clean_actual_weight', 'clean_declared_horse_weight',\n",
    "                  'clean_win_odds', 'race_distance', 'clean_position_mavg_3', 'clean_position_mavg_5',\n",
    "                     'clean_position_mavg_7']\n",
    "\n",
    "\n",
    "basic_cat_features = basic_cat_ordinal_df.columns.tolist()\n",
    "\n",
    "df0 = pd.concat([horse_race_df[basic_num_features], basic_cat_ordinal_df], axis=1)\n",
    "# df0[target] = horse_race_df[target]\n"
   ]
  },
  {
   "cell_type": "code",
   "execution_count": 223,
   "id": "dbdbb90e-85f8-4e43-a7b2-9fe8db4b726f",
   "metadata": {},
   "outputs": [
    {
     "data": {
      "text/plain": [
       "Index(['jockey', 'trainer', 'race_course', 'race_course_track', 'race_class',\n",
       "       'track_condition'],\n",
       "      dtype='object')"
      ]
     },
     "execution_count": 223,
     "metadata": {},
     "output_type": "execute_result"
    }
   ],
   "source": [
    "basic_cat_ordinal_df.columns"
   ]
  },
  {
   "cell_type": "code",
   "execution_count": 224,
   "id": "9a5cabae-6935-4f27-a311-aa7213731b02",
   "metadata": {},
   "outputs": [
    {
     "name": "stdout",
     "output_type": "stream",
     "text": [
      "(29520, 6) (29520, 27) (29520, 6)\n"
     ]
    }
   ],
   "source": [
    "reload(project_class)\n",
    "\n",
    "\n",
    "# binary encoding\n",
    "lbl_enc = project_class.DataFrameLabelTransformer()\n",
    "lbl_df = lbl_enc.fit_transform(horse_race_df[basic_cat_features].copy())\n",
    "\n",
    "binary_enc = project_class.DataFrameBinaryEncoder(cat_cols=basic_cat_features,  verbose=False)\n",
    "bin_df = binary_enc.fit_transform(lbl_df)\n",
    "\n",
    "freq_df = project_utils.freq_encoding(lbl_df)\n",
    "\n",
    "print(lbl_df.shape, bin_df.shape,freq_df.shape)"
   ]
  },
  {
   "cell_type": "code",
   "execution_count": null,
   "id": "9fbb0507-52a0-409a-bfca-214afcf5bf94",
   "metadata": {},
   "outputs": [],
   "source": []
  },
  {
   "cell_type": "markdown",
   "id": "fbc0e6ae-e2cc-4dc9-880e-3f2b4a0a8552",
   "metadata": {},
   "source": [
    "##  feature from train df only"
   ]
  },
  {
   "cell_type": "code",
   "execution_count": 225,
   "id": "96002b5b-1677-4bda-8d8e-04f0e50781a1",
   "metadata": {},
   "outputs": [],
   "source": [
    "def convert_date_to_int(date_str: str) -> int:\n",
    "    \"\"\"\n",
    "    Convert date string in YYYY-MM-DD format to integer that preserves ordering\n",
    "    \n",
    "    Args:\n",
    "        date_str: Date string in YYYY-MM-DD format\n",
    "        \n",
    "    Returns:\n",
    "        Integer in format YYYYMMDD\n",
    "        \n",
    "    Example:\n",
    "        '2015-11-18' -> 20151118\n",
    "        '2016-03-31' -> 20160331\n",
    "    \"\"\"\n",
    "    # Remove hyphens and convert to integer\n",
    "    return int(date_str.replace('-', ''))"
   ]
  },
  {
   "cell_type": "code",
   "execution_count": 226,
   "id": "b5b4c3b8-f786-421f-a642-fe10799645b7",
   "metadata": {},
   "outputs": [],
   "source": [
    "race_df = pd.read_csv('../data/race-result-race.csv')\n",
    "race_df['clean_race_date'] = race_df['race_date'].apply(lambda x:convert_date_to_int(x))\n",
    "race_df['year'] = race_df['race_date'].apply(lambda x:x[0:4])\n",
    "race_df['race_course_track'] = race_df['race_course'] + '_' + race_df['track']"
   ]
  },
  {
   "cell_type": "code",
   "execution_count": 227,
   "id": "2654d12d-c75d-48f3-b0bc-ebfa8b6c1e60",
   "metadata": {},
   "outputs": [],
   "source": [
    "train_years = ['2014','2015','2016']\n",
    "val_years = ['2017']\n",
    "train_race_df = race_df[race_df['year'].isin(train_years)]\n"
   ]
  },
  {
   "cell_type": "code",
   "execution_count": 74,
   "id": "4fb12da9-8137-4090-a75a-a2b9e389353c",
   "metadata": {},
   "outputs": [],
   "source": []
  },
  {
   "cell_type": "code",
   "execution_count": 228,
   "id": "728065f9-91af-4b13-aec0-c4be12cff011",
   "metadata": {},
   "outputs": [
    {
     "data": {
      "application/vnd.jupyter.widget-view+json": {
       "model_id": "3ab5d91912554716b76d15836f4b2e6f",
       "version_major": 2,
       "version_minor": 0
      },
      "text/plain": [
       "  0%|          | 0/1856 [00:00<?, ?it/s]"
      ]
     },
     "metadata": {},
     "output_type": "display_data"
    }
   ],
   "source": [
    "# race_course_feature\n",
    "# Pattern classification\n",
    "def classify_race_pattern(times):\n",
    "    times = times.astype(float)\n",
    "    diffs = np.diff(times)\n",
    "    if all(diffs < 0):\n",
    "        return 'progressive_speedup'\n",
    "    elif all(diffs > 0):\n",
    "        return 'progressive_slowdown'\n",
    "    elif diffs[0] < 0 and diffs[-1] > 0:\n",
    "        return 'middle_burst'\n",
    "    elif diffs[0] > 0 and diffs[-1] < 0:\n",
    "        return 'strong_finish'\n",
    "    return 'mixed'\n",
    "\n",
    "\n",
    "race_course_features = []\n",
    "for i,row in tqdm(train_race_df.iterrows(), total=len(train_race_df)):\n",
    "    stime_items = np.array(row['sectional_time'].split(' ')).astype(float)    \n",
    "    item_dict = dict()\n",
    "    # item_dict['race_id'] = row['race_id']\n",
    "    item_dict['race_course_track'] = row['race_course_track']\n",
    "    item_dict['race_stime_min'] = stime_items.min()\n",
    "    item_dict['race_stime_max'] = stime_items.max()\n",
    "    item_dict['race_stime_mean'] = stime_items.mean()\n",
    "    item_dict['race_stime_std'] = stime_items.std()\n",
    "    stime_diffs = np.diff(stime_items)\n",
    "    # item_dict['race_stime_diffs'] = stime_diffs\n",
    "    item_dict['race_stime_pace_variance'] = np.var(stime_diffs)\n",
    "    item_dict['race_stime_max_pace_change'] = np.abs(stime_diffs).max()\n",
    "    item_dict['race_stime_skewness'] = stats.skew(stime_items)\n",
    "    \n",
    "    item_dict['race_stime_first_half_avg'] = np.mean(stime_items[:len(stime_items)//2].astype(float))\n",
    "    item_dict['race_stime_second_half_avg'] = np.mean(stime_items[len(stime_items)//2:].astype(float))\n",
    "    item_dict['race_stime_speed_bias'] = item_dict['race_stime_second_half_avg'] - item_dict['race_stime_first_half_avg']  # Negative means faster finish\n",
    "\n",
    "    # Percentile-based features\n",
    "    stime_percentiles = np.percentile(stime_items.astype(float), [25, 75])\n",
    "    item_dict['race_stime_iqr'] = stime_percentiles[1] - stime_percentiles[0]\n",
    "\n",
    "    # Section comparisons\n",
    "    item_dict['race_stime_fastest_section_idx'] = np.argmin(stime_items.astype(float))\n",
    "    item_dict['race_stime_slowest_section_idx'] = np.argmax(stime_items.astype(float))\n",
    "\n",
    "    # Trend analysis\n",
    "    item_dict['race_stime_faster'] = all(stime_diffs < 0)  # True if consistently speeding up\n",
    "    item_dict['race_stime_slower'] = all(stime_diffs > 0)  # True if consistently slowing down\n",
    "\n",
    "  \n",
    "    # item_dict['race_pattern'] = classify_race_pattern(stime_items)\n",
    "    race_course_features.append(item_dict)    \n",
    "# break\n",
    "# stime_\n",
    "\n",
    "train_rc_features = pd.DataFrame.from_dict(race_course_features)\n",
    "train_rc_features['race_stime_faster'] = train_rc_features['race_stime_faster'].astype(np.int8) \n",
    "train_rc_features['race_stime_slower'] = train_rc_features['race_stime_slower'].astype(np.int8) "
   ]
  },
  {
   "cell_type": "code",
   "execution_count": 97,
   "id": "7685aad3-cd5c-47ff-8a22-3e103dcdf62c",
   "metadata": {},
   "outputs": [
    {
     "data": {
      "text/html": [
       "<div>\n",
       "<style scoped>\n",
       "    .dataframe tbody tr th:only-of-type {\n",
       "        vertical-align: middle;\n",
       "    }\n",
       "\n",
       "    .dataframe tbody tr th {\n",
       "        vertical-align: top;\n",
       "    }\n",
       "\n",
       "    .dataframe thead th {\n",
       "        text-align: right;\n",
       "    }\n",
       "</style>\n",
       "<table border=\"1\" class=\"dataframe\">\n",
       "  <thead>\n",
       "    <tr style=\"text-align: right;\">\n",
       "      <th></th>\n",
       "      <th>race_course_track</th>\n",
       "      <th>race_stime_min</th>\n",
       "      <th>race_stime_max</th>\n",
       "      <th>race_stime_mean</th>\n",
       "      <th>race_stime_std</th>\n",
       "      <th>race_stime_pace_variance</th>\n",
       "      <th>race_stime_max_pace_change</th>\n",
       "      <th>race_stime_skewness</th>\n",
       "      <th>race_stime_first_half_avg</th>\n",
       "      <th>race_stime_second_half_avg</th>\n",
       "      <th>race_stime_speed_bias</th>\n",
       "      <th>race_stime_iqr</th>\n",
       "      <th>race_stime_fastest_section_idx</th>\n",
       "      <th>race_stime_slowest_section_idx</th>\n",
       "      <th>race_stime_faster</th>\n",
       "      <th>race_stime_slower</th>\n",
       "    </tr>\n",
       "  </thead>\n",
       "  <tbody>\n",
       "    <tr>\n",
       "      <th>0</th>\n",
       "      <td>Sha Tin_TURF - \"A\" COURSE</td>\n",
       "      <td>13.59000</td>\n",
       "      <td>23.55000</td>\n",
       "      <td>20.58250</td>\n",
       "      <td>4.07222</td>\n",
       "      <td>13.42247</td>\n",
       "      <td>8.49000</td>\n",
       "      <td>-1.09679</td>\n",
       "      <td>17.83500</td>\n",
       "      <td>23.33000</td>\n",
       "      <td>5.49500</td>\n",
       "      <td>3.26250</td>\n",
       "      <td>0</td>\n",
       "      <td>3</td>\n",
       "      <td>0</td>\n",
       "      <td>1</td>\n",
       "    </tr>\n",
       "    <tr>\n",
       "      <th>1</th>\n",
       "      <td>Sha Tin_TURF - \"A\" COURSE</td>\n",
       "      <td>13.55000</td>\n",
       "      <td>22.89000</td>\n",
       "      <td>20.38500</td>\n",
       "      <td>3.95432</td>\n",
       "      <td>15.75707</td>\n",
       "      <td>8.70000</td>\n",
       "      <td>-1.14070</td>\n",
       "      <td>17.90000</td>\n",
       "      <td>22.87000</td>\n",
       "      <td>4.97000</td>\n",
       "      <td>2.78500</td>\n",
       "      <td>0</td>\n",
       "      <td>2</td>\n",
       "      <td>0</td>\n",
       "      <td>0</td>\n",
       "    </tr>\n",
       "    <tr>\n",
       "      <th>2</th>\n",
       "      <td>Sha Tin_TURF - \"A\" COURSE</td>\n",
       "      <td>22.25000</td>\n",
       "      <td>24.06000</td>\n",
       "      <td>23.32333</td>\n",
       "      <td>0.77633</td>\n",
       "      <td>2.59210</td>\n",
       "      <td>1.81000</td>\n",
       "      <td>-0.56894</td>\n",
       "      <td>24.06000</td>\n",
       "      <td>22.95500</td>\n",
       "      <td>-1.10500</td>\n",
       "      <td>0.90500</td>\n",
       "      <td>1</td>\n",
       "      <td>0</td>\n",
       "      <td>0</td>\n",
       "      <td>0</td>\n",
       "    </tr>\n",
       "    <tr>\n",
       "      <th>3</th>\n",
       "      <td>Sha Tin_TURF - \"A\" COURSE</td>\n",
       "      <td>22.47000</td>\n",
       "      <td>23.42000</td>\n",
       "      <td>22.79000</td>\n",
       "      <td>0.44550</td>\n",
       "      <td>0.21622</td>\n",
       "      <td>0.94000</td>\n",
       "      <td>0.70684</td>\n",
       "      <td>23.42000</td>\n",
       "      <td>22.47500</td>\n",
       "      <td>-0.94500</td>\n",
       "      <td>0.47500</td>\n",
       "      <td>2</td>\n",
       "      <td>0</td>\n",
       "      <td>1</td>\n",
       "      <td>0</td>\n",
       "    </tr>\n",
       "    <tr>\n",
       "      <th>4</th>\n",
       "      <td>Sha Tin_TURF - \"A\" COURSE</td>\n",
       "      <td>22.62000</td>\n",
       "      <td>24.00000</td>\n",
       "      <td>23.08667</td>\n",
       "      <td>0.64588</td>\n",
       "      <td>0.49000</td>\n",
       "      <td>1.38000</td>\n",
       "      <td>0.70660</td>\n",
       "      <td>24.00000</td>\n",
       "      <td>22.63000</td>\n",
       "      <td>-1.37000</td>\n",
       "      <td>0.69000</td>\n",
       "      <td>1</td>\n",
       "      <td>0</td>\n",
       "      <td>0</td>\n",
       "      <td>0</td>\n",
       "    </tr>\n",
       "  </tbody>\n",
       "</table>\n",
       "</div>"
      ],
      "text/plain": [
       "           race_course_track  race_stime_min  race_stime_max  race_stime_mean  \\\n",
       "0  Sha Tin_TURF - \"A\" COURSE        13.59000        23.55000         20.58250   \n",
       "1  Sha Tin_TURF - \"A\" COURSE        13.55000        22.89000         20.38500   \n",
       "2  Sha Tin_TURF - \"A\" COURSE        22.25000        24.06000         23.32333   \n",
       "3  Sha Tin_TURF - \"A\" COURSE        22.47000        23.42000         22.79000   \n",
       "4  Sha Tin_TURF - \"A\" COURSE        22.62000        24.00000         23.08667   \n",
       "\n",
       "   race_stime_std  race_stime_pace_variance  race_stime_max_pace_change  \\\n",
       "0         4.07222                  13.42247                     8.49000   \n",
       "1         3.95432                  15.75707                     8.70000   \n",
       "2         0.77633                   2.59210                     1.81000   \n",
       "3         0.44550                   0.21622                     0.94000   \n",
       "4         0.64588                   0.49000                     1.38000   \n",
       "\n",
       "   race_stime_skewness  race_stime_first_half_avg  race_stime_second_half_avg  \\\n",
       "0             -1.09679                   17.83500                    23.33000   \n",
       "1             -1.14070                   17.90000                    22.87000   \n",
       "2             -0.56894                   24.06000                    22.95500   \n",
       "3              0.70684                   23.42000                    22.47500   \n",
       "4              0.70660                   24.00000                    22.63000   \n",
       "\n",
       "   race_stime_speed_bias  race_stime_iqr  race_stime_fastest_section_idx  \\\n",
       "0                5.49500         3.26250                               0   \n",
       "1                4.97000         2.78500                               0   \n",
       "2               -1.10500         0.90500                               1   \n",
       "3               -0.94500         0.47500                               2   \n",
       "4               -1.37000         0.69000                               1   \n",
       "\n",
       "   race_stime_slowest_section_idx  race_stime_faster  race_stime_slower  \n",
       "0                               3                  0                  1  \n",
       "1                               2                  0                  0  \n",
       "2                               0                  0                  0  \n",
       "3                               0                  1                  0  \n",
       "4                               0                  0                  0  "
      ]
     },
     "execution_count": 97,
     "metadata": {},
     "output_type": "execute_result"
    }
   ],
   "source": [
    "train_rc_features.head(5)"
   ]
  },
  {
   "cell_type": "code",
   "execution_count": 229,
   "id": "46d86a19-08ad-4898-8c11-b6ed3090aba1",
   "metadata": {
    "scrolled": true
   },
   "outputs": [
    {
     "name": "stdout",
     "output_type": "stream",
     "text": [
      "['race_stime_min', 'race_stime_max', 'race_stime_mean', 'race_stime_std', 'race_stime_pace_variance', 'race_stime_max_pace_change', 'race_stime_skewness', 'race_stime_first_half_avg', 'race_stime_second_half_avg', 'race_stime_speed_bias', 'race_stime_iqr', 'race_stime_fastest_section_idx', 'race_stime_slowest_section_idx', 'race_stime_faster', 'race_stime_slower']\n"
     ]
    }
   ],
   "source": [
    "groupby_feats1 = ['race_course_track']\n",
    "numfeats = [col for col in train_rc_features.columns if 'stime' in col]\n",
    "stat = ['median', 'mean', 'std'] \n",
    "print(numfeats)\n",
    "\n",
    "agg_recipies = [\n",
    "    [groupby_feats1, numfeats, stat],\n",
    "]\n",
    "\n",
    "res_dfs = project_utils.groupby_agg_execution(agg_recipies, train_rc_features, verbose=False)"
   ]
  },
  {
   "cell_type": "code",
   "execution_count": 111,
   "id": "01d0f7ed-1bf9-4f2f-850e-d8f8ff62a013",
   "metadata": {},
   "outputs": [
    {
     "data": {
      "text/plain": [
       "dict_keys(['race_course_track'])"
      ]
     },
     "execution_count": 111,
     "metadata": {},
     "output_type": "execute_result"
    }
   ],
   "source": [
    "res_dfs.keys()"
   ]
  },
  {
   "cell_type": "code",
   "execution_count": 230,
   "id": "f22a97d3-5af6-4921-8ac8-757633cddd6c",
   "metadata": {},
   "outputs": [
    {
     "data": {
      "text/plain": [
       "(11, 46)"
      ]
     },
     "execution_count": 230,
     "metadata": {},
     "output_type": "execute_result"
    }
   ],
   "source": [
    "train_track_features = res_dfs['race_course_track']\n",
    "train_track_features.shape"
   ]
  },
  {
   "cell_type": "code",
   "execution_count": 114,
   "id": "5f0d81b8-8e14-4877-b6e6-1417b410ac09",
   "metadata": {},
   "outputs": [
    {
     "data": {
      "text/html": [
       "<div>\n",
       "<style scoped>\n",
       "    .dataframe tbody tr th:only-of-type {\n",
       "        vertical-align: middle;\n",
       "    }\n",
       "\n",
       "    .dataframe tbody tr th {\n",
       "        vertical-align: top;\n",
       "    }\n",
       "\n",
       "    .dataframe thead th {\n",
       "        text-align: right;\n",
       "    }\n",
       "</style>\n",
       "<table border=\"1\" class=\"dataframe\">\n",
       "  <thead>\n",
       "    <tr style=\"text-align: right;\">\n",
       "      <th></th>\n",
       "      <th>race_course_track</th>\n",
       "      <th>race_course_track_race_stime_min_median</th>\n",
       "      <th>race_course_track_race_stime_min_mean</th>\n",
       "      <th>race_course_track_race_stime_min_std</th>\n",
       "      <th>race_course_track_race_stime_max_median</th>\n",
       "      <th>race_course_track_race_stime_max_mean</th>\n",
       "      <th>race_course_track_race_stime_max_std</th>\n",
       "      <th>race_course_track_race_stime_mean_median</th>\n",
       "      <th>race_course_track_race_stime_mean_mean</th>\n",
       "      <th>race_course_track_race_stime_mean_std</th>\n",
       "      <th>race_course_track_race_stime_std_median</th>\n",
       "      <th>race_course_track_race_stime_std_mean</th>\n",
       "      <th>race_course_track_race_stime_std_std</th>\n",
       "      <th>race_course_track_race_stime_pace_variance_median</th>\n",
       "      <th>race_course_track_race_stime_pace_variance_mean</th>\n",
       "      <th>race_course_track_race_stime_pace_variance_std</th>\n",
       "      <th>race_course_track_race_stime_max_pace_change_median</th>\n",
       "      <th>race_course_track_race_stime_max_pace_change_mean</th>\n",
       "      <th>race_course_track_race_stime_max_pace_change_std</th>\n",
       "      <th>race_course_track_race_stime_skewness_median</th>\n",
       "      <th>race_course_track_race_stime_skewness_mean</th>\n",
       "      <th>race_course_track_race_stime_skewness_std</th>\n",
       "      <th>race_course_track_race_stime_first_half_avg_median</th>\n",
       "      <th>race_course_track_race_stime_first_half_avg_mean</th>\n",
       "      <th>race_course_track_race_stime_first_half_avg_std</th>\n",
       "      <th>race_course_track_race_stime_second_half_avg_median</th>\n",
       "      <th>race_course_track_race_stime_second_half_avg_mean</th>\n",
       "      <th>race_course_track_race_stime_second_half_avg_std</th>\n",
       "      <th>race_course_track_race_stime_speed_bias_median</th>\n",
       "      <th>race_course_track_race_stime_speed_bias_mean</th>\n",
       "      <th>race_course_track_race_stime_speed_bias_std</th>\n",
       "      <th>race_course_track_race_stime_iqr_median</th>\n",
       "      <th>race_course_track_race_stime_iqr_mean</th>\n",
       "      <th>race_course_track_race_stime_iqr_std</th>\n",
       "      <th>race_course_track_race_stime_fastest_section_idx_median</th>\n",
       "      <th>race_course_track_race_stime_fastest_section_idx_mean</th>\n",
       "      <th>race_course_track_race_stime_fastest_section_idx_std</th>\n",
       "      <th>race_course_track_race_stime_slowest_section_idx_median</th>\n",
       "      <th>race_course_track_race_stime_slowest_section_idx_mean</th>\n",
       "      <th>race_course_track_race_stime_slowest_section_idx_std</th>\n",
       "      <th>race_course_track_race_stime_faster_median</th>\n",
       "      <th>race_course_track_race_stime_faster_mean</th>\n",
       "      <th>race_course_track_race_stime_faster_std</th>\n",
       "      <th>race_course_track_race_stime_slower_median</th>\n",
       "      <th>race_course_track_race_stime_slower_mean</th>\n",
       "      <th>race_course_track_race_stime_slower_std</th>\n",
       "    </tr>\n",
       "  </thead>\n",
       "  <tbody>\n",
       "    <tr>\n",
       "      <th>0</th>\n",
       "      <td>Happy Valley_TURF - \"A\" COURSE</td>\n",
       "      <td>22.99500</td>\n",
       "      <td>20.71226</td>\n",
       "      <td>4.51233</td>\n",
       "      <td>24.39000</td>\n",
       "      <td>25.36313</td>\n",
       "      <td>1.81016</td>\n",
       "      <td>23.48667</td>\n",
       "      <td>23.40191</td>\n",
       "      <td>1.92967</td>\n",
       "      <td>1.35544</td>\n",
       "      <td>1.84206</td>\n",
       "      <td>1.63844</td>\n",
       "      <td>2.00096</td>\n",
       "      <td>4.88883</td>\n",
       "      <td>5.87544</td>\n",
       "      <td>2.89500</td>\n",
       "      <td>3.83187</td>\n",
       "      <td>3.26914</td>\n",
       "      <td>-0.12201</td>\n",
       "      <td>-0.07547</td>\n",
       "      <td>0.78228</td>\n",
       "      <td>23.82500</td>\n",
       "      <td>22.49121</td>\n",
       "      <td>4.39373</td>\n",
       "      <td>23.64000</td>\n",
       "      <td>23.81973</td>\n",
       "      <td>0.84688</td>\n",
       "      <td>-0.44000</td>\n",
       "      <td>1.32852</td>\n",
       "      <td>4.04285</td>\n",
       "      <td>1.16500</td>\n",
       "      <td>1.60840</td>\n",
       "      <td>1.52435</td>\n",
       "      <td>1.00000</td>\n",
       "      <td>1.29808</td>\n",
       "      <td>1.09791</td>\n",
       "      <td>0.00000</td>\n",
       "      <td>0.93269</td>\n",
       "      <td>1.11437</td>\n",
       "      <td>0.00000</td>\n",
       "      <td>0.16346</td>\n",
       "      <td>0.37068</td>\n",
       "      <td>0.00000</td>\n",
       "      <td>0.12019</td>\n",
       "      <td>0.32597</td>\n",
       "    </tr>\n",
       "    <tr>\n",
       "      <th>1</th>\n",
       "      <td>Happy Valley_TURF - \"B\" COURSE</td>\n",
       "      <td>22.98000</td>\n",
       "      <td>20.50457</td>\n",
       "      <td>4.51400</td>\n",
       "      <td>24.41500</td>\n",
       "      <td>25.51085</td>\n",
       "      <td>2.00364</td>\n",
       "      <td>23.48500</td>\n",
       "      <td>23.34649</td>\n",
       "      <td>1.96114</td>\n",
       "      <td>1.58717</td>\n",
       "      <td>1.97962</td>\n",
       "      <td>1.63447</td>\n",
       "      <td>2.53601</td>\n",
       "      <td>5.55892</td>\n",
       "      <td>6.23762</td>\n",
       "      <td>3.49500</td>\n",
       "      <td>4.16793</td>\n",
       "      <td>3.33367</td>\n",
       "      <td>-0.17046</td>\n",
       "      <td>-0.05671</td>\n",
       "      <td>0.83323</td>\n",
       "      <td>23.87000</td>\n",
       "      <td>22.45639</td>\n",
       "      <td>4.53552</td>\n",
       "      <td>23.61000</td>\n",
       "      <td>23.73327</td>\n",
       "      <td>0.83003</td>\n",
       "      <td>-0.52500</td>\n",
       "      <td>1.27688</td>\n",
       "      <td>4.20237</td>\n",
       "      <td>1.28000</td>\n",
       "      <td>1.69468</td>\n",
       "      <td>1.57438</td>\n",
       "      <td>1.00000</td>\n",
       "      <td>1.24468</td>\n",
       "      <td>1.08155</td>\n",
       "      <td>0.00000</td>\n",
       "      <td>0.90957</td>\n",
       "      <td>1.10773</td>\n",
       "      <td>0.00000</td>\n",
       "      <td>0.15426</td>\n",
       "      <td>0.36216</td>\n",
       "      <td>0.00000</td>\n",
       "      <td>0.14362</td>\n",
       "      <td>0.35164</td>\n",
       "    </tr>\n",
       "  </tbody>\n",
       "</table>\n",
       "</div>"
      ],
      "text/plain": [
       "                race_course_track  race_course_track_race_stime_min_median  \\\n",
       "0  Happy Valley_TURF - \"A\" COURSE                                 22.99500   \n",
       "1  Happy Valley_TURF - \"B\" COURSE                                 22.98000   \n",
       "\n",
       "   race_course_track_race_stime_min_mean  \\\n",
       "0                               20.71226   \n",
       "1                               20.50457   \n",
       "\n",
       "   race_course_track_race_stime_min_std  \\\n",
       "0                               4.51233   \n",
       "1                               4.51400   \n",
       "\n",
       "   race_course_track_race_stime_max_median  \\\n",
       "0                                 24.39000   \n",
       "1                                 24.41500   \n",
       "\n",
       "   race_course_track_race_stime_max_mean  \\\n",
       "0                               25.36313   \n",
       "1                               25.51085   \n",
       "\n",
       "   race_course_track_race_stime_max_std  \\\n",
       "0                               1.81016   \n",
       "1                               2.00364   \n",
       "\n",
       "   race_course_track_race_stime_mean_median  \\\n",
       "0                                  23.48667   \n",
       "1                                  23.48500   \n",
       "\n",
       "   race_course_track_race_stime_mean_mean  \\\n",
       "0                                23.40191   \n",
       "1                                23.34649   \n",
       "\n",
       "   race_course_track_race_stime_mean_std  \\\n",
       "0                                1.92967   \n",
       "1                                1.96114   \n",
       "\n",
       "   race_course_track_race_stime_std_median  \\\n",
       "0                                  1.35544   \n",
       "1                                  1.58717   \n",
       "\n",
       "   race_course_track_race_stime_std_mean  \\\n",
       "0                                1.84206   \n",
       "1                                1.97962   \n",
       "\n",
       "   race_course_track_race_stime_std_std  \\\n",
       "0                               1.63844   \n",
       "1                               1.63447   \n",
       "\n",
       "   race_course_track_race_stime_pace_variance_median  \\\n",
       "0                                            2.00096   \n",
       "1                                            2.53601   \n",
       "\n",
       "   race_course_track_race_stime_pace_variance_mean  \\\n",
       "0                                          4.88883   \n",
       "1                                          5.55892   \n",
       "\n",
       "   race_course_track_race_stime_pace_variance_std  \\\n",
       "0                                         5.87544   \n",
       "1                                         6.23762   \n",
       "\n",
       "   race_course_track_race_stime_max_pace_change_median  \\\n",
       "0                                              2.89500   \n",
       "1                                              3.49500   \n",
       "\n",
       "   race_course_track_race_stime_max_pace_change_mean  \\\n",
       "0                                            3.83187   \n",
       "1                                            4.16793   \n",
       "\n",
       "   race_course_track_race_stime_max_pace_change_std  \\\n",
       "0                                           3.26914   \n",
       "1                                           3.33367   \n",
       "\n",
       "   race_course_track_race_stime_skewness_median  \\\n",
       "0                                      -0.12201   \n",
       "1                                      -0.17046   \n",
       "\n",
       "   race_course_track_race_stime_skewness_mean  \\\n",
       "0                                    -0.07547   \n",
       "1                                    -0.05671   \n",
       "\n",
       "   race_course_track_race_stime_skewness_std  \\\n",
       "0                                    0.78228   \n",
       "1                                    0.83323   \n",
       "\n",
       "   race_course_track_race_stime_first_half_avg_median  \\\n",
       "0                                            23.82500   \n",
       "1                                            23.87000   \n",
       "\n",
       "   race_course_track_race_stime_first_half_avg_mean  \\\n",
       "0                                          22.49121   \n",
       "1                                          22.45639   \n",
       "\n",
       "   race_course_track_race_stime_first_half_avg_std  \\\n",
       "0                                          4.39373   \n",
       "1                                          4.53552   \n",
       "\n",
       "   race_course_track_race_stime_second_half_avg_median  \\\n",
       "0                                             23.64000   \n",
       "1                                             23.61000   \n",
       "\n",
       "   race_course_track_race_stime_second_half_avg_mean  \\\n",
       "0                                           23.81973   \n",
       "1                                           23.73327   \n",
       "\n",
       "   race_course_track_race_stime_second_half_avg_std  \\\n",
       "0                                           0.84688   \n",
       "1                                           0.83003   \n",
       "\n",
       "   race_course_track_race_stime_speed_bias_median  \\\n",
       "0                                        -0.44000   \n",
       "1                                        -0.52500   \n",
       "\n",
       "   race_course_track_race_stime_speed_bias_mean  \\\n",
       "0                                       1.32852   \n",
       "1                                       1.27688   \n",
       "\n",
       "   race_course_track_race_stime_speed_bias_std  \\\n",
       "0                                      4.04285   \n",
       "1                                      4.20237   \n",
       "\n",
       "   race_course_track_race_stime_iqr_median  \\\n",
       "0                                  1.16500   \n",
       "1                                  1.28000   \n",
       "\n",
       "   race_course_track_race_stime_iqr_mean  \\\n",
       "0                                1.60840   \n",
       "1                                1.69468   \n",
       "\n",
       "   race_course_track_race_stime_iqr_std  \\\n",
       "0                               1.52435   \n",
       "1                               1.57438   \n",
       "\n",
       "   race_course_track_race_stime_fastest_section_idx_median  \\\n",
       "0                                                  1.00000   \n",
       "1                                                  1.00000   \n",
       "\n",
       "   race_course_track_race_stime_fastest_section_idx_mean  \\\n",
       "0                                                1.29808   \n",
       "1                                                1.24468   \n",
       "\n",
       "   race_course_track_race_stime_fastest_section_idx_std  \\\n",
       "0                                               1.09791   \n",
       "1                                               1.08155   \n",
       "\n",
       "   race_course_track_race_stime_slowest_section_idx_median  \\\n",
       "0                                                  0.00000   \n",
       "1                                                  0.00000   \n",
       "\n",
       "   race_course_track_race_stime_slowest_section_idx_mean  \\\n",
       "0                                                0.93269   \n",
       "1                                                0.90957   \n",
       "\n",
       "   race_course_track_race_stime_slowest_section_idx_std  \\\n",
       "0                                               1.11437   \n",
       "1                                               1.10773   \n",
       "\n",
       "   race_course_track_race_stime_faster_median  \\\n",
       "0                                     0.00000   \n",
       "1                                     0.00000   \n",
       "\n",
       "   race_course_track_race_stime_faster_mean  \\\n",
       "0                                   0.16346   \n",
       "1                                   0.15426   \n",
       "\n",
       "   race_course_track_race_stime_faster_std  \\\n",
       "0                                  0.37068   \n",
       "1                                  0.36216   \n",
       "\n",
       "   race_course_track_race_stime_slower_median  \\\n",
       "0                                     0.00000   \n",
       "1                                     0.00000   \n",
       "\n",
       "   race_course_track_race_stime_slower_mean  \\\n",
       "0                                   0.12019   \n",
       "1                                   0.14362   \n",
       "\n",
       "   race_course_track_race_stime_slower_std  \n",
       "0                                  0.32597  \n",
       "1                                  0.35164  "
      ]
     },
     "execution_count": 114,
     "metadata": {},
     "output_type": "execute_result"
    }
   ],
   "source": [
    "train_track_features.head(2)"
   ]
  },
  {
   "cell_type": "markdown",
   "id": "ca6a884b-e1c5-4d9c-9351-fa35b59139c1",
   "metadata": {},
   "source": [
    "##  train_df horse level groupby"
   ]
  },
  {
   "cell_type": "code",
   "execution_count": 231,
   "id": "e6ad48bf-4f40-4c08-bfb2-ad70f21e4c63",
   "metadata": {},
   "outputs": [],
   "source": [
    "# train_df horse level groupby\n",
    "horse_race_df = pd.read_parquet('../feature_data/horse_race_df.parquet')\n",
    "horse_race_df_train =  horse_race_df.loc[train_idx].copy()\n"
   ]
  },
  {
   "cell_type": "code",
   "execution_count": 232,
   "id": "f05e2da2-b390-4ae1-8328-01a889f279e5",
   "metadata": {
    "scrolled": true
   },
   "outputs": [
    {
     "data": {
      "text/plain": [
       "(1895, 37)"
      ]
     },
     "execution_count": 232,
     "metadata": {},
     "output_type": "execute_result"
    }
   ],
   "source": [
    "groupby_feats1 = ['horse_id']\n",
    "numfeats = ['clean_length_behind_winner', 'clean_actual_weight', 'clean_declared_horse_weight', 'clean_win_odds', \n",
    "            'running_position_1', 'running_position_2', 'running_position_3', 'running_position_4', \n",
    "            'running_position_5', 'running_position_6', 'race_distance', 'clean_position']\n",
    "stat = ['median', 'mean', 'std'] \n",
    "\n",
    "agg_recipies = [\n",
    "    [groupby_feats1, numfeats, stat],\n",
    "]\n",
    "res_dfs = project_utils.groupby_agg_execution(agg_recipies, horse_race_df_train, verbose=False)\n",
    "train_horse_groupby_features = res_dfs['horse_id']\n",
    "train_horse_groupby_features.shape"
   ]
  },
  {
   "cell_type": "code",
   "execution_count": 157,
   "id": "4ef90d2f-b72e-440f-ba9e-e57b3419f908",
   "metadata": {},
   "outputs": [
    {
     "data": {
      "text/html": [
       "<div>\n",
       "<style scoped>\n",
       "    .dataframe tbody tr th:only-of-type {\n",
       "        vertical-align: middle;\n",
       "    }\n",
       "\n",
       "    .dataframe tbody tr th {\n",
       "        vertical-align: top;\n",
       "    }\n",
       "\n",
       "    .dataframe thead th {\n",
       "        text-align: right;\n",
       "    }\n",
       "</style>\n",
       "<table border=\"1\" class=\"dataframe\">\n",
       "  <thead>\n",
       "    <tr style=\"text-align: right;\">\n",
       "      <th></th>\n",
       "      <th>horse_id</th>\n",
       "      <th>horse_id_clean_length_behind_winner_median</th>\n",
       "      <th>horse_id_clean_length_behind_winner_mean</th>\n",
       "      <th>horse_id_clean_length_behind_winner_std</th>\n",
       "      <th>horse_id_clean_actual_weight_median</th>\n",
       "      <th>horse_id_clean_actual_weight_mean</th>\n",
       "      <th>horse_id_clean_actual_weight_std</th>\n",
       "      <th>horse_id_clean_declared_horse_weight_median</th>\n",
       "      <th>horse_id_clean_declared_horse_weight_mean</th>\n",
       "      <th>horse_id_clean_declared_horse_weight_std</th>\n",
       "      <th>horse_id_clean_win_odds_median</th>\n",
       "      <th>horse_id_clean_win_odds_mean</th>\n",
       "      <th>horse_id_clean_win_odds_std</th>\n",
       "      <th>horse_id_running_position_1_median</th>\n",
       "      <th>horse_id_running_position_1_mean</th>\n",
       "      <th>horse_id_running_position_1_std</th>\n",
       "      <th>horse_id_running_position_2_median</th>\n",
       "      <th>horse_id_running_position_2_mean</th>\n",
       "      <th>horse_id_running_position_2_std</th>\n",
       "      <th>horse_id_running_position_3_median</th>\n",
       "      <th>horse_id_running_position_3_mean</th>\n",
       "      <th>horse_id_running_position_3_std</th>\n",
       "      <th>horse_id_running_position_4_median</th>\n",
       "      <th>horse_id_running_position_4_mean</th>\n",
       "      <th>horse_id_running_position_4_std</th>\n",
       "      <th>horse_id_running_position_5_median</th>\n",
       "      <th>horse_id_running_position_5_mean</th>\n",
       "      <th>horse_id_running_position_5_std</th>\n",
       "      <th>horse_id_running_position_6_median</th>\n",
       "      <th>horse_id_running_position_6_mean</th>\n",
       "      <th>horse_id_running_position_6_std</th>\n",
       "      <th>horse_id_race_distance_median</th>\n",
       "      <th>horse_id_race_distance_mean</th>\n",
       "      <th>horse_id_race_distance_std</th>\n",
       "      <th>horse_id_clean_position_median</th>\n",
       "      <th>horse_id_clean_position_mean</th>\n",
       "      <th>horse_id_clean_position_std</th>\n",
       "    </tr>\n",
       "  </thead>\n",
       "  <tbody>\n",
       "    <tr>\n",
       "      <th>0</th>\n",
       "      <td>A001</td>\n",
       "      <td>4.00000</td>\n",
       "      <td>4.00000</td>\n",
       "      <td>NaN</td>\n",
       "      <td>125.00000</td>\n",
       "      <td>125.00000</td>\n",
       "      <td>NaN</td>\n",
       "      <td>1083.00000</td>\n",
       "      <td>1083.00000</td>\n",
       "      <td>NaN</td>\n",
       "      <td>49.00000</td>\n",
       "      <td>49.00000</td>\n",
       "      <td>NaN</td>\n",
       "      <td>9.00000</td>\n",
       "      <td>9.00000</td>\n",
       "      <td>NaN</td>\n",
       "      <td>7.00000</td>\n",
       "      <td>7.00000</td>\n",
       "      <td>NaN</td>\n",
       "      <td>11.00000</td>\n",
       "      <td>11.00000</td>\n",
       "      <td>NaN</td>\n",
       "      <td>NaN</td>\n",
       "      <td>NaN</td>\n",
       "      <td>NaN</td>\n",
       "      <td>NaN</td>\n",
       "      <td>NaN</td>\n",
       "      <td>NaN</td>\n",
       "      <td>NaN</td>\n",
       "      <td>NaN</td>\n",
       "      <td>NaN</td>\n",
       "      <td>1200.00000</td>\n",
       "      <td>1200.00000</td>\n",
       "      <td>NaN</td>\n",
       "      <td>11.00000</td>\n",
       "      <td>11.00000</td>\n",
       "      <td>NaN</td>\n",
       "    </tr>\n",
       "    <tr>\n",
       "      <th>1</th>\n",
       "      <td>A002</td>\n",
       "      <td>0.75000</td>\n",
       "      <td>0.70000</td>\n",
       "      <td>0.57663</td>\n",
       "      <td>130.00000</td>\n",
       "      <td>129.00000</td>\n",
       "      <td>3.60555</td>\n",
       "      <td>1096.00000</td>\n",
       "      <td>1095.00000</td>\n",
       "      <td>6.55744</td>\n",
       "      <td>3.69922</td>\n",
       "      <td>4.63281</td>\n",
       "      <td>2.43686</td>\n",
       "      <td>4.00000</td>\n",
       "      <td>3.66667</td>\n",
       "      <td>1.52753</td>\n",
       "      <td>4.00000</td>\n",
       "      <td>4.66667</td>\n",
       "      <td>1.15470</td>\n",
       "      <td>4.00000</td>\n",
       "      <td>4.66667</td>\n",
       "      <td>1.15470</td>\n",
       "      <td>2.00000</td>\n",
       "      <td>3.66667</td>\n",
       "      <td>2.88675</td>\n",
       "      <td>2.00000</td>\n",
       "      <td>2.00000</td>\n",
       "      <td>NaN</td>\n",
       "      <td>2.00000</td>\n",
       "      <td>2.00000</td>\n",
       "      <td>NaN</td>\n",
       "      <td>1600.00000</td>\n",
       "      <td>1800.00000</td>\n",
       "      <td>346.41016</td>\n",
       "      <td>2.00000</td>\n",
       "      <td>2.00000</td>\n",
       "      <td>0.00000</td>\n",
       "    </tr>\n",
       "  </tbody>\n",
       "</table>\n",
       "</div>"
      ],
      "text/plain": [
       "  horse_id  horse_id_clean_length_behind_winner_median  \\\n",
       "0     A001                                     4.00000   \n",
       "1     A002                                     0.75000   \n",
       "\n",
       "   horse_id_clean_length_behind_winner_mean  \\\n",
       "0                                   4.00000   \n",
       "1                                   0.70000   \n",
       "\n",
       "   horse_id_clean_length_behind_winner_std  \\\n",
       "0                                      NaN   \n",
       "1                                  0.57663   \n",
       "\n",
       "   horse_id_clean_actual_weight_median  horse_id_clean_actual_weight_mean  \\\n",
       "0                            125.00000                          125.00000   \n",
       "1                            130.00000                          129.00000   \n",
       "\n",
       "   horse_id_clean_actual_weight_std  \\\n",
       "0                               NaN   \n",
       "1                           3.60555   \n",
       "\n",
       "   horse_id_clean_declared_horse_weight_median  \\\n",
       "0                                   1083.00000   \n",
       "1                                   1096.00000   \n",
       "\n",
       "   horse_id_clean_declared_horse_weight_mean  \\\n",
       "0                                 1083.00000   \n",
       "1                                 1095.00000   \n",
       "\n",
       "   horse_id_clean_declared_horse_weight_std  horse_id_clean_win_odds_median  \\\n",
       "0                                       NaN                        49.00000   \n",
       "1                                   6.55744                         3.69922   \n",
       "\n",
       "   horse_id_clean_win_odds_mean  horse_id_clean_win_odds_std  \\\n",
       "0                      49.00000                          NaN   \n",
       "1                       4.63281                      2.43686   \n",
       "\n",
       "   horse_id_running_position_1_median  horse_id_running_position_1_mean  \\\n",
       "0                             9.00000                           9.00000   \n",
       "1                             4.00000                           3.66667   \n",
       "\n",
       "   horse_id_running_position_1_std  horse_id_running_position_2_median  \\\n",
       "0                              NaN                             7.00000   \n",
       "1                          1.52753                             4.00000   \n",
       "\n",
       "   horse_id_running_position_2_mean  horse_id_running_position_2_std  \\\n",
       "0                           7.00000                              NaN   \n",
       "1                           4.66667                          1.15470   \n",
       "\n",
       "   horse_id_running_position_3_median  horse_id_running_position_3_mean  \\\n",
       "0                            11.00000                          11.00000   \n",
       "1                             4.00000                           4.66667   \n",
       "\n",
       "   horse_id_running_position_3_std  horse_id_running_position_4_median  \\\n",
       "0                              NaN                                 NaN   \n",
       "1                          1.15470                             2.00000   \n",
       "\n",
       "   horse_id_running_position_4_mean  horse_id_running_position_4_std  \\\n",
       "0                               NaN                              NaN   \n",
       "1                           3.66667                          2.88675   \n",
       "\n",
       "   horse_id_running_position_5_median  horse_id_running_position_5_mean  \\\n",
       "0                                 NaN                               NaN   \n",
       "1                             2.00000                           2.00000   \n",
       "\n",
       "   horse_id_running_position_5_std  horse_id_running_position_6_median  \\\n",
       "0                              NaN                                 NaN   \n",
       "1                              NaN                             2.00000   \n",
       "\n",
       "   horse_id_running_position_6_mean  horse_id_running_position_6_std  \\\n",
       "0                               NaN                              NaN   \n",
       "1                           2.00000                              NaN   \n",
       "\n",
       "   horse_id_race_distance_median  horse_id_race_distance_mean  \\\n",
       "0                     1200.00000                   1200.00000   \n",
       "1                     1600.00000                   1800.00000   \n",
       "\n",
       "   horse_id_race_distance_std  horse_id_clean_position_median  \\\n",
       "0                         NaN                        11.00000   \n",
       "1                   346.41016                         2.00000   \n",
       "\n",
       "   horse_id_clean_position_mean  horse_id_clean_position_std  \n",
       "0                      11.00000                          NaN  \n",
       "1                       2.00000                      0.00000  "
      ]
     },
     "execution_count": 157,
     "metadata": {},
     "output_type": "execute_result"
    }
   ],
   "source": [
    "train_horse_groupby_features.head(2)"
   ]
  },
  {
   "cell_type": "markdown",
   "id": "e7ff1e6b-4d33-4556-b381-40a98c15d9ed",
   "metadata": {},
   "source": [
    "##  train_df horse race-track level groupby"
   ]
  },
  {
   "cell_type": "code",
   "execution_count": 233,
   "id": "71cb4252-6f5f-48ab-adf5-b18caebe1b55",
   "metadata": {},
   "outputs": [
    {
     "data": {
      "text/plain": [
       "(10665, 26)"
      ]
     },
     "execution_count": 233,
     "metadata": {},
     "output_type": "execute_result"
    }
   ],
   "source": [
    "groupby_feats = ['horse_id', 'race_course_track']\n",
    "numfeats = ['running_position_1', 'running_position_2', 'running_position_3', 'running_position_4', \n",
    "            'running_position_5', 'running_position_6', 'clean_finish_time', 'clean_win_odds']\n",
    "stat = ['median', 'mean', 'std']  # {'ptp':np.ptp}]#{'sharp':project_utils.get_array_sharpe}]\n",
    "\n",
    "agg_recipies = [\n",
    "    [groupby_feats, numfeats, stat],\n",
    "]\n",
    "res_dfs = project_utils.groupby_agg_execution(agg_recipies, horse_race_df_train, verbose=False)\n",
    "train_horse_track_groupby_stat = res_dfs['horse_id_race_course_track']\n",
    "train_horse_track_groupby_stat.shape"
   ]
  },
  {
   "cell_type": "markdown",
   "id": "a1c593d9-f23b-4279-b3bd-624582284bb9",
   "metadata": {},
   "source": [
    "## jockey, trainer performance features in train dataset"
   ]
  },
  {
   "cell_type": "code",
   "execution_count": 234,
   "id": "3e98f281-4db7-4b9f-8292-ebe06790bf9a",
   "metadata": {},
   "outputs": [
    {
     "name": "stdout",
     "output_type": "stream",
     "text": [
      "(99, 5)\n",
      "(87, 5)\n"
     ]
    }
   ],
   "source": [
    "groupby_feats1 = ['jockey'] \n",
    "groupby_feats2 = ['trainer']\n",
    "numfeats = ['clean_position']\n",
    "stat = ['median', 'mean', 'std', 'count']  # {'ptp':np.ptp}]#{'sharp':project_utils.get_array_sharpe}]\n",
    "\n",
    "\n",
    "agg_recipies = [\n",
    "    [groupby_feats1, numfeats, stat],\n",
    "    [groupby_feats2, numfeats, stat],\n",
    "]\n",
    "res_dfs = project_utils.groupby_agg_execution(agg_recipies, horse_race_df_train, verbose=False)\n",
    "\n",
    "train_jockey_groupby_features = res_dfs['jockey']\n",
    "train_trainer_groupby_features = res_dfs['trainer']\n",
    "print(train_jockey_groupby_features.shape)\n",
    "print(train_trainer_groupby_features.shape)"
   ]
  },
  {
   "cell_type": "markdown",
   "id": "cfbcb961-2abc-4027-b83a-484d90017b55",
   "metadata": {},
   "source": [
    "## feature derived from main horse data"
   ]
  },
  {
   "cell_type": "code",
   "execution_count": 235,
   "id": "cccf8340-e5aa-47d5-8d2d-eae005d5aad4",
   "metadata": {},
   "outputs": [],
   "source": [
    "horse_feats = pd.DataFrame()\n",
    "horse_feats['awght_dwght_ratio'] = horse_race_df['clean_actual_weight'] / horse_race_df['clean_declared_horse_weight']\n",
    "horse_feats['awght_dwght_delta'] = horse_race_df['clean_actual_weight'] - horse_race_df['clean_declared_horse_weight']"
   ]
  },
  {
   "cell_type": "markdown",
   "id": "52421637-9a27-4bc7-9d10-fa1162938c9e",
   "metadata": {},
   "source": [
    "## final feature set aggregation"
   ]
  },
  {
   "cell_type": "code",
   "execution_count": 236,
   "id": "7945caf1-bc76-494d-8910-256e4a49f92f",
   "metadata": {},
   "outputs": [],
   "source": [
    "horse_race_df = pd.read_parquet('../feature_data/horse_race_df.parquet')"
   ]
  },
  {
   "cell_type": "code",
   "execution_count": null,
   "id": "96dfc3a8-54e3-457c-aa26-49f61f85efa2",
   "metadata": {},
   "outputs": [],
   "source": [
    "# concat: bin_df, freq_df, horse_feats\n",
    "# merge: train_track_features, train_horse_groupby_features, train_horse_track_groupby_stat\n",
    "#        train_jockey_groupby_features, train_trainer_groupby_features"
   ]
  },
  {
   "cell_type": "code",
   "execution_count": 237,
   "id": "147dae4c-2062-450a-a5a9-00f76fdd8cfc",
   "metadata": {},
   "outputs": [
    {
     "name": "stdout",
     "output_type": "stream",
     "text": [
      "(29520, 14) (29520, 27) (29520, 6) (29520, 2)\n"
     ]
    }
   ],
   "source": [
    "print(df0.shape, bin_df.shape, freq_df.shape, horse_feats.shape)"
   ]
  },
  {
   "cell_type": "code",
   "execution_count": 262,
   "id": "e7c3467f-d7f7-443d-8ba2-30a4e1a28de7",
   "metadata": {},
   "outputs": [
    {
     "data": {
      "text/plain": [
       "(29520, 49)"
      ]
     },
     "execution_count": 262,
     "metadata": {},
     "output_type": "execute_result"
    }
   ],
   "source": [
    "# concat\n",
    "df1 = pd.concat([df0, bin_df, freq_df, horse_feats], axis=1)\n",
    "df1.shape"
   ]
  },
  {
   "cell_type": "code",
   "execution_count": 265,
   "id": "7a526349-9f7c-4deb-ab9b-6fa8f2e7517e",
   "metadata": {
    "scrolled": true
   },
   "outputs": [
    {
     "name": "stdout",
     "output_type": "stream",
     "text": [
      "113\n"
     ]
    },
    {
     "data": {
      "text/plain": [
       "(29520, 45)"
      ]
     },
     "execution_count": 265,
     "metadata": {},
     "output_type": "execute_result"
    }
   ],
   "source": [
    "# merge_id_cols = [['race_course_track', 'horse_id', 'jockey', 'trainer']\n",
    "merge_dfs = [train_track_features, train_horse_groupby_features, train_horse_track_groupby_stat,\n",
    "            train_jockey_groupby_features, train_trainer_groupby_features]\n",
    "feature_cols = []\n",
    "for mdf in merge_dfs:\n",
    "    use_cols = [c for c in mdf.columns if c not in merge_id_cols]\n",
    "    feature_cols += use_cols\n",
    "print(len(feature_cols))\n",
    "\n",
    "df2 = horse_race_df.copy()\n",
    "df2 = df2.merge(right=train_track_features, on = 'race_course_track', how='left')\n",
    "# df2 = df2.merge(right=train_horse_groupby_features, on = 'horse_id', how='left')\n",
    "# df2 = df2.merge(right=train_horse_track_groupby_stat, on = ['horse_id', 'race_course_track'], how='left')\n",
    "# df2 = df2.merge(right=train_jockey_groupby_features, on = 'jockey', how='left')\n",
    "# df2 = df2.merge(right=train_trainer_groupby_features, on = 'trainer', how='left')\n",
    "\n",
    "use_cols = [c for c in df2.columns if c in feature_cols]\n",
    "\n",
    "df2 = df2[use_cols]\n",
    "df2.shape"
   ]
  },
  {
   "cell_type": "code",
   "execution_count": 266,
   "id": "cc8c9be4-4d16-47f4-8149-293682b5dd48",
   "metadata": {},
   "outputs": [],
   "source": [
    "df3 = pd.concat([df1, df2], axis=1)\n",
    "\n",
    "train_df = df3.loc[train_idx]\n",
    "val_df = df3.loc[val_idx]\n",
    "\n",
    "\n",
    "params = {\n",
    "    'objective': 'binary',\n",
    "    'metric': 'binary_logloss',\n",
    "    'boosting_type': 'gbdt',\n",
    "    'n_estimators':300,\n",
    "    'num_leaves': 32,\n",
    "    'learning_rate': 0.05,\n",
    "    'feature_fraction': 0.8,  # Column sampling\n",
    "    'bagging_fraction': 0.8,  # Row sampling \n",
    "    'bagging_freq': 5,\n",
    "    'verbose': -1,\n",
    "    'max_depth': -1,\n",
    "    'min_child_samples': 20,\n",
    "    'is_unbalance': True  # Handle unbalanced datasets\n",
    "}\n",
    "\n",
    "target1 = 'is_winner'\n",
    "target2 = 'is_top3'\n",
    "basic_cat_features = basic_cat_ordinal_df.columns.tolist()\n",
    "\n",
    "\n"
   ]
  },
  {
   "cell_type": "code",
   "execution_count": 245,
   "id": "2bf04f3a-c541-4c98-bd67-a947b8fc39ef",
   "metadata": {},
   "outputs": [
    {
     "name": "stdout",
     "output_type": "stream",
     "text": [
      "(23232, 163) (6288, 163)\n",
      "Validation LogLoss: 0.7199\n"
     ]
    }
   ],
   "source": [
    "# is_winner modelling\n",
    "df_winner = df3.copy()\n",
    "df_winner[target1] = horse_race_df[target1]\n",
    "\n",
    "train_df = df_winner.loc[train_idx]\n",
    "val_df = df_winner.loc[val_idx]\n",
    "\n",
    "print(train_df.shape, val_df.shape)\n",
    "model_winner, val_winner_preds = train_lightgbm_model(train_df, val_df, target1,\n",
    "                                        cat_features=basic_cat_features, params=params)"
   ]
  },
  {
   "cell_type": "code",
   "execution_count": 251,
   "id": "58cbc9fd-a16a-4caa-a7f4-d37154033238",
   "metadata": {},
   "outputs": [
    {
     "name": "stdout",
     "output_type": "stream",
     "text": [
      "(23232, 163) (6288, 163)\n",
      "Validation LogLoss: 1.0500\n"
     ]
    }
   ],
   "source": [
    "# is_top3 modelling\n",
    "df_top3 = df3.copy()\n",
    "df_top3[target2] = horse_race_df[target2]\n",
    "\n",
    "train_df = df_top3.loc[train_idx]\n",
    "val_df = df_top3.loc[val_idx]\n",
    "\n",
    "print(train_df.shape, val_df.shape)\n",
    "model_top3, val_top3_preds = train_lightgbm_model(train_df, val_df, target2,\n",
    "                                        cat_features=basic_cat_features, params=params)"
   ]
  },
  {
   "cell_type": "markdown",
   "id": "9b4c0acd-d520-4278-8b4c-6edd7f431bbd",
   "metadata": {},
   "source": [
    "## top 1 model evaluation"
   ]
  },
  {
   "cell_type": "code",
   "execution_count": 256,
   "id": "d6ca9e30-d31a-4879-b086-2f25df340446",
   "metadata": {},
   "outputs": [],
   "source": [
    "val_horse_race_df = horse_race_df.loc[val_idx].reset_index(drop=True)\n",
    "pred_col = f'lgbm_v1_preds_{target1}'\n",
    "val_horse_race_df[pred_col] = val_winner_preds\n",
    "\n",
    "eval_dict = {}\n",
    "ground_truth = {}\n",
    "lgbm_v1_preds = [] \n",
    "\n",
    "for race in val_horse_race_df['race_id'].unique():\n",
    "    race_df = val_horse_race_df[val_horse_race_df['race_id']==race]\n",
    "    n_horse = race_df.shape[0]    \n",
    "    eval_dict[race] = {}\n",
    "    eval_dict[race]['ground_truth'] = race_df['clean_position'].values\n",
    "    eval_dict[race][pred_col] = race_df[pred_col].values"
   ]
  },
  {
   "cell_type": "code",
   "execution_count": 257,
   "id": "4be25ba4-a069-4338-8111-ba394a9c0179",
   "metadata": {},
   "outputs": [],
   "source": [
    "eval_result, lgbmv1_iswinner_results_df = evaluate_prediction_sets(eval_dict)"
   ]
  },
  {
   "cell_type": "code",
   "execution_count": 258,
   "id": "d3a93247-f501-4802-96c4-94a00c2a6168",
   "metadata": {},
   "outputs": [
    {
     "data": {
      "text/html": [
       "<div>\n",
       "<style scoped>\n",
       "    .dataframe tbody tr th:only-of-type {\n",
       "        vertical-align: middle;\n",
       "    }\n",
       "\n",
       "    .dataframe tbody tr th {\n",
       "        vertical-align: top;\n",
       "    }\n",
       "\n",
       "    .dataframe thead th {\n",
       "        text-align: right;\n",
       "    }\n",
       "</style>\n",
       "<table border=\"1\" class=\"dataframe\">\n",
       "  <thead>\n",
       "    <tr style=\"text-align: right;\">\n",
       "      <th></th>\n",
       "      <th>lgbm_v1_preds_is_winner</th>\n",
       "    </tr>\n",
       "  </thead>\n",
       "  <tbody>\n",
       "    <tr>\n",
       "      <th>Winner Match</th>\n",
       "      <td>0.27593</td>\n",
       "    </tr>\n",
       "    <tr>\n",
       "      <th>Top 3 Set Match</th>\n",
       "      <td>0.06654</td>\n",
       "    </tr>\n",
       "    <tr>\n",
       "      <th>Top 3 Exact Match</th>\n",
       "      <td>0.01370</td>\n",
       "    </tr>\n",
       "  </tbody>\n",
       "</table>\n",
       "</div>"
      ],
      "text/plain": [
       "                   lgbm_v1_preds_is_winner\n",
       "Winner Match                       0.27593\n",
       "Top 3 Set Match                    0.06654\n",
       "Top 3 Exact Match                  0.01370"
      ]
     },
     "execution_count": 258,
     "metadata": {},
     "output_type": "execute_result"
    }
   ],
   "source": [
    "lgbmv1_iswinner_results_df"
   ]
  },
  {
   "cell_type": "code",
   "execution_count": 259,
   "id": "6a052680-ee94-4045-a9cc-fa5042f58768",
   "metadata": {},
   "outputs": [
    {
     "data": {
      "text/html": [
       "<div>\n",
       "<style scoped>\n",
       "    .dataframe tbody tr th:only-of-type {\n",
       "        vertical-align: middle;\n",
       "    }\n",
       "\n",
       "    .dataframe tbody tr th {\n",
       "        vertical-align: top;\n",
       "    }\n",
       "\n",
       "    .dataframe thead th {\n",
       "        text-align: right;\n",
       "    }\n",
       "</style>\n",
       "<table border=\"1\" class=\"dataframe\">\n",
       "  <thead>\n",
       "    <tr style=\"text-align: right;\">\n",
       "      <th></th>\n",
       "      <th>race_id</th>\n",
       "      <th>horse_id</th>\n",
       "      <th>clean_position</th>\n",
       "      <th>is_top3</th>\n",
       "      <th>lgbm_v1_preds_is_winner</th>\n",
       "    </tr>\n",
       "  </thead>\n",
       "  <tbody>\n",
       "    <tr>\n",
       "      <th>13</th>\n",
       "      <td>2016-298</td>\n",
       "      <td>T099</td>\n",
       "      <td>1</td>\n",
       "      <td>1</td>\n",
       "      <td>0.23011</td>\n",
       "    </tr>\n",
       "    <tr>\n",
       "      <th>14</th>\n",
       "      <td>2016-298</td>\n",
       "      <td>T345</td>\n",
       "      <td>2</td>\n",
       "      <td>1</td>\n",
       "      <td>0.96826</td>\n",
       "    </tr>\n",
       "    <tr>\n",
       "      <th>15</th>\n",
       "      <td>2016-298</td>\n",
       "      <td>T073</td>\n",
       "      <td>3</td>\n",
       "      <td>1</td>\n",
       "      <td>0.00903</td>\n",
       "    </tr>\n",
       "    <tr>\n",
       "      <th>16</th>\n",
       "      <td>2016-298</td>\n",
       "      <td>V306</td>\n",
       "      <td>4</td>\n",
       "      <td>0</td>\n",
       "      <td>0.99303</td>\n",
       "    </tr>\n",
       "    <tr>\n",
       "      <th>17</th>\n",
       "      <td>2016-298</td>\n",
       "      <td>T422</td>\n",
       "      <td>5</td>\n",
       "      <td>0</td>\n",
       "      <td>0.57832</td>\n",
       "    </tr>\n",
       "    <tr>\n",
       "      <th>18</th>\n",
       "      <td>2016-298</td>\n",
       "      <td>T091</td>\n",
       "      <td>6</td>\n",
       "      <td>0</td>\n",
       "      <td>0.01458</td>\n",
       "    </tr>\n",
       "    <tr>\n",
       "      <th>19</th>\n",
       "      <td>2016-298</td>\n",
       "      <td>A031</td>\n",
       "      <td>7</td>\n",
       "      <td>0</td>\n",
       "      <td>0.97403</td>\n",
       "    </tr>\n",
       "    <tr>\n",
       "      <th>20</th>\n",
       "      <td>2016-298</td>\n",
       "      <td>A007</td>\n",
       "      <td>8</td>\n",
       "      <td>0</td>\n",
       "      <td>0.98487</td>\n",
       "    </tr>\n",
       "    <tr>\n",
       "      <th>21</th>\n",
       "      <td>2016-298</td>\n",
       "      <td>A075</td>\n",
       "      <td>9</td>\n",
       "      <td>0</td>\n",
       "      <td>0.92352</td>\n",
       "    </tr>\n",
       "    <tr>\n",
       "      <th>22</th>\n",
       "      <td>2016-298</td>\n",
       "      <td>V317</td>\n",
       "      <td>10</td>\n",
       "      <td>0</td>\n",
       "      <td>0.00034</td>\n",
       "    </tr>\n",
       "    <tr>\n",
       "      <th>23</th>\n",
       "      <td>2016-298</td>\n",
       "      <td>V312</td>\n",
       "      <td>11</td>\n",
       "      <td>0</td>\n",
       "      <td>0.91079</td>\n",
       "    </tr>\n",
       "    <tr>\n",
       "      <th>24</th>\n",
       "      <td>2016-298</td>\n",
       "      <td>S011</td>\n",
       "      <td>12</td>\n",
       "      <td>0</td>\n",
       "      <td>0.00101</td>\n",
       "    </tr>\n",
       "    <tr>\n",
       "      <th>25</th>\n",
       "      <td>2016-298</td>\n",
       "      <td>V389</td>\n",
       "      <td>13</td>\n",
       "      <td>0</td>\n",
       "      <td>0.97786</td>\n",
       "    </tr>\n",
       "    <tr>\n",
       "      <th>26</th>\n",
       "      <td>2016-298</td>\n",
       "      <td>T239</td>\n",
       "      <td>14</td>\n",
       "      <td>0</td>\n",
       "      <td>0.00188</td>\n",
       "    </tr>\n",
       "  </tbody>\n",
       "</table>\n",
       "</div>"
      ],
      "text/plain": [
       "     race_id horse_id  clean_position  is_top3  lgbm_v1_preds_is_winner\n",
       "13  2016-298     T099               1        1                  0.23011\n",
       "14  2016-298     T345               2        1                  0.96826\n",
       "15  2016-298     T073               3        1                  0.00903\n",
       "16  2016-298     V306               4        0                  0.99303\n",
       "17  2016-298     T422               5        0                  0.57832\n",
       "18  2016-298     T091               6        0                  0.01458\n",
       "19  2016-298     A031               7        0                  0.97403\n",
       "20  2016-298     A007               8        0                  0.98487\n",
       "21  2016-298     A075               9        0                  0.92352\n",
       "22  2016-298     V317              10        0                  0.00034\n",
       "23  2016-298     V312              11        0                  0.91079\n",
       "24  2016-298     S011              12        0                  0.00101\n",
       "25  2016-298     V389              13        0                  0.97786\n",
       "26  2016-298     T239              14        0                  0.00188"
      ]
     },
     "execution_count": 259,
     "metadata": {},
     "output_type": "execute_result"
    }
   ],
   "source": [
    "pred_col = f'lgbm_v1_preds_{target1}'\n",
    "check_race_id = val_horse_race_df['race_id'].sample(1).values[0]\n",
    "use_cols = ['race_id', 'horse_id', 'clean_position', target, pred_col]\n",
    "val_horse_race_df[val_horse_race_df['race_id']==check_race_id][use_cols]"
   ]
  },
  {
   "cell_type": "code",
   "execution_count": null,
   "id": "c5e2dc49-98fc-47d6-ac4b-9439f9b47747",
   "metadata": {},
   "outputs": [],
   "source": []
  },
  {
   "cell_type": "markdown",
   "id": "42985c4f-d8a0-44c5-9348-95f17fbf0d79",
   "metadata": {},
   "source": [
    "## top 3 model evaluation"
   ]
  },
  {
   "cell_type": "code",
   "execution_count": 260,
   "id": "6e8f6320-1262-43f8-b8d1-e62b639baa21",
   "metadata": {},
   "outputs": [],
   "source": [
    "val_horse_race_df = horse_race_df.loc[val_idx].reset_index(drop=True)\n",
    "pred_col = f'lgbm_v1_preds_{target2}'\n",
    "val_horse_race_df[pred_col] = val_top3_preds\n",
    "\n",
    "eval_dict = {}\n",
    "ground_truth = {}\n",
    "lgbm_v1_preds = [] \n",
    "\n",
    "for race in val_horse_race_df['race_id'].unique():\n",
    "    race_df = val_horse_race_df[val_horse_race_df['race_id']==race]\n",
    "    n_horse = race_df.shape[0]    \n",
    "    eval_dict[race] = {}\n",
    "    eval_dict[race]['ground_truth'] = race_df['clean_position'].values\n",
    "    eval_dict[race][pred_col] = race_df[pred_col].values\n",
    "\n",
    "eval_result, lgbmv1_istop3_results_df = evaluate_prediction_sets(eval_dict)"
   ]
  },
  {
   "cell_type": "code",
   "execution_count": 261,
   "id": "b0f74e9e-6093-4d24-ad94-cb283d66c015",
   "metadata": {},
   "outputs": [
    {
     "data": {
      "text/html": [
       "<div>\n",
       "<style scoped>\n",
       "    .dataframe tbody tr th:only-of-type {\n",
       "        vertical-align: middle;\n",
       "    }\n",
       "\n",
       "    .dataframe tbody tr th {\n",
       "        vertical-align: top;\n",
       "    }\n",
       "\n",
       "    .dataframe thead th {\n",
       "        text-align: right;\n",
       "    }\n",
       "</style>\n",
       "<table border=\"1\" class=\"dataframe\">\n",
       "  <thead>\n",
       "    <tr style=\"text-align: right;\">\n",
       "      <th></th>\n",
       "      <th>lgbm_v1_preds_is_top3</th>\n",
       "    </tr>\n",
       "  </thead>\n",
       "  <tbody>\n",
       "    <tr>\n",
       "      <th>Winner Match</th>\n",
       "      <td>0.27006</td>\n",
       "    </tr>\n",
       "    <tr>\n",
       "      <th>Top 3 Set Match</th>\n",
       "      <td>0.03327</td>\n",
       "    </tr>\n",
       "    <tr>\n",
       "      <th>Top 3 Exact Match</th>\n",
       "      <td>0.00783</td>\n",
       "    </tr>\n",
       "  </tbody>\n",
       "</table>\n",
       "</div>"
      ],
      "text/plain": [
       "                   lgbm_v1_preds_is_top3\n",
       "Winner Match                     0.27006\n",
       "Top 3 Set Match                  0.03327\n",
       "Top 3 Exact Match                0.00783"
      ]
     },
     "execution_count": 261,
     "metadata": {},
     "output_type": "execute_result"
    }
   ],
   "source": [
    "lgbmv1_istop3_results_df"
   ]
  },
  {
   "cell_type": "code",
   "execution_count": null,
   "id": "a6ee383e-9c4d-4084-baf5-d235a2c9c903",
   "metadata": {},
   "outputs": [],
   "source": []
  },
  {
   "cell_type": "code",
   "execution_count": null,
   "id": "b28b08e7-0f77-4e20-9b1e-20ad3e754414",
   "metadata": {},
   "outputs": [],
   "source": []
  },
  {
   "cell_type": "code",
   "execution_count": null,
   "id": "59c67f78-51a3-4dfe-a19e-b25226ea5fe4",
   "metadata": {},
   "outputs": [],
   "source": []
  },
  {
   "cell_type": "code",
   "execution_count": 124,
   "id": "f11e84a1-feb8-40fb-af60-da81888090a9",
   "metadata": {},
   "outputs": [
    {
     "data": {
      "text/plain": [
       "array([4, 0, 3, 2, 1])"
      ]
     },
     "execution_count": 124,
     "metadata": {},
     "output_type": "execute_result"
    }
   ],
   "source": [
    "y_pred_ranks = np.argsort(y_pred_proba)\n",
    "y_pred_ranks"
   ]
  },
  {
   "cell_type": "code",
   "execution_count": 112,
   "id": "59514f63-ffd0-43dc-8c43-79b7567616ba",
   "metadata": {},
   "outputs": [
    {
     "data": {
      "text/plain": [
       "array([1, 3, 2, 0, 4])"
      ]
     },
     "execution_count": 112,
     "metadata": {},
     "output_type": "execute_result"
    }
   ],
   "source": [
    "np.argsort(y_pred_proba)[::-1]"
   ]
  },
  {
   "cell_type": "markdown",
   "id": "f8b39cc8-1d28-4560-a3fa-b3be528fbdb8",
   "metadata": {},
   "source": [
    "# ad-hoc data analysis"
   ]
  },
  {
   "cell_type": "code",
   "execution_count": 6,
   "id": "1a7e3e04-2543-44b3-8848-616b437ee47f",
   "metadata": {},
   "outputs": [
    {
     "name": "stdout",
     "output_type": "stream",
     "text": [
      "['finishing_position', 'horse_number', 'horse_name', 'horse_id', 'jockey', 'trainer', 'actual_weight', 'declared_horse_weight', 'draw', 'length_behind_winner', 'running_position_1', 'running_position_2', 'running_position_3', 'running_position_4', 'finish_time', 'win_odds', 'running_position_5', 'running_position_6', 'race_id', 'clean_actual_weight', 'clean_declared_horse_weight', 'clean_length_behind_winner', 'clean_finish_time', 'clean_win_odds', 'clean_position', 'is_winner', 'is_top3', 'src', 'race_date', 'race_course', 'race_number', 'race_class', 'race_distance', 'track_condition', 'race_name', 'track', 'sectional_time', 'incident_report', 'race_course_track', 'clean_race_date', 'clean_position_mavg_3', 'clean_position_mavg_5', 'clean_position_mavg_7', 'year']\n"
     ]
    }
   ],
   "source": [
    "print(val_df.columns.tolist())"
   ]
  },
  {
   "cell_type": "code",
   "execution_count": null,
   "id": "19db2664-bd0a-43d6-8a14-49641c744cd5",
   "metadata": {},
   "outputs": [],
   "source": [
    "project_utils.analyze_dataframe(val_df)"
   ]
  },
  {
   "cell_type": "code",
   "execution_count": null,
   "id": "0df4d909-a64d-4274-897b-0c4fcf5c789e",
   "metadata": {},
   "outputs": [],
   "source": []
  },
  {
   "cell_type": "code",
   "execution_count": null,
   "id": "fb219343-e645-4fd2-9f6b-84f43d99c6e9",
   "metadata": {},
   "outputs": [],
   "source": []
  },
  {
   "cell_type": "code",
   "execution_count": null,
   "id": "d90206eb-93d7-4883-a4e8-7f3171f3f889",
   "metadata": {},
   "outputs": [],
   "source": []
  },
  {
   "cell_type": "code",
   "execution_count": null,
   "id": "a2497435-9ca8-4010-b36c-936453ddc0e6",
   "metadata": {},
   "outputs": [],
   "source": []
  },
  {
   "cell_type": "code",
   "execution_count": null,
   "id": "9c63a160-2c11-4f5a-91b1-7ce6604ff57b",
   "metadata": {},
   "outputs": [],
   "source": []
  },
  {
   "cell_type": "code",
   "execution_count": null,
   "id": "358ac490-6ba9-40fc-a355-42388c3234cb",
   "metadata": {},
   "outputs": [],
   "source": []
  }
 ],
 "metadata": {
  "kernelspec": {
   "display_name": "Python [conda env:py310] *",
   "language": "python",
   "name": "conda-env-py310-py"
  },
  "language_info": {
   "codemirror_mode": {
    "name": "ipython",
    "version": 3
   },
   "file_extension": ".py",
   "mimetype": "text/x-python",
   "name": "python",
   "nbconvert_exporter": "python",
   "pygments_lexer": "ipython3",
   "version": "3.10.15"
  }
 },
 "nbformat": 4,
 "nbformat_minor": 5
}
